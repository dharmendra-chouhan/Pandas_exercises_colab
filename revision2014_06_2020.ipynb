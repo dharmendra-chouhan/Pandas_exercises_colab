{
  "nbformat": 4,
  "nbformat_minor": 0,
  "metadata": {
    "colab": {
      "name": "revision2014_06_2020.ipynb",
      "provenance": [],
      "collapsed_sections": [],
      "include_colab_link": true
    },
    "kernelspec": {
      "name": "python3",
      "display_name": "Python 3"
    }
  },
  "cells": [
    {
      "cell_type": "markdown",
      "metadata": {
        "id": "view-in-github",
        "colab_type": "text"
      },
      "source": [
        "<a href=\"https://colab.research.google.com/github/dharmendra-chouhan/Pandas_exercises_colab/blob/master/revision2014_06_2020.ipynb\" target=\"_parent\"><img src=\"https://colab.research.google.com/assets/colab-badge.svg\" alt=\"Open In Colab\"/></a>"
      ]
    },
    {
      "cell_type": "code",
      "metadata": {
        "id": "hK6H8kY4fFL3",
        "colab_type": "code",
        "outputId": "3a30bbec-4ce4-444f-c188-102ad9dd6483",
        "colab": {
          "resources": {
            "http://localhost:8080/nbextensions/google.colab/files.js": {
              "data": "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",
              "ok": true,
              "headers": [
                [
                  "content-type",
                  "application/javascript"
                ]
              ],
              "status": 200,
              "status_text": ""
            }
          },
          "base_uri": "https://localhost:8080/",
          "height": 75
        }
      },
      "source": [
        "from google.colab import files\n",
        "uploaded = files.upload()"
      ],
      "execution_count": 206,
      "outputs": [
        {
          "output_type": "display_data",
          "data": {
            "text/html": [
              "\n",
              "     <input type=\"file\" id=\"files-85f0ad16-85bc-43c2-9da4-286142aa1354\" name=\"files[]\" multiple disabled />\n",
              "     <output id=\"result-85f0ad16-85bc-43c2-9da4-286142aa1354\">\n",
              "      Upload widget is only available when the cell has been executed in the\n",
              "      current browser session. Please rerun this cell to enable.\n",
              "      </output>\n",
              "      <script src=\"/nbextensions/google.colab/files.js\"></script> "
            ],
            "text/plain": [
              "<IPython.core.display.HTML object>"
            ]
          },
          "metadata": {
            "tags": []
          }
        },
        {
          "output_type": "stream",
          "text": [
            "Saving descriptor2014.csv to descriptor2014 (3).csv\n"
          ],
          "name": "stdout"
        }
      ]
    },
    {
      "cell_type": "code",
      "metadata": {
        "id": "RXHCOuybfLXL",
        "colab_type": "code",
        "colab": {}
      },
      "source": [
        "import io\n",
        "import pandas as pd\n",
        "revision2014 = pd.read_csv(io.BytesIO(uploaded['descriptor2014.csv']))\n",
        "df1=revision2014\n"
      ],
      "execution_count": 0,
      "outputs": []
    },
    {
      "cell_type": "code",
      "metadata": {
        "id": "TmWcUWZ6_aQv",
        "colab_type": "code",
        "outputId": "0f73a2f0-cd46-4aea-836a-95b155aa8b75",
        "colab": {
          "base_uri": "https://localhost:8080/",
          "height": 212
        }
      },
      "source": [
        "df1.info()"
      ],
      "execution_count": 208,
      "outputs": [
        {
          "output_type": "stream",
          "text": [
            "<class 'pandas.core.frame.DataFrame'>\n",
            "RangeIndex: 10797 entries, 0 to 10796\n",
            "Data columns (total 6 columns):\n",
            "Descriptor      10797 non-null object\n",
            "LEFT            883 non-null object\n",
            "RIGHT           317 non-null object\n",
            "Confussion      93 non-null float64\n",
            "NO. OF SPLIT    44 non-null float64\n",
            "Unnamed: 5      1 non-null float64\n",
            "dtypes: float64(3), object(3)\n",
            "memory usage: 506.2+ KB\n"
          ],
          "name": "stdout"
        }
      ]
    },
    {
      "cell_type": "code",
      "metadata": {
        "id": "X8KEM5LWTUlo",
        "colab_type": "code",
        "colab": {}
      },
      "source": [
        "scriteria = ['SLDC','SDLDC','BACKDOWN','BDN','BACKBOWN','BD','BACKDN','BACK DOWN','B/D','BKD','BKDW','BACKING BOWN','B/DN']  \n",
        "sstring = '|'.join(scriteria)\n",
        "df1 =  df1[df1['Descriptor'].str.upper().str.contains(sstring)]"
      ],
      "execution_count": 0,
      "outputs": []
    },
    {
      "cell_type": "code",
      "metadata": {
        "id": "19Mu6lsPTZif",
        "colab_type": "code",
        "colab": {}
      },
      "source": [
        "df1=df1.astype(str)"
      ],
      "execution_count": 0,
      "outputs": []
    },
    {
      "cell_type": "code",
      "metadata": {
        "id": "kgesf8NUTd4c",
        "colab_type": "code",
        "colab": {
          "base_uri": "https://localhost:8080/",
          "height": 212
        },
        "outputId": "955bba42-0d8b-47fb-8cf9-fda5bde4e3bd"
      },
      "source": [
        "df1.info()"
      ],
      "execution_count": 211,
      "outputs": [
        {
          "output_type": "stream",
          "text": [
            "<class 'pandas.core.frame.DataFrame'>\n",
            "Int64Index: 5750 entries, 20 to 10796\n",
            "Data columns (total 6 columns):\n",
            "Descriptor      5750 non-null object\n",
            "LEFT            5750 non-null object\n",
            "RIGHT           5750 non-null object\n",
            "Confussion      5750 non-null object\n",
            "NO. OF SPLIT    5750 non-null object\n",
            "Unnamed: 5      5750 non-null object\n",
            "dtypes: object(6)\n",
            "memory usage: 314.5+ KB\n"
          ],
          "name": "stdout"
        }
      ]
    },
    {
      "cell_type": "code",
      "metadata": {
        "id": "h96KA0REfQ5b",
        "colab_type": "code",
        "colab": {}
      },
      "source": [
        "import re\n",
        "import numpy as np\n",
        "\n",
        "def fu_return_from_to_block(p_text,p_left,p_right):\n",
        "\n",
        "  # for index1, row in df1.iterrows():\n",
        "  try:\n",
        "      text =  p_text\n",
        "      left =  p_left\n",
        "      right =  p_right\n",
        "      # print(text,'    ',left,'    ',right,'    ',len(left),'      ',len(right))\n",
        "      list_values=[]\n",
        "      list_values=text[text.index(left)+len(left):len(text)]\n",
        "      # print(p_right)\n",
        "      if len(left)>0 and len(text)>0 and p_right=='NAN':\n",
        "      # and len(right)==0:\n",
        "        a=text[text.index(left)+len(left):len(text)]\n",
        "        if not a:\n",
        "            from_number=0\n",
        "            to_number=0\n",
        "            return from_number,to_number \n",
        "        if len(a)>0:\n",
        "          x=[a]\n",
        "          res = list(map(lambda sub:int(''.join([ele for ele in sub if ele.isnumeric()])), x))\n",
        "\n",
        "          if len(str(res[0]))>4:\n",
        "            from_number=res\n",
        "            to_number=res\n",
        "\n",
        "            return from_number,to_number \n",
        "          from_number=0\n",
        "          to_number=0\n",
        "          if len(str(res[0]))==4:\n",
        "            from_number=str(res[0])[:2]\n",
        "            to_number=str(res[0])[-2:]\n",
        "            # print(text.ljust(100),str(res).ljust(15),str(from_number).ljust(15),str(to_number).ljust(15) ,str(left).ljust(15)  ,right)\n",
        "\n",
        "            return from_number,to_number \n",
        "          elif len(str(res[0]))==3:\n",
        "            from_number=str(res[0])[:1]\n",
        "            to_number=str(res[0])[-2:]\n",
        "            # print(text.ljust(100),str(res).ljust(15),str(from_number).ljust(15),str(to_number).ljust(15) ,str(left).ljust(15)  ,right)\n",
        "\n",
        "            return from_number,to_number \n",
        "          elif len(str(res[0]))==1:\n",
        "            string = str(res[0])\n",
        "            if string.isnumeric():\n",
        "              from_number=str(res[0])[:1]\n",
        "              to_number=str(res[0])[-1:]\n",
        "              # print(text.ljust(100),str(res).ljust(15),str(from_number).ljust(15),str(to_number).ljust(15) ,str(left).ljust(15)  ,right)   \n",
        "\n",
        "              return from_number,to_number     \n",
        "          elif (len(str(res[0])))==2:\n",
        "            z=re.sub('[^A-Za-z0-9--]+', '', list_values)\n",
        "            if (z.isnumeric()) == True:  \n",
        "              from_number=str(res[0])[:2]\n",
        "              to_number=str(res[0])[-2:]\n",
        "              # print(text.ljust(100),str(res).ljust(15),str(from_number).ljust(15),str(to_number).ljust(15) ,str(left).ljust(15)  ,right)\n",
        "\n",
        "              return from_number,to_number \n",
        " \n",
        "            elif  (z.isnumeric()) == False:\n",
        "              from_number=str(res[0])[:1]\n",
        "              to_number=str(res[0])[-1:]\n",
        "              z=\"\"\n",
        "              a=''\n",
        "              # print(text.ljust(100),str(res).ljust(15),str(from_number).ljust(15),str(to_number).ljust(15) ,str(left).ljust(15)  ,right)\n",
        "\n",
        "              return from_number,to_number   \n",
        "      elif len(right)>0 and len(text)>0 and len(left)>0:\n",
        "\n",
        "        b=text[text.index(left)+len(left):text.index(right)]\n",
        "        x=[b]\n",
        "\n",
        "        res = list(map(lambda sub:int(''.join([ele for ele in sub if ele.isnumeric()])), x))\n",
        "        if len(right)>0:\n",
        "          from_number=str(res[0])[:2]\n",
        "          to_number=str(res[0])[-2:]\n",
        "          # print(text.ljust(100),b)\n",
        "          b=''\n",
        "          return from_number,to_number \n",
        "      from_number=0\n",
        "      to_number=0   \n",
        "  except ValueError:\n",
        "    # print ('ValueError: could not convert string to float: \\'DataCamp\\'')\n",
        "    from_number=0\n",
        "    to_number=0\n",
        "    return from_number,to_number  \n",
        "  else:\n",
        "    from_number=0\n",
        "    to_number=0\n",
        "    return from_number,to_number  \n"
      ],
      "execution_count": 0,
      "outputs": []
    },
    {
      "cell_type": "code",
      "metadata": {
        "id": "bW7w1ruffeZa",
        "colab_type": "code",
        "outputId": "b4fc8e2e-1a45-4844-eb3d-ce62fbab2e7c",
        "colab": {
          "base_uri": "https://localhost:8080/",
          "height": 1000
        }
      },
      "source": [
        "total_count=0\n",
        "count_leftreghtnull=0\n",
        "count_wihtprocess=0\n",
        "for index1, row in df1.iterrows():\n",
        "    from_number1=0\n",
        "    to_number1=0\n",
        "    \n",
        "    text =  row['Descriptor'].upper()\n",
        "    left =  row['LEFT'].upper()\n",
        "    right =  row['RIGHT'].upper()\n",
        "    # print(text.ljust(100), str(left).ljust(15),'  -   ',right)\n",
        "    if  (left=='NAN' and right=='NAN'):\n",
        "      pass\n",
        "      count_leftreghtnull =count_leftreghtnull+1\n",
        "    else:\n",
        "      from_number1,to_number1=fu_return_from_to_block(text,left,right)\n",
        "      # if from_number1==0 and to_number1==0:\n",
        "      print(text.ljust(100), str(from_number1).ljust(15),'  -   ',to_number1)\n",
        "      count_wihtprocess=count_wihtprocess+1\n",
        "    total_count=total_count+1\n",
        "    from_number1='0'\n",
        "    to_number1='0'\n",
        "print(\"Total :\",total_count)\n",
        "print(\"Left right Null Values count:\",count_leftreghtnull)\n",
        "print(\"From and To Number Count:\",count_wihtprocess)\n",
        "\n"
      ],
      "execution_count": 214,
      "outputs": [
        {
          "output_type": "stream",
          "text": [
            "INTRASTATE_BILATERAL -REV BY SLDC                                                                    0                 -    0\n",
            "TPCL_U5 -BY SLDC FOR SMOOTHENING                                                                     0                 -    0\n",
            "APML -BY SLDC FOR SMOOTHENING                                                                        0                 -    0\n",
            "INTERSTATE_BILATERAL -ZERO REV BY SLDC                                                               0                 -    0\n",
            "INTRASTATE_BILATERAL -INTRA_STATE_BILATERAL_SCHEDULES JSW TO CEAT SCH UPDATED BY SLDC                0                 -    0\n",
            "NASIK -REV BY SLDC FOR SMOOTHENING                                                                   0                 -    0\n",
            "APML -U2 3 SCH CORRECTED BY SLDC                                                                     0                 -    0\n",
            "APML -APML:SCH REV BY SLDC AS PER SYS CONDITION                                                      0                 -    0\n",
            "INTRASTATE_BILATERAL -JSW U4 TO RINFRA CORRECTED BY SLDC                                             0                 -    0\n",
            "INTRASTATE_BILATERAL -SCH CORRECTED BY SLDC                                                          0                 -    0\n",
            "REL_THERMAL -SCH CORRECTED BY SLDC                                                                   0                 -    0\n",
            "APML -APML SMOOTHEN BY SLDC                                                                          0                 -    0\n",
            "APML -U 1 SCH BY SLDC DUE TO SYSTEM CONDITION                                                        0                 -    0\n",
            "APML -APML:REV BY SLDC:FOR SMOOTHENING                                                               0                 -    0\n",
            "JSWEL -JSWEL BY SLDC                                                                                 0                 -    0\n",
            "APML -U 1 2 3 SCH CORRECTD BY SLDC                                                                   0                 -    0\n",
            "JSWEL -JSWEL:REV BY SLDC FOR SMOOTHENING                                                             0                 -    0\n",
            "BHUSAWAL -SCH UDATED BY SLDC                                                                         0                 -    0\n",
            "REL_THERMAL -REV BY SLDC : FOR SMOOTHENING                                                           0                 -    0\n",
            "JSWEL -JSWEL.BY SLDC                                                                                 0                 -    0\n",
            "PARAS -REV BY SLDC: BD IMP                                                                           0                 -    0\n",
            "INTRASTATE_BILATERAL -JSW TO RINFRA BACK DOWN BY SLDC AND JISL CORRECED SCHEDULE                     0                 -    0\n",
            "INTRASTATE_BILATERAL -ULTRATECH SCH CORRECTED BY SLDC                                                0                 -    0\n",
            "IPL -IPL:BACK DOWN WDN BY SLDC                                                                       0                 -    0\n",
            "REL_THERMAL -REL_THERMAL1:REV BY SLDC:SMOOTHENING                                                    0                 -    0\n",
            "APML -APML:REV BY SLDC FOR SMOOTHENING                                                               0                 -    0\n",
            "JSWEL -JSWEL REV BY SLDC.                                                                            0                 -    0\n",
            "APML -APML BY SLDC                                                                                   0                 -    0\n",
            "TPCL_U5 -TPCL_U5 BY SLDC                                                                             0                 -    0\n",
            "REL_THERMAL -CORRECTED BY SLDC                                                                       0                 -    0\n",
            "TPCL_U5 -REV BY SLDC FOR SMOOTHENEING                                                                0                 -    0\n",
            "TPCL_U5 -TPCL_U5 SMOOTHEN BY SLDC                                                                    0                 -    0\n",
            "REL_THERMAL -REL_THERMAL BD WD BY SLDC                                                               0                 -    0\n",
            "REL_THERMAL -CORRECTED BY SLDC                                                                       0                 -    0\n",
            "NASIK -NASIK_ BY SLDC                                                                                0                 -    0\n",
            "PARALI -PARLI REV 23 CORRECTED BY SLDC                                                               0                 -    0\n",
            "REL_THERMAL -BACK DOWN BY SLDC                                                                       0                 -    0\n",
            "TPCL_U6 -TPCL_U6 PICK UP BY SLDC FOR MUMBAI EXCHANGE                                                 0                 -    0\n",
            "INTRASTATE_BILATERAL -INTRA_STATE_BILATERAL_SCHEDULES DHARIWAL AND VIPL FOR SMOOTHENING BY SLDC      0                 -    0\n",
            "APML -APML:SCH REV BY SLDC AS PER BACK DOWN INST DUE TO L/L                                          0                 -    0\n",
            "INTRASTATE_BILATERAL -JSW U 2,3,4 TO RINFRA(100 MW) SCH CORRECTED BY SLDC                            0                 -    0\n",
            "APML -FINAL IMPLEMENTED SCH BY SLDC                                                                  0                 -    0\n",
            "INTRASTATE_BILATERAL -VIPL SMOOTHENING AND LMEL SCH UPDATED BY SLDC                                  0                 -    0\n",
            "INTRASTATE_BILATERAL -BEST STANDBY REV1 AND GEL TO BEST REV1 CORRECTED BY SLDC                       0                 -    0\n",
            "INTRASTATE_BILATERAL -REV BY SLDC: VIPL SMOOTHENING                                                  0                 -    0\n",
            "IPL -SCH CORRECTED IN BLK(78-79) BY SLDC                                                             0                 -    0\n",
            "JSWEL -BACK DOWN BLK 77 TO 79 CORRECTED BY SLDC                                                      0                 -    0\n",
            "PARALI -CORRECTED BY SLDC                                                                            0                 -    0\n",
            "INTRASTATE_BILATERAL -WPCL SCH UPDATED BY SLDC                                                       0                 -    0\n",
            "REL_THERMAL -BACK DOWN IMPLEMENTED BY SLDC                                                           0                 -    0\n",
            "TPCL_U6 -TPCL_U6 NEW BY SLDC                                                                         0                 -    0\n",
            "PARAS -U 4 SCH CORRECTED BY SLDC                                                                     0                 -    0\n",
            "INTRASTATE_BILATERAL -JSW-TPC AND VIPL BD WDN JSW TO CEAT REV 1 CORRECTED BY SLDC                    0                 -    0\n",
            "INTRASTATE_BILATERAL -JSW TO MSEDCL:SCH CORRECTED BY SLDC                                            0                 -    0\n",
            "INTRASTATE_BILATERAL -REV BY SLDC FOR WPCL AND VIPL SMOOTHENING                                      0                 -    0\n",
            "INTRASTATE_BILATERAL -JSW TO REL CORRECTED BY SLDC                                                   0                 -    0\n",
            "CHANDRAPUR -BACKING DOWN IMP BLK 13 TO 24 BY SLDC                                                    0                 -    0\n",
            "TPCL_U6 -SCHEDULE CORRECTED BY SLDC                                                                  0                 -    0\n",
            "TPCL_U6 -SCHEDULE CORRECTED BY SLDC                                                                  0                 -    0\n",
            "INTRASTATE_BILATERAL -FOR VIPL SMOOTHENING BY SLDC                                                   0                 -    0\n",
            "REL_THERMAL -UNIT 2 BACKING DOWN WD SCH SMOOTHEN BY SLDC                                             0                 -    0\n",
            "INTRASTATE_BILATERAL -INTRA_STATE_BILATERAL_SCHEDULES JSW TO TPC DA REV BY JSW.BY SLDC               0                 -    0\n",
            "INTERSTATE_BILATERAL -BY SLDC                                                                        0                 -    0\n",
            "CHANDRAPUR -CHANDRAPUR CSH CORRECTED BY SLDC                                                         0                 -    0\n",
            "IPL -IPLBY SLDC                                                                                      0                 -    0\n",
            "REL_THERMAL -SCH BY SLDC                                                                             0                 -    0\n",
            "IPL -BY SLDC FOR RAMPING                                                                             0                 -    0\n",
            "INTRASTATE_BILATERAL -INTRA_STATE_BILATERAL_SCHEDULES TOPWORTH TO MSEDCL AND ACAL CORRECTED BY SLDC  0                 -    0\n",
            "JSWEL -U 1 REV 2 IN BLK(20-28) DUE TO COAL MILL PROBLEM AND BACKING DOWN IMP. FROM BLK(29-53) BY SLDC 0                 -    0\n",
            "INTRASTATE_BILATERAL -SWPL REV BY SLDC                                                               0                 -    0\n",
            "INTRASTATE_BILATERAL -LMEL TO TPC SCH.CORRECTED BY SLDC                                              0                 -    0\n",
            "INTERSTATE_BILATERAL -INTER_STATE_ BILATERAL_SCHEDULE BY SLDC                                        0                 -    0\n",
            "INTRASTATE_BILATERAL -LMEL TO TPC REV 1 FROM BLK(1-96) DUE TO CLINKER FORMATION AND MSEDCL TO BEST STANDBY SCH BY SLDC 0                 -    0\n",
            "INTRASTATE_BILATERAL -SWPL TO CAPTIVE FINAL IMPLEMENTED SCH.BY SLDC                                  0                 -    0\n",
            "INTRASTATE_BILATERAL -INTRA_STATE_BILATERAL_SCHEDULES JSW TO MSEDCL AND SWPL BD IMP BY SLDC          0                 -    0\n",
            "JSWEL -JSWEL BD BY SLDC                                                                              0                 -    0\n",
            "REL_THERMAL -U-1 BDN PREPONED FROM BLK1 AND U-2 BDN WDN BY SLDC DUE TO UNIT PROB.                    0                 -    0\n",
            "VIPL -REV BY SLDC: BD WD: BLK[28-35 AND 53-57 AND 83-92]                                             0                 -    0\n",
            "APML -APML SCH CORRECTED BY SLDC                                                                     0                 -    0\n",
            "CHANDRAPUR -BY SLDC                                                                                  0                 -    0\n",
            "JSWEL -JSWEL SCH REVISED BY SLDC                                                                     0                 -    0\n",
            "TPCL_U5 -REV BY SLDC: BD EXTENDED UP TO BLK 32: AND SMOOTHENING                                      0                 -    0\n",
            "TPCL_U8 -TPCL_U8 BY SLDC                                                                             0                 -    0\n",
            "INTRASTATE_BILATERAL -TOPWORTH TO PIAGGIO SCH CORRECTED BY SLDC                                      0                 -    0\n",
            "INTRASTATE_BILATERAL -WPCL TO CAPTIVE DC REVISED BY SLDC AND JSW-MSEDCL SMOOTHNING                   0                 -    0\n",
            "IPL -IPL BD IMPL BY SLDC BLK 89 TO 96 BY SLDC.                                                       0                 -    0\n",
            "VIPL -REV BY SLDC:BD IMP BLK 69 TO 96 AND ALSO SPS ACTION UPDATED                                    0                 -    0\n",
            "IPL -REV BY SLDC: SMOOTHENING                                                                        0                 -    0\n",
            "TPCL_U5 -REV BY SLDC: SMOOTHENING                                                                    0                 -    0\n",
            "REL_THERMAL -REV BY SLDC: SMOOTHENING                                                                0                 -    0\n",
            "INTRASTATE_BILATERAL -JSW TO RINFRA(DA) AND TATA(DA) SCH CORRECTED BY SLDC                           0                 -    0\n",
            "APML -SCH UPDATED BY SLDC                                                                            0                 -    0\n",
            "REL_THERMAL -REL_THERMAL1 FOR SMOOTHNING BY SLDC                                                     0                 -    0\n",
            "APML -APML BD IMP AND WD BY SLDC                                                                     0                 -    0\n",
            "APML -UPDATED BY SLDC                                                                                0                 -    0\n",
            "VIPL -BY SLDC                                                                                        0                 -    0\n",
            "VIPL -CORRECTED BY SLDC                                                                              0                 -    0\n",
            "VIPL -BY SLDC                                                                                        0                 -    0\n",
            "IPL -IPL BD IMP BY SLDC                                                                              0                 -    0\n",
            "KHAPERKHEDA -20KHAPERKHEDA BD IMP BLK 79 TO 96 BY SLDC                                               0                 -    0\n",
            "TPCL_U5 -TPCL_U5 BY SLDC .                                                                           0                 -    0\n",
            "INTRASTATE_BILATERAL -INTRA_STATE_BILATERAL_SCHEDULES BY SLDC                                        0                 -    0\n",
            "NASIK -BY SLDC FOR SMOOTHENING                                                                       0                 -    0\n",
            "APML -APML BACKING DOWN BY SLDC                                                                      0                 -    0\n",
            "BHUSAWAL -BHUSAWAL SCHED CORRECTED BY SLDC                                                           0                 -    0\n",
            "JSWEL -JSWEL:FOR SMOOTHENING BY SLDC                                                                 0                 -    0\n",
            "INTRASTATE_BILATERAL -JSW TO RINFRA:REV BY SLDC                                                      0                 -    0\n",
            "APML -SCH CORRECTED BY SLDC                                                                          0                 -    0\n",
            "JSWEL -REV BY SLDC FOR SMOOTHENING                                                                   0                 -    0\n",
            "APML -1APML FOR SMOOTHENING BY SLDC                                                                  0                 -    0\n",
            "IPL -IPL:REV BY SLDC FOR SMOOTHENING                                                                 0                 -    0\n",
            "APML -CORRECTED BY SLDC                                                                              0                 -    0\n",
            "PARALI -PARALI_BY SLDC                                                                               0                 -    0\n",
            "INTRASTATE_BILATERAL -REV BY SLDC : FOR SMOOTHENING                                                  0                 -    0\n",
            "APML -REV BY SLDC : FOR SMOOTHENING                                                                  0                 -    0\n",
            "INTRASTATE_BILATERAL -DARIWAL TO TPC SMOOTHENING BY SLDC                                             0                 -    0\n",
            "INTRASTATE_BILATERAL -SCH REV BY SLDC:DUE TO DHARIWAL TO TATA AND JSW TO RIFRA CORRECTED SCH         0                 -    0\n",
            "APML -APML:BACK DOWN WDN BY SLDC                                                                     0                 -    0\n",
            "PARAS -BACK DOWN WDN BY SLDC                                                                         0                 -    0\n",
            "APML -APML REV BY SLDC                                                                               0                 -    0\n",
            "TPCL_U5 -TPCL_U5 BY SLDC.XLS                                                                         0                 -    0\n",
            "APML -APML:SCH REV BY SLDC AS PER B/D INST.                                                          0                 -    0\n",
            "INTRASTATE_BILATERAL -SCML TO TCL,VENUS WIRE AND WNS GLOBAL FINAL SCH BY SLDC                        0                 -    0\n",
            "IPL -IPL:FOR SMOOTHENING BY SLDC                                                                     0                 -    0\n",
            "INTRASTATE_BILATERAL -REV BY SLDC FOR SMOOTHENING JSW-RINFRA(55MW)                                   0                 -    0\n",
            "REL_THERMAL -REV BY SLDC : BD UP TO BLK[41]: AFTER THAT BD WD DUE TO LINE LOADING                    0                 -    0\n",
            "APML -SCH CORRECTED BY SLDC                                                                          0                 -    0\n",
            "INTRASTATE_BILATERAL -INTRA_STATE_BILATERAL_SCHEDULES WPCL CAPTIV REV UPADTED BY SLDC                0                 -    0\n",
            "INTRASTATE_BILATERAL -INTRA BIL:REV BY SLDC:DUE TO ULTRATECH CEMENY DA APPLICATION                   0                 -    0\n",
            "INTRASTATE_BILATERAL -INTRA_STATE_BILATERAL_SCHEDULES DHARIWAL SMOOTHENING BY SLDC                   0                 -    0\n",
            "INTRASTATE_BILATERAL -REV BY SLDC FOR DHARIWAL SMOOTHENING                                           0                 -    0\n",
            "NASIK -REV BY SLDC: BD WD BLK[33-56]                                                                 0                 -    0\n",
            "TPCL_U5 -TPCL_U5 BD WDN BY SLDC                                                                      0                 -    0\n",
            "INTRASTATE_BILATERAL -REV BY SLDC: BD WD OF VIPL U1 &2, DHARIWAL, JSW TO RINFRA, AND JSW TO RINFRA DC REVISED ( 50 MW AND 45 MW POWERS) 0                 -    0\n",
            "URAN -REV1:CORRECTED BY SLDC:GAS SHORTAGE:BLK[1-12]:FROM 600-480 MW                                  0                 -    0\n",
            "REL_THERMAL -REL_THERMAL:SCH CORRECTED BY SLDC                                                       0                 -    0\n",
            "TPCL_U5 -TPCL_U5 BD WDN BY SLDC FROM BLK 23                                                          0                 -    0\n",
            "INTRASTATE_BILATERAL -JSW TO REL:SCH CORRECTED BY SLDC                                               0                 -    0\n",
            "TPCL_U6 -TPCL_U6 BY SLDC FOR SYS CONDN                                                               0                 -    0\n",
            "INTRASTATE_BILATERAL -VIPL TO RINFRA SCH CORRECTED BY SLDC                                           0                 -    0\n",
            "INTRASTATE_BILATERAL -VIPL SCH SMOOOTHEN BY SLDC                                                     0                 -    0\n",
            "INTRASTATE_BILATERAL -JSW (BLK 11-25) AND VIPL ( 11-34):BACK DOWN BY SLDC                            0                 -    0\n",
            "INTRASTATE_BILATERAL -JSW TO RINFRA SCH SMOOTHEN BY SLDC                                             0                 -    0\n",
            "BHUSAWAL -BHSLWL U 4,5 BD IMP FRM BLK 73 TO 79 BY SLDC                                               0                 -    0\n",
            "PARAS -PARAS REV1 U3 PCR CORRECTED BY SLDC                                                           0                 -    0\n",
            "APML -SMOOTHEING BY SLDC                                                                             0                 -    0\n",
            "REL_THERMAL -U2 BD WDN SBY SLDC                                                                      0                 -    0\n",
            "CENTRAL_SECTOR -CORRECTED BY SLDC                                                                    0                 -    0\n",
            "INTRASTATE_BILATERAL -INTRA_STATE_BILATERAL_SCHEDULES WPCL UPDATED BY SLDC                           0                 -    0\n",
            "INTRASTATE_BILATERAL -JSW AND VIPL BACKING DOWN WD BY SLDC                                           0                 -    0\n",
            "INTRASTATE_BILATERAL -ULTRATECH AWRPUR SCH CORRECTED BY SLDC                                         0                 -    0\n",
            "PARAS -CORRECTED BY SLDC                                                                             0                 -    0\n",
            "TPCL_U5 -BACK DOWN WITHDRAWN BY SLDC                                                                 0                 -    0\n",
            "TPCL_U5 -BACKING DOWN WITHDRAWN BY SLDC                                                              0                 -    0\n",
            "TPCL_U5 -TPCL_U5:BY SLDC                                                                             0                 -    0\n",
            "REL_THERMAL -SCHEDULE CORRECTED BY SLDC                                                              0                 -    0\n",
            "INTRASTATE_BILATERAL -VIPL SCH SMOOTHEN BY SLDC                                                      0                 -    0\n",
            "INTRASTATE_BILATERAL -JSW AND VIPL SMOOTHENING BY SLDC                                               0                 -    0\n",
            "BHUSAWAL -U5 BACK DOWN BY SLDC BLK NO 96                                                             0                 -    0\n",
            "NASIK -SCH BY SLDC                                                                                   0                 -    0\n",
            "KHAPERKHEDA -SCH BY SLDC                                                                             0                 -    0\n",
            "PARAS -SCH BY SLDC                                                                                   0                 -    0\n",
            "TPCL_U8 -SMOOTHENING BY SLDC                                                                         0                 -    0\n",
            "JSWEL -SMOOTHENING BY SLDC                                                                           0                 -    0\n",
            "APML -SCH UPDATED BY SLDC:AS PER BD INST.                                                            0                 -    0\n",
            "JSWEL -JSWEL FOR SMOOTHNING BY SLDC                                                                  0                 -    0\n",
            "JSWEL -JSWEL.FOR SMOOTHNING BY SLDC                                                                  0                 -    0\n",
            "CHANDRAPUR -BY SLDC                                                                                  0                 -    0\n",
            "VIPL -SMOOTHENING BY SLDC                                                                            0                 -    0\n",
            "TPCL_U8 -CORRECTED BY SLDC                                                                           0                 -    0\n",
            "REL_THERMAL -BACK DOWN CORRECTED BY SLDC                                                             0                 -    0\n",
            "INTRASTATE_BILATERAL -JSW TO MSEB BD BY SLDC BLK 59 TO 67 AND JSW TO RINFRA BD WDN BLK 74 TO 81 SINCE PLANT AT TECH MIN FROM 74 BLK 0                 -    0\n",
            "VIPL -BD BY SLDC                                                                                     0                 -    0\n",
            "TPCL_U8 -BY SLDC                                                                                     0                 -    0\n",
            "Total : 5750\n",
            "Left right Null Values count: 4867\n",
            "From and To Number Count: 883\n"
          ],
          "name": "stdout"
        }
      ]
    }
  ]
}