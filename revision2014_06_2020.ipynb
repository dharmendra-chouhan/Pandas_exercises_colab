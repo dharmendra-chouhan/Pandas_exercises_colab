{
  "nbformat": 4,
  "nbformat_minor": 0,
  "metadata": {
    "colab": {
      "name": "revision2014_06_2020.ipynb",
      "provenance": [],
      "collapsed_sections": [],
      "include_colab_link": true
    },
    "kernelspec": {
      "name": "python3",
      "display_name": "Python 3"
    }
  },
  "cells": [
    {
      "cell_type": "markdown",
      "metadata": {
        "id": "view-in-github",
        "colab_type": "text"
      },
      "source": [
        "<a href=\"https://colab.research.google.com/github/dharmendra-chouhan/Pandas_exercises_colab/blob/master/revision2014_06_2020.ipynb\" target=\"_parent\"><img src=\"https://colab.research.google.com/assets/colab-badge.svg\" alt=\"Open In Colab\"/></a>"
      ]
    },
    {
      "cell_type": "code",
      "metadata": {
        "id": "hK6H8kY4fFL3",
        "colab_type": "code",
        "outputId": "127bae12-c12e-4a2e-eab2-76aaa0971fcf",
        "colab": {
          "resources": {
            "http://localhost:8080/nbextensions/google.colab/files.js": {
              "data": "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",
              "ok": true,
              "headers": [
                [
                  "content-type",
                  "application/javascript"
                ]
              ],
              "status": 200,
              "status_text": ""
            }
          },
          "base_uri": "https://localhost:8080/",
          "height": 75
        }
      },
      "source": [
        "from google.colab import files\n",
        "uploaded = files.upload()"
      ],
      "execution_count": 222,
      "outputs": [
        {
          "output_type": "display_data",
          "data": {
            "text/html": [
              "\n",
              "     <input type=\"file\" id=\"files-b57f7e43-2aa7-44cd-a2f3-c62fcc335c2d\" name=\"files[]\" multiple disabled />\n",
              "     <output id=\"result-b57f7e43-2aa7-44cd-a2f3-c62fcc335c2d\">\n",
              "      Upload widget is only available when the cell has been executed in the\n",
              "      current browser session. Please rerun this cell to enable.\n",
              "      </output>\n",
              "      <script src=\"/nbextensions/google.colab/files.js\"></script> "
            ],
            "text/plain": [
              "<IPython.core.display.HTML object>"
            ]
          },
          "metadata": {
            "tags": []
          }
        },
        {
          "output_type": "stream",
          "text": [
            "Saving HIMS (07-01-2020).csv to HIMS (07-01-2020).csv\n"
          ],
          "name": "stdout"
        }
      ]
    },
    {
      "cell_type": "code",
      "metadata": {
        "id": "RXHCOuybfLXL",
        "colab_type": "code",
        "colab": {}
      },
      "source": [
        "import io\n",
        "import pandas as pd\n",
        "revision2014 = pd.read_csv(io.BytesIO(uploaded['HIMS (07-01-2020).csv']))\n",
        "df1=revision2014\n"
      ],
      "execution_count": 0,
      "outputs": []
    },
    {
      "cell_type": "code",
      "metadata": {
        "id": "TmWcUWZ6_aQv",
        "colab_type": "code",
        "outputId": "7ed78532-df13-4e01-9a42-6a671c6a3480",
        "colab": {
          "base_uri": "https://localhost:8080/",
          "height": 195
        }
      },
      "source": [
        "df1.info()"
      ],
      "execution_count": 224,
      "outputs": [
        {
          "output_type": "stream",
          "text": [
            "<class 'pandas.core.frame.DataFrame'>\n",
            "RangeIndex: 107 entries, 0 to 106\n",
            "Data columns (total 5 columns):\n",
            "Sr.No.        107 non-null int64\n",
            "Recorder      107 non-null object\n",
            "Descriptor    107 non-null object\n",
            "LEFT          100 non-null object\n",
            "RIGHT         27 non-null object\n",
            "dtypes: int64(1), object(4)\n",
            "memory usage: 4.3+ KB\n"
          ],
          "name": "stdout"
        }
      ]
    },
    {
      "cell_type": "markdown",
      "metadata": {
        "id": "EzsDslsqbN6J",
        "colab_type": "text"
      },
      "source": [
        ""
      ]
    },
    {
      "cell_type": "code",
      "metadata": {
        "id": "X8KEM5LWTUlo",
        "colab_type": "code",
        "colab": {}
      },
      "source": [
        "scriteria = ['SLDC','SDLDC','BACKDOWN','BDN','BACKBOWN','BD','BACKDN','BACK DOWN','B/D','BKD','BKDW','BACKING BOWN','B/DN']  \n",
        "sstring = '|'.join(scriteria)\n",
        "df1 =  df1[df1['Descriptor'].str.upper().str.contains(sstring)]\n",
        "df1=df1.sort_values(by=['Recorder'])"
      ],
      "execution_count": 0,
      "outputs": []
    },
    {
      "cell_type": "code",
      "metadata": {
        "id": "19Mu6lsPTZif",
        "colab_type": "code",
        "colab": {}
      },
      "source": [
        "df1=df1.astype(str)"
      ],
      "execution_count": 0,
      "outputs": []
    },
    {
      "cell_type": "code",
      "metadata": {
        "id": "kgesf8NUTd4c",
        "colab_type": "code",
        "colab": {
          "base_uri": "https://localhost:8080/",
          "height": 195
        },
        "outputId": "f3e210c7-e00e-433c-be58-38acfef27131"
      },
      "source": [
        "df1.info()"
      ],
      "execution_count": 228,
      "outputs": [
        {
          "output_type": "stream",
          "text": [
            "<class 'pandas.core.frame.DataFrame'>\n",
            "Int64Index: 107 entries, 0 to 106\n",
            "Data columns (total 5 columns):\n",
            "Sr.No.        107 non-null object\n",
            "Recorder      107 non-null object\n",
            "Descriptor    107 non-null object\n",
            "LEFT          107 non-null object\n",
            "RIGHT         107 non-null object\n",
            "dtypes: object(5)\n",
            "memory usage: 5.0+ KB\n"
          ],
          "name": "stdout"
        }
      ]
    },
    {
      "cell_type": "code",
      "metadata": {
        "id": "h96KA0REfQ5b",
        "colab_type": "code",
        "colab": {}
      },
      "source": [
        "import re\n",
        "import numpy as np\n",
        "\n",
        "def fu_return_from_to_block(p_text,p_left,p_right):\n",
        "\n",
        "  # for index1, row in df1.iterrows():\n",
        "  try:\n",
        "      text =  p_text\n",
        "      left =  p_left\n",
        "      right =  p_right\n",
        "      # print(text,'    ',left,'    ',right,'    ',len(left),'      ',len(right))\n",
        "      list_values=[]\n",
        "      list_values=text[text.index(left)+len(left):len(text)]\n",
        "      # print(p_right)\n",
        "      if len(left)>0 and len(text)>0 and p_right=='NAN':\n",
        "      # and len(right)==0:\n",
        "        a=text[text.index(left)+len(left):len(text)]\n",
        "        if not a:\n",
        "            from_number=0\n",
        "            to_number=0\n",
        "            return from_number,to_number \n",
        "        if len(a)>0:\n",
        "          x=[a]\n",
        "          res = list(map(lambda sub:int(''.join([ele for ele in sub if ele.isnumeric()])), x))\n",
        "\n",
        "          if len(str(res[0]))>4:\n",
        "            from_number=res\n",
        "            to_number=res\n",
        "\n",
        "            return from_number,to_number \n",
        "          from_number=0\n",
        "          to_number=0\n",
        "          if len(str(res[0]))==4:\n",
        "            from_number=str(res[0])[:2]\n",
        "            to_number=str(res[0])[-2:]\n",
        "            # print(text.ljust(100),str(res).ljust(15),str(from_number).ljust(15),str(to_number).ljust(15) ,str(left).ljust(15)  ,right)\n",
        "\n",
        "            return from_number,to_number \n",
        "          elif len(str(res[0]))==3:\n",
        "            from_number=str(res[0])[:1]\n",
        "            to_number=str(res[0])[-2:]\n",
        "            # print(text.ljust(100),str(res).ljust(15),str(from_number).ljust(15),str(to_number).ljust(15) ,str(left).ljust(15)  ,right)\n",
        "\n",
        "            return from_number,to_number \n",
        "          elif len(str(res[0]))==1:\n",
        "            string = str(res[0])\n",
        "            if string.isnumeric():\n",
        "              from_number=str(res[0])[:1]\n",
        "              to_number=str(res[0])[-1:]\n",
        "              # print(text.ljust(100),str(res).ljust(15),str(from_number).ljust(15),str(to_number).ljust(15) ,str(left).ljust(15)  ,right)   \n",
        "\n",
        "              return from_number,to_number     \n",
        "          elif (len(str(res[0])))==2:\n",
        "            z=re.sub('[^A-Za-z0-9--]+', '', list_values)\n",
        "            if (z.isnumeric()) == True:  \n",
        "              from_number=str(res[0])[:2]\n",
        "              to_number=str(res[0])[-2:]\n",
        "              # print(text.ljust(100),str(res).ljust(15),str(from_number).ljust(15),str(to_number).ljust(15) ,str(left).ljust(15)  ,right)\n",
        "\n",
        "              return from_number,to_number \n",
        " \n",
        "            elif  (z.isnumeric()) == False:\n",
        "              from_number=str(res[0])[:1]\n",
        "              to_number=str(res[0])[-1:]\n",
        "              z=\"\"\n",
        "              a=''\n",
        "              # print(text.ljust(100),str(res).ljust(15),str(from_number).ljust(15),str(to_number).ljust(15) ,str(left).ljust(15)  ,right)\n",
        "\n",
        "              return from_number,to_number   \n",
        "      elif len(right)>0 and len(text)>0 and len(left)>0:\n",
        "\n",
        "        b=text[text.index(left)+len(left):text.index(right)]\n",
        "        x=[b]\n",
        "\n",
        "        res = list(map(lambda sub:int(''.join([ele for ele in sub if ele.isnumeric()])), x))\n",
        "        if len(str(res[0]))>4:\n",
        "          from_number=res\n",
        "          to_number=res\n",
        "\n",
        "          return from_number,to_number \n",
        "        from_number=0\n",
        "        to_number=0\n",
        "        if len(str(res[0]))==4:\n",
        "          from_number=str(res[0])[:2]\n",
        "          to_number=str(res[0])[-2:]\n",
        "            # print(text.ljust(100),str(res).ljust(15),str(from_number).ljust(15),str(to_number).ljust(15) ,str(left).ljust(15)  ,right)\n",
        "\n",
        "          return from_number,to_number \n",
        "        elif len(str(res[0]))==3:\n",
        "          from_number=str(res[0])[:1]\n",
        "          to_number=str(res[0])[-2:]\n",
        "            # print(text.ljust(100),str(res).ljust(15),str(from_number).ljust(15),str(to_number).ljust(15) ,str(left).ljust(15)  ,right)\n",
        "\n",
        "          return from_number,to_number \n",
        "        elif len(str(res[0]))==1:\n",
        "          string = str(res[0])\n",
        "          if string.isnumeric():\n",
        "            from_number=str(res[0])[:1]\n",
        "            to_number=str(res[0])[-1:]\n",
        "              # print(text.ljust(100),str(res).ljust(15),str(from_number).ljust(15),str(to_number).ljust(15) ,str(left).ljust(15)  ,right)   \n",
        "\n",
        "            return from_number,to_number     \n",
        "        elif (len(str(res[0])))==2:\n",
        "          t=res[0]\n",
        "          z=re.sub('[^A-Za-z0-9--]+', '', str(t))\n",
        "          if (z.isnumeric()) == True:  \n",
        "            from_number=str(res[0])[:2]\n",
        "            to_number=str(res[0])[-2:]\n",
        "              # print(text.ljust(100),str(res).ljust(15),str(from_number).ljust(15),str(to_number).ljust(15) ,str(left).ljust(15)  ,right)\n",
        "\n",
        "            return from_number,to_number \n",
        " \n",
        "          elif  (z.isnumeric()) == False:\n",
        "            from_number=str(res[0])[:1]\n",
        "            to_number=str(res[0])[-1:]\n",
        "            z=\"\"\n",
        "            a=''\n",
        "              # print(text.ljust(100),str(res).ljust(15),str(from_number).ljust(15),str(to_number).ljust(15) ,str(left).ljust(15)  ,right)\n",
        "\n",
        "            return from_number,to_number   \n",
        "\n",
        "\n",
        "      from_number=0\n",
        "      to_number=0   \n",
        "  except ValueError:\n",
        "    # print ('ValueError: could not convert string to float: \\'DataCamp\\'')\n",
        "    from_number=0\n",
        "    to_number=0\n",
        "    return from_number,to_number  \n",
        "  else:\n",
        "    from_number=0\n",
        "    to_number=0\n",
        "    return from_number,to_number  \n"
      ],
      "execution_count": 0,
      "outputs": []
    },
    {
      "cell_type": "code",
      "metadata": {
        "id": "bW7w1ruffeZa",
        "colab_type": "code",
        "outputId": "bb4e28b1-f976-42dd-dbd5-2400b75568a9",
        "colab": {
          "base_uri": "https://localhost:8080/",
          "height": 1000
        }
      },
      "source": [
        "total_count=0\n",
        "count_leftreghtnull=0\n",
        "count_wihtprocess=0\n",
        "print('Recorder'.ljust(35),'Descriptor'.ljust(100), str('From Number').ljust(15),'  -   ','To Number')\n",
        "print('\\n')\n",
        "for index1, row in df1.iterrows():\n",
        "    from_number1=0\n",
        "    to_number1=0\n",
        "    \n",
        "    text =  row['Descriptor'].upper()\n",
        "    left =  row['LEFT'].upper()\n",
        "    right =  row['RIGHT'].upper()\n",
        "         \n",
        "    # print(text.ljust(100), str(left).ljust(15),'  -   ',right)\n",
        "    if  (left=='NAN' and right=='NAN'):\n",
        "      pass\n",
        "      count_leftreghtnull =count_leftreghtnull+1\n",
        "    else:\n",
        "      from_number1,to_number1=fu_return_from_to_block(text,left,right)\n",
        "      # if from_number1==0 and to_number1==0:\n",
        "      print(row['Recorder'].ljust(35),text.ljust(130), str(from_number1).ljust(15),'  -   ',to_number1)\n",
        "      count_wihtprocess=count_wihtprocess+1\n",
        "    total_count=total_count+1\n",
        "    from_number1='0'\n",
        "    to_number1='0'\n",
        "print(\"Total :\",total_count)\n",
        "print(\"Left right Null Values count:\",count_leftreghtnull)\n",
        "print(\"From and To Number Count:\",count_wihtprocess)\n",
        "\n"
      ],
      "execution_count": 318,
      "outputs": [
        {
          "output_type": "stream",
          "text": [
            "Recorder                            Descriptor                                                                                           From Number       -    To Number\n",
            "\n",
            "\n",
            "010514I23-MSEB-FINOLEX_MSEB         INTRASTATE_BILATERAL -JSW REV1 AND VIPL U2& DHARIWAL  CORRECTED BY SLDC                                                            0                 -    0\n",
            "010514I26-BEST_MSEB-MVNL_MSEB       INTRASTATE_BILATERAL -JSW REV1 AND VIPL U2& DHARIWAL  CORRECTED BY SLDC                                                            0                 -    0\n",
            "010514I29-TPC_MSEB-KOHINOOR_MSEB    INTRASTATE_BILATERAL -JSW REV1 AND VIPL U2& DHARIWAL  CORRECTED BY SLDC                                                            0                 -    0\n",
            "020514I1-MSEB-UTTAMGALVA_MSEB       INTRASTATE_BILATERAL -INTRA_STATE_BILATERAL_SCHEDULES DHARIWAL AND VIPL FOR SMOOTHENING BY SLDC                                    0                 -    0\n",
            "020514I13-REL_MSEB-VIPL_MSEB        INTRASTATE_BILATERAL -INTRA_STATE_BILATERAL_SCHEDULES DHARIWAL AND VIPL FOR SMOOTHENING BY SLDC                                    0                 -    0\n",
            "050514I12-REL_MSEB-VIPL_MSEB        INTRASTATE_BILATERAL -INTRA_STATE_BILATERAL_SCHEDULES VIPL AND JSW TO REL AND DHARIWAL BACK DOWN WDN BLK 67 TO 76 BY SLDC          67                -    76\n",
            "050514I24-MSEB-FINOLEX_MSEB         INTRASTATE_BILATERAL -REV BY SLDC FOR VIPL AND DHARIWAL SMOOTHENING                                                                0                 -    0\n",
            "050514I25-MSEB-AAENERGY_MSEB        INTRASTATE_BILATERAL -INTRA_STATE_BILATERAL_SCHEDULES VIPL AND JSW TO REL AND DHARIWAL BACK DOWN WDN BLK 67 TO 76 BY SLDC          67                -    76\n",
            "050514I26-BEST_MSEB-GEL_MSEB        INTRASTATE_BILATERAL -INTRA_STATE_BILATERAL_SCHEDULES VIPL AND JSW TO REL AND DHARIWAL BACK DOWN WDN BLK 67 TO 76 BY SLDC          67                -    76\n",
            "050514I31-MSEB-URJANKUR_MSEB        INTRASTATE_BILATERAL -REV BY SLDC: BD WD OF VIPL, DHARIWAL, JSW TO RINFRA                                                          0                 -    0\n",
            "050514I4-MSEB-JSW_MSEB              INTRASTATE_BILATERAL -INTRA_STATE_BILATERAL_SCHEDULES VIPL AND JSW TO REL AND DHARIWAL BACK DOWN WDN BLK 67 TO 76 BY SLDC          67                -    76\n",
            "050514I9-BEST_MSEB-YEAL_MSEB        INTRASTATE_BILATERAL -REV BY SLDC: BD WD OF VIPL, DHARIWAL, JSW TO RINFRA                                                          0                 -    0\n",
            "070514I27-BEST_MSEB-MVNL_MSEB       INTRASTATE_BILATERAL -VIPL SMOOTHENING AND UTRATECH SCH CORRECTED BY SLDC                                                          0                 -    0\n",
            "090514I18-MSEB-VHPL_MSEB            INTRASTATE_BILATERAL -INTRA_STATE_BILATERAL_SCHEDULES VIPL SMOOTHENING AND BD FROM BLK 1-10 BY SLDC AND MVNL TO BEST REV1          1                 -    10\n",
            "090514I22-MSEB-SCML_MSEB            INTRASTATE_BILATERAL -INTRA_STATE_BILATERAL_SCHEDULES VIPL SMOOTHENING AND BD FROM BLK 1-10 BY SLDC AND MVNL TO BEST REV1          1                 -    10\n",
            "090514I27-BEST_MSEB-MVNL_MSEB       INTRASTATE_BILATERAL -INTRA_STATE_BILATERAL_SCHEDULES BD BY SLDC VIPL U1 AND JSW RINFRA.                                           0                 -    0\n",
            "090514I43-BEST_MSEB-MSEB            INTRASTATE_BILATERAL -INTRA_STATE_BILATERAL_SCHEDULES BD BY SLDC VIPL U1 AND JSW RINFRA.                                           0                 -    0\n",
            "090514I5-MSEB-JSW_MSEB              INTRASTATE_BILATERAL -INTRA_STATE_BILATERAL_SCHEDULES BD BY SLDC VIPL U1 AND JSW RINFRA.                                           0                 -    0\n",
            "100514I11-MSEB-JSW_MSEB             INTRASTATE_BILATERAL -VIPL AND JSW TO REL:BACK DOWN WDN BY SLDC BLK 94 TO 96                                                       94                -    96\n",
            "100514I23-MSEB-FINOLEX_MSEB         INTRASTATE_BILATERAL -DHARIWAL 150 MW SCH TO TPC:BACK DOWN WDN BY SLDC BLK 93 TO 96                                                93                -    96\n",
            "100514I25-MSEB-AAENERGY_MSEB        INTRASTATE_BILATERAL -JSW U 2,3,4 TO RINFRA(100 MW) SCH CORRECTED BY SLDC                                                          0                 -    0\n",
            "100514I8-MSEB-JSW_MSEB              INTRASTATE_BILATERAL -VIPL AND JSW TO REL:BACK DOWN WDN BY SLDC BLK 94 TO 96                                                       94                -    96\n",
            "100514I9-BEST_MSEB-YEAL_MSEB        INTRASTATE_BILATERAL -VIPL AND JSW TO REL:BACK DOWN WDN BY SLDC BLK 94 TO 96                                                       94                -    96\n",
            "110514I16-MSEB-TOPWORTH_MSEB        INTRASTATE_BILATERAL -SCH CORRECTED BY SLDC                                                                                        0                 -    0\n",
            "110514I20-TPC_MSEB-SHIRKE_MSEB      INTRASTATE_BILATERAL -FOR SMOOTHENNIG BY SLDC                                                                                      0                 -    0\n",
            "110514I35-MSEB-URJANKURTATYA_MSEB   INTRASTATE_BILATERAL -SCH CORRECTED BY SLDC                                                                                        0                 -    0\n",
            "110514I42-TPC_MSEB-MSEB             INTRASTATE_BILATERAL -FOR SMOOTHENNIG BY SLDC                                                                                      0                 -    0\n",
            "120514I33-MSEB-SASPL_MSEB           INTRASTATE_BILATERAL -BD EXTN JSW RINFRA:BLK 5-40 CORRECTED BY SLDC                                                                5                 -    40\n",
            "130514I32-MSEB-ASHOK_MSEB           INTRASTATE_BILATERAL -INTRA_STATE_BILATERAL_SCHEDULES BY SLDC                                                                      0                 -    0\n",
            "140514I15-TPC_MSEB-DHARIWAL_MSEB    INTRASTATE_BILATERAL -VIPL TO REL BACK DOWN WDN BY SLDC:BLK 86 TO 89                                                               86                -    89\n",
            "140514I26-BEST_MSEB-GEL_MSEB        INTRASTATE_BILATERAL -VIPL TO REL:BACK DOWN WDN BY SLDC BLK 44 TO 67                                                               44                -    67\n",
            "140514I26-BEST_MSEB-GEL_MSEB        INTRASTATE_BILATERAL -VIPL, JSW AND DHARIWAL:REV BY SLDC FOR SMOOTHENING                                                           0                 -    0\n",
            "140514I28-BEST_MSEB-LAIL_MSEB       INTRASTATE_BILATERAL -VIPL TO REL BACK DOWN WDN BY SLDC:BLK 86 TO 89                                                               86                -    89\n",
            "140514I29-MSEB-ASPL_MSEB            INTRASTATE_BILATERAL -VIPL TO REL:BACK DOWN WDN BY SLDC BLK 44 TO 67                                                               44                -    67\n",
            "140514I36-REL_MSEB-LMEL_MSEB        INTRASTATE_BILATERAL -VIPL TO REL BACK DOWN WDN BY SLDC:BLK 86 TO 89                                                               86                -    89\n",
            "140514I39-REL_MSEB-JSW_MSEB         INTRASTATE_BILATERAL -VIPL, JSW AND DHARIWAL:REV BY SLDC FOR SMOOTHENING                                                           0                 -    0\n",
            "140514I40-MSEB-WPCL_MSEB            INTRASTATE_BILATERAL -VIPL, JSW AND DHARIWAL:REV BY SLDC FOR SMOOTHENING                                                           0                 -    0\n",
            "140514I43-BEST_MSEB-MSEB            INTRASTATE_BILATERAL -VIPL TO REL BACK DOWN WDN BY SLDC:BLK 86 TO 89                                                               86                -    89\n",
            "150514I13-REL_MSEB-VIPL_MSEB        INTRASTATE_BILATERAL -SCH CORRECTED BY SLDC                                                                                        0                 -    0\n",
            "150514I28-BEST_MSEB-LAIL_MSEB       INTRASTATE_BILATERAL -DHARIWAL:SCH REV BY SLDC FOR SMOOTHENING                                                                     0                 -    0\n",
            "150514I33-MSEB-SASPL_MSEB           INTRASTATE_BILATERAL -DHARIWAL:SCH REV BY SLDC FOR SMOOTHENING                                                                     0                 -    0\n",
            "150514I34-MSEB-ULTRATECH_MSEB       INTRASTATE_BILATERAL -VIPL:BACK DOWN WDN BY SLDC:BLK 6 TO 8 AND 23 TO 36                                                           [682336]          -    [682336]\n",
            "150514I37-REL_MSEB-JSW_MSEB         INTRASTATE_BILATERAL -VIPL:BACK DOWN WDN BY SLDC:BLK 6 TO 8 AND 23 TO 36                                                           [682336]          -    [682336]\n",
            "150514I38-REL_MSEB-JSW_MSEB         INTRASTATE_BILATERAL -DHARIWAL:SCH REV BY SLDC FOR SMOOTHENING                                                                     0                 -    0\n",
            "150514I8-MSEB-JSW_MSEB              INTRASTATE_BILATERAL -DHARIWAL:SCH REV BY SLDC FOR SMOOTHENING                                                                     0                 -    0\n",
            "160514I15-TPC_MSEB-DHARIWAL_MSEB    INTRASTATE_BILATERAL -SCH CORRECTED BY SLDC                                                                                        0                 -    0\n",
            "160514I29-MSEB-ASPL_MSEB            INTRASTATE_BILATERAL -VIPL AND DHARIWAL SCH SMOOTHEN BY SLDC                                                                       0                 -    0\n",
            "160514I44-BEST_MSEB-WELSPUN_MSEB    INTRASTATE_BILATERAL -SCH CORRECTED BY SLDC                                                                                        0                 -    0\n",
            "160514I45-REL_MSEB-JSW_MSEB         INTRASTATE_BILATERAL -SCH CORRECTED BY SLDC                                                                                        0                 -    0\n",
            "180514I30-TPC_MSEB-KOHINOOR_MSEB    INTRASTATE_BILATERAL -REV BY SLDC: BD IMP: BLK[77-78: VIPL U1 &2 AND JSW TO RINFRA ]                                               77                -    78\n",
            "180514I31-MSEB-URJANKUR_MSEB        INTRASTATE_BILATERAL -REV BY SLDC: BD IMP: BLK[77-78: VIPL U1 &2 AND JSW TO RINFRA ]                                               77                -    78\n",
            "190514I16-MSEB-TOPWORTH_MSEB        INTRASTATE_BILATERAL -VIPL U1 TO RINFRA BD WD BLK 34 TO 38 AND U 2 BLK 34 BY SLDC                                                  [3438234]         -    [3438234]\n",
            "190514I2-MSEB-UTTAMGALVA_MSEB       INTRASTATE_BILATERAL -VIPL U1 TO RINFRA BD WD BLK 34 TO 38 AND U 2 BLK 34 BY SLDC                                                  [3438234]         -    [3438234]\n",
            "190514I35-MSEB-URJANKURTATYA_MSEB   INTRASTATE_BILATERAL -INTRA_STATE_BILATERAL_SCHEDULES WPCL REV1 AND REV2 AND DHARIWAL MOD BLK NO 26 CORRECTED BY SLDC              0                 -    0\n",
            "190514I45-REL_MSEB-JSW_MSEB         INTRASTATE_BILATERAL -INTRA_STATE_BILATERAL_SCHEDULES WPCL REV1 AND REV2 AND DHARIWAL MOD BLK NO 26 CORRECTED BY SLDC              0                 -    0\n",
            "190514I8-MSEB-JSW_MSEB              INTRASTATE_BILATERAL -VIPL U1 TO RINFRA BD WD BLK 34 TO 38 AND U 2 BLK 34 BY SLDC                                                  [3438234]         -    [3438234]\n",
            "200514I28-BEST_MSEB-LAIL_MSEB       INTRASTATE_BILATERAL -REV BY SLDC : BD WD : VIPL AND JSW : BLK[1-35]                                                               1                 -    35\n",
            "210514I19-MSEB-VHPL_MSEB            INTRASTATE_BILATERAL -REV BY SLDC: BD WD : BLK[1-42]:( ALSO WPCL AND JSW RINFRA DAY HEAD DC REVISED)                               1                 -    42\n",
            "210514I27-BEST_MSEB-MVNL_MSEB       INTRASTATE_BILATERAL -REV BY SLDC: BD WD : BLK[1-42]:( ALSO WPCL AND JSW RINFRA DAY HEAD DC REVISED)                               1                 -    42\n",
            "210514I30-TPC_MSEB-KOHINOOR_MSEB    INTRASTATE_BILATERAL -VIPL 1 2 BLK 72 TO 77: JSW BLK 73 TO 76 AND DHARIWAL BLK 73 TO 76 BACKING DOWN WD BY SLDC                    [73767376]        -    [73767376]\n",
            "210514I34-MSEB-ULTRATECH_MSEB       INTRASTATE_BILATERAL -REV BY SLDC: BD WD : BLK[1-42]:( ALSO WPCL AND JSW RINFRA DAY HEAD DC REVISED)                               1                 -    42\n",
            "220514I2-MSEB-UTTAMGALVA_MSEB       INTRASTATE_BILATERAL -VIPL JSW TO RINFRA BD WDN 16-28 BY SLDC                                                                      16                -    28\n",
            "220514I24-MSEB-FINOLEX_MSEB         INTRASTATE_BILATERAL -VIPL U1 U2 BACKING DOWN WD BLK 74 TO 76 BY SLDC                                                              74                -    76\n",
            "220514I25-MSEB-AAENERGY_MSEB        INTRASTATE_BILATERAL -VIPL JSW TO RINFRA BD WDN 16-28 BY SLDC                                                                      16                -    28\n",
            "220514I42-TPC_MSEB-MSEB             INTRASTATE_BILATERAL -VIPL SMOOTHENING MVNL SCHEDULE UPDATED AND JSW TO RINFRA CORRCTED BY SLDC                                    0                 -    0\n",
            "220514I44-BEST_MSEB-WELSPUN_MSEB    INTRASTATE_BILATERAL -VIPL U1 U2 BACKING DOWN WD BLK 74 TO 76 BY SLDC                                                              74                -    76\n",
            "240514I29-MSEB-ASPL_MSEB            INTRASTATE_BILATERAL -INTRA_STATE_BILATERAL_SCHEDULES VIPL BD WDN BLK 25-29 BY SLDC                                                25                -    29\n",
            "240514I34-MSEB-ULTRATECH_MSEB       INTRASTATE_BILATERAL -INTRA_STATE_BILATERAL_SCHEDULES VIPL BD WDN BLK 25-29 BY SLDC                                                25                -    29\n",
            "240514I38-REL_MSEB-JSW_MSEB         INTRASTATE_BILATERAL -INTRA_STATE_BILATERAL_SCHEDULES VIPL BD WDN BLK 25-29 BY SLDC                                                25                -    29\n",
            "240514I46-TPC_MSEB-WPCL_MSEB        INTRASTATE_BILATERAL -INTRA_STATE_BILATERAL_SCHEDULES VIPL BD WDN BLK 25-29 BY SLDC                                                25                -    29\n",
            "250514I2-MSEB-UTTAMGALVA_MSEB       INTRASTATE_BILATERAL -VIPL UNIT 1 AND 2 BACKING DOWN IMP BLK 73 TO 80 BY SLDC                                                      73                -    80\n",
            "250514I28-BEST_MSEB-LAIL_MSEB       INTRASTATE_BILATERAL -VIPL AND JSW TO REL BACK DOWN WDN BY SLDC                                                                    0                 -    0\n",
            "250514I3-MSEB-JSW_MSEB              INTRASTATE_BILATERAL -VIPL UNIT 1 AND 2 BACKING DOWN IMP BLK 73 TO 80 BY SLDC                                                      73                -    80\n",
            "250514I30-TPC_MSEB-KOHINOOR_MSEB    INTRASTATE_BILATERAL -VIPL UNIT 1 AND 2 BACKING DOWN IMP BLK 73 TO 80 BY SLDC                                                      73                -    80\n",
            "250514I39-REL_MSEB-JSW_MSEB         INTRASTATE_BILATERAL -INTRA_STATE_BILATERAL_SCHEDULES BY SLDC                                                                      0                 -    0\n",
            "290614I25-MSEB-ULTRATECH_MSEB       INTRASTATE_BILATERAL -CORRECTED BY SLDC                                                                                            0                 -    0\n",
            "CHANDRAPUR_U1                       CHANDRAPUR -BACK DOWN BY SLDC BLK1T0 6 , 12 T0 20 AND 27 TO 32                                                                     [106120202732]    -    [106120202732]\n",
            "CHANDRAPUR_U4                       CHANDRAPUR -REV BY SLDC: BD IMP : BLK[77-78]                                                                                       77                -    78\n",
            "CHANDRAPUR_U7                       CHANDRAPUR -BACK DOWN BY SLDC:BLK 49 TO 56                                                                                         49                -    56\n",
            "IPL_U2                              IPL -IPL:BACK DOWN BY SLDC:BLK 49 TO 56                                                                                            49                -    56\n",
            "KHAPERKHEDA_U3                      KHAPERKHEDA -REV BY SLDC: BD WD : BLK[16-26]                                                                                       16                -    26\n",
            "KHAPERKHEDA_U3                      KHAPERKHEDA -BACK DOWN BY SLDC:BLK 72 TO 77                                                                                        72                -    77\n",
            "KHAPERKHEDA_U4                      KHAPERKHEDA -BACK DOWN BY SLDC:BLK 71 TO 76                                                                                        71                -    76\n",
            "NASIK_U1                            NASIK -NSK REV BD WD FROM BLK 37 BY SLDC                                                                                           37                -    37\n",
            "NASIK_U1                            NASIK -BACK DOWN WDN BY SLDC:BLK 63 TO 68                                                                                          63                -    68\n",
            "NASIK_U2                            NASIK -BACKBOWN  BY SLDC BLK 53-58                                                                                                 53                -    58\n",
            "NASIK_U2                            NASIK -BD WDN BY SLDC:BLK 1-41AND 43 TO 68                                                                                         [1414368]         -    [1414368]\n",
            "NASIK_U3                            NASIK -BD WDN BLK 12 TO 41 BY SLDC                                                                                                 12                -    41\n",
            "NASIK_U3                            NASIK -NASIK U4 GC2 SUSPECTED TUBE LKG BLK 46-96 MW 516-486 AND BD WDN BY SLDC BLK 46-57                                           [46965164864657]   -    [46965164864657]\n",
            "NASIK_U3                            NASIK -SCH CORRECTED BY SLDC                                                                                                       0                 -    0\n",
            "NASIK_U4                            NASIK -BD WDN BY SLDC:BLK 1-41AND 43 TO 68                                                                                         [1414368]         -    [1414368]\n",
            "NASIK_U4                            NASIK -NASIK U4 GC2 SUSPECTED TUBE LKG BLK 46-96 MW 516-486 AND BD WDN BY SLDC BLK 46-57                                           [46965164864657]   -    [46965164864657]\n",
            "NASIK_U5                            NASIK -BACKDOWN BY SLDC BLK 37 TO 40                                                                                               37                -    40\n",
            "PARALI_U1                           PARALI -REV BY SLDC: BD WD : BLK[84-96]                                                                                            84                -    96\n",
            "PARALI_U2                           PARALI -PARALI U-3 4 5 BD IMP BY SLDC BLK 6-36                                                                                     6                 -    36\n",
            "PARALI_U6                           PARALI -BACKDOWN BY SLDC BLK 37 TO 40                                                                                              37                -    40\n",
            "PARAS_U3                            PARAS -BACKDOWN FROM BLK 1 TO 6 AND 12 TO 20 AND 27 TO 32 BY SLDC.                                                                 [1612202732]      -    [1612202732]\n",
            "REL_DAHANU_U1                       REL_THERMAL -REL_THERMAL1BD WD BLK 6 TO 29 BY SLDC                                                                                 6                 -    29\n",
            "V_REL_TPCL_U6                       TPCL_U6 -TPCL_U6:REV BY SLDC:LOAD PICKED UP:BLK[43-71]:AS PER SYS REQ                                                              43                -    71\n",
            "V_TPCL_U5                           TPCL_U5 -TPCL_U5:REV BY SLDC FOR SMOOTHENING                                                                                       0                 -    0\n",
            "Total : 107\n",
            "Left right Null Values count: 7\n",
            "From and To Number Count: 100\n"
          ],
          "name": "stdout"
        }
      ]
    },
    {
      "cell_type": "code",
      "metadata": {
        "id": "1dpbSMENduGo",
        "colab_type": "code",
        "colab": {
          "base_uri": "https://localhost:8080/",
          "height": 35
        },
        "outputId": "cd922887-494f-4d80-b80c-3ffedaf6b56b"
      },
      "source": [
        "\n",
        "from_number1,to_number1=fu_return_from_to_block('NASIK -NSK REV BD WD FROM BLK 37 BY SLDC','BLK','BY SLD')\n",
        "print(from_number1,'       ',to_number1)    \n"
      ],
      "execution_count": 316,
      "outputs": [
        {
          "output_type": "stream",
          "text": [
            "37         37\n"
          ],
          "name": "stdout"
        }
      ]
    }
  ]
}