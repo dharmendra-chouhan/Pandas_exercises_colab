{
  "nbformat": 4,
  "nbformat_minor": 0,
  "metadata": {
    "colab": {
      "name": "revision2014_06_2020.ipynb",
      "provenance": [],
      "collapsed_sections": [],
      "include_colab_link": true
    },
    "kernelspec": {
      "name": "python3",
      "display_name": "Python 3"
    }
  },
  "cells": [
    {
      "cell_type": "markdown",
      "metadata": {
        "id": "view-in-github",
        "colab_type": "text"
      },
      "source": [
        "<a href=\"https://colab.research.google.com/github/dharmendra-chouhan/Pandas_exercises_colab/blob/master/revision2014_06_2020.ipynb\" target=\"_parent\"><img src=\"https://colab.research.google.com/assets/colab-badge.svg\" alt=\"Open In Colab\"/></a>"
      ]
    },
    {
      "cell_type": "code",
      "metadata": {
        "id": "hK6H8kY4fFL3",
        "colab_type": "code",
        "colab": {
          "resources": {
            "http://localhost:8080/nbextensions/google.colab/files.js": {
              "data": "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",
              "ok": true,
              "headers": [
                [
                  "content-type",
                  "application/javascript"
                ]
              ],
              "status": 200,
              "status_text": ""
            }
          },
          "base_uri": "https://localhost:8080/",
          "height": 75
        },
        "outputId": "545bad5c-ce46-4f6c-8ca5-5154abfddb03"
      },
      "source": [
        "from google.colab import files\n",
        "uploaded = files.upload()"
      ],
      "execution_count": 2,
      "outputs": [
        {
          "output_type": "display_data",
          "data": {
            "text/html": [
              "\n",
              "     <input type=\"file\" id=\"files-cd2ea7f1-ca37-49fc-b6f5-36a1634791a1\" name=\"files[]\" multiple disabled />\n",
              "     <output id=\"result-cd2ea7f1-ca37-49fc-b6f5-36a1634791a1\">\n",
              "      Upload widget is only available when the cell has been executed in the\n",
              "      current browser session. Please rerun this cell to enable.\n",
              "      </output>\n",
              "      <script src=\"/nbextensions/google.colab/files.js\"></script> "
            ],
            "text/plain": [
              "<IPython.core.display.HTML object>"
            ]
          },
          "metadata": {
            "tags": []
          }
        },
        {
          "output_type": "stream",
          "text": [
            "Saving revision_04-01-2020.csv to revision_04-01-2020.csv\n"
          ],
          "name": "stdout"
        }
      ]
    },
    {
      "cell_type": "code",
      "metadata": {
        "id": "RXHCOuybfLXL",
        "colab_type": "code",
        "colab": {}
      },
      "source": [
        "import io\n",
        "import pandas as pd\n",
        "revision2014 = pd.read_csv(io.BytesIO(uploaded['revision_04-01-2020.csv']))\n",
        "df1=revision2014\n"
      ],
      "execution_count": 0,
      "outputs": []
    },
    {
      "cell_type": "code",
      "metadata": {
        "id": "h96KA0REfQ5b",
        "colab_type": "code",
        "colab": {}
      },
      "source": [
        "import re\n",
        "import numpy as np\n",
        "\n",
        "def fu_return_from_to_block(p_text,p_left,p_right):\n",
        "\n",
        "  # for index1, row in df1.iterrows():\n",
        "      text =  p_text\n",
        "      left =  p_left\n",
        "      right =  p_right\n",
        "      # print(text,'    ',left,'    ',right,'    ',len(left),'      ',len(right))\n",
        "      list_values=[]\n",
        "      list_values=text[text.index(left)+len(left):len(text)]\n",
        "\n",
        "      if len(left)>0 and len(text)>0: \n",
        "        a=text[text.index(left)+len(left):len(text)]\n",
        "        if not a:\n",
        "            from_number=0\n",
        "            to_number=0\n",
        "            return from_number,to_number \n",
        "        if len(a)>0:\n",
        "          x=[a]\n",
        "          res = list(map(lambda sub:int(''.join([ele for ele in sub if ele.isnumeric()])), x))\n",
        "\n",
        "          if len(str(res[0]))>4:\n",
        "            from_number=res\n",
        "            to_number=res\n",
        "            return from_number,to_number \n",
        "          from_number=0\n",
        "          to_number=0\n",
        "          if len(str(res[0]))==4:\n",
        "            from_number=str(res[0])[:2]\n",
        "            to_number=str(res[0])[-2:]\n",
        "            # print(text.ljust(100),str(res).ljust(15),str(from_number).ljust(15),str(to_number).ljust(15) ,str(left).ljust(15)  ,right)\n",
        "            return from_number,to_number \n",
        "          elif len(str(res[0]))==3:\n",
        "            from_number=str(res[0])[:1]\n",
        "            to_number=str(res[0])[-2:]\n",
        "            # print(text.ljust(100),str(res).ljust(15),str(from_number).ljust(15),str(to_number).ljust(15) ,str(left).ljust(15)  ,right)\n",
        "\n",
        "            return from_number,to_number \n",
        "          elif len(str(res[0]))==1:\n",
        "            string = str(res[0])\n",
        "            if string.isnumeric():\n",
        "              from_number=str(res[0])[:1]\n",
        "              to_number=str(res[0])[-1:]\n",
        "              # print(text.ljust(100),str(res).ljust(15),str(from_number).ljust(15),str(to_number).ljust(15) ,str(left).ljust(15)  ,right)   \n",
        "\n",
        "              return from_number,to_number     \n",
        "          elif (len(str(res[0])))==2:\n",
        "            z=re.sub('[^A-Za-z0-9--]+', '', list_values)\n",
        "            if (z.isnumeric()) == True:  \n",
        "              from_number=str(res[0])[:2]\n",
        "              to_number=str(res[0])[-2:]\n",
        "              # print(text.ljust(100),str(res).ljust(15),str(from_number).ljust(15),str(to_number).ljust(15) ,str(left).ljust(15)  ,right)\n",
        "              return from_number,to_number \n",
        "            elif  (z.isnumeric()) == False:\n",
        "              from_number=str(res[0])[:1]\n",
        "              to_number=str(res[0])[-1:]\n",
        "              z=\"\"\n",
        "              a=''\n",
        "              # print(text.ljust(100),str(res).ljust(15),str(from_number).ljust(15),str(to_number).ljust(15) ,str(left).ljust(15)  ,right)\n",
        "              return from_number,to_number    \n",
        "      elif len(right)>0 and len(text)>0 and len(left)==0:\n",
        "        b=text[text.index(right)+len(right):len(text)]\n",
        "        if len(bool)>0:\n",
        "          print(text.ljust(100),b)\n",
        "          b=''\n",
        "      from_number=0\n",
        "      to_number=0   "
      ],
      "execution_count": 0,
      "outputs": []
    },
    {
      "cell_type": "code",
      "metadata": {
        "id": "UdTIJT-2gXva",
        "colab_type": "code",
        "colab": {
          "base_uri": "https://localhost:8080/",
          "height": 194
        },
        "outputId": "12a9ab4b-d68e-4d94-abc5-c568b3140ad8"
      },
      "source": [
        "df1.head()\n"
      ],
      "execution_count": 5,
      "outputs": [
        {
          "output_type": "execute_result",
          "data": {
            "text/html": [
              "<div>\n",
              "<style scoped>\n",
              "    .dataframe tbody tr th:only-of-type {\n",
              "        vertical-align: middle;\n",
              "    }\n",
              "\n",
              "    .dataframe tbody tr th {\n",
              "        vertical-align: top;\n",
              "    }\n",
              "\n",
              "    .dataframe thead th {\n",
              "        text-align: right;\n",
              "    }\n",
              "</style>\n",
              "<table border=\"1\" class=\"dataframe\">\n",
              "  <thead>\n",
              "    <tr style=\"text-align: right;\">\n",
              "      <th></th>\n",
              "      <th>REASON</th>\n",
              "      <th>Left</th>\n",
              "      <th>Right</th>\n",
              "      <th>Multiple</th>\n",
              "    </tr>\n",
              "  </thead>\n",
              "  <tbody>\n",
              "    <tr>\n",
              "      <th>0</th>\n",
              "      <td>CHANDRAPUR -U3,4 BUNKERING PROB ,U5&amp;7 PCQ U6 R...</td>\n",
              "      <td>NaN</td>\n",
              "      <td>NaN</td>\n",
              "      <td>NaN</td>\n",
              "    </tr>\n",
              "    <tr>\n",
              "      <th>1</th>\n",
              "      <td>CHANDRAPUR -BACKDOWN BY SLDC BLK 36-48</td>\n",
              "      <td>BLK</td>\n",
              "      <td>NaN</td>\n",
              "      <td>NaN</td>\n",
              "    </tr>\n",
              "    <tr>\n",
              "      <th>2</th>\n",
              "      <td>CHANDRAPUR -Rev 2 blk 65 to 96 ICQ</td>\n",
              "      <td>NaN</td>\n",
              "      <td>NaN</td>\n",
              "      <td>NaN</td>\n",
              "    </tr>\n",
              "    <tr>\n",
              "      <th>3</th>\n",
              "      <td>CHANDRAPUR -Rev 3 blk 67 to 96 ICQ and BD by S...</td>\n",
              "      <td>SLDC</td>\n",
              "      <td>NaN</td>\n",
              "      <td>NaN</td>\n",
              "    </tr>\n",
              "    <tr>\n",
              "      <th>4</th>\n",
              "      <td>CHANDRAPUR -5CHANDRAPURBD WD BLK 9 TO 28 BY SLDC</td>\n",
              "      <td>BLK</td>\n",
              "      <td>BY SLDC</td>\n",
              "      <td>NaN</td>\n",
              "    </tr>\n",
              "  </tbody>\n",
              "</table>\n",
              "</div>"
            ],
            "text/plain": [
              "                                              REASON  Left    Right  Multiple\n",
              "0  CHANDRAPUR -U3,4 BUNKERING PROB ,U5&7 PCQ U6 R...   NaN      NaN       NaN\n",
              "1             CHANDRAPUR -BACKDOWN BY SLDC BLK 36-48   BLK      NaN       NaN\n",
              "2                 CHANDRAPUR -Rev 2 blk 65 to 96 ICQ   NaN      NaN       NaN\n",
              "3  CHANDRAPUR -Rev 3 blk 67 to 96 ICQ and BD by S...  SLDC      NaN       NaN\n",
              "4   CHANDRAPUR -5CHANDRAPURBD WD BLK 9 TO 28 BY SLDC   BLK  BY SLDC       NaN"
            ]
          },
          "metadata": {
            "tags": []
          },
          "execution_count": 5
        }
      ]
    },
    {
      "cell_type": "code",
      "metadata": {
        "id": "qTyWMag_fboY",
        "colab_type": "code",
        "colab": {}
      },
      "source": [
        "scriteria = ['SLDC','BACKDOWN','BDN','BACKBOWN','BD','BACKDN','BACK DOWN','B/D','BKD','BKDW','BACKING BOWN','B/DN']  \n",
        "sstring = '|'.join(scriteria)\n",
        "df1 =  df1[df1['REASON'].str.upper().str.contains(sstring)]"
      ],
      "execution_count": 0,
      "outputs": []
    },
    {
      "cell_type": "code",
      "metadata": {
        "id": "zcGLJKZAhgls",
        "colab_type": "code",
        "colab": {}
      },
      "source": [
        "df1=df1.astype(str)"
      ],
      "execution_count": 0,
      "outputs": []
    },
    {
      "cell_type": "code",
      "metadata": {
        "id": "f32RQtBnhBEh",
        "colab_type": "code",
        "colab": {
          "base_uri": "https://localhost:8080/",
          "height": 177
        },
        "outputId": "34c43f6c-f8d8-4c64-a0f1-22b54f6e6c0c"
      },
      "source": [
        "df1.info()"
      ],
      "execution_count": 8,
      "outputs": [
        {
          "output_type": "stream",
          "text": [
            "<class 'pandas.core.frame.DataFrame'>\n",
            "Int64Index: 42 entries, 1 to 99\n",
            "Data columns (total 4 columns):\n",
            "REASON      42 non-null object\n",
            "Left        42 non-null object\n",
            "Right       42 non-null object\n",
            "Multiple    42 non-null object\n",
            "dtypes: object(4)\n",
            "memory usage: 1.6+ KB\n"
          ],
          "name": "stdout"
        }
      ]
    },
    {
      "cell_type": "code",
      "metadata": {
        "id": "bW7w1ruffeZa",
        "colab_type": "code",
        "colab": {
          "base_uri": "https://localhost:8080/",
          "height": 1000
        },
        "outputId": "2e4f30dd-471a-4a69-f794-4f94204ff72d"
      },
      "source": [
        "for index1, row in df1.iterrows():\n",
        "    from_number1=0\n",
        "    to_number1=0\n",
        "    text =  row['REASON'].upper()\n",
        "    left =  row['Left'].upper()\n",
        "    right =  row['Right'].upper()\n",
        "    print(text.ljust(100), str(left).ljust(15),'  -   ',right)\n",
        "    from_number1,to_number1=fu_return_from_to_block(text,left,right)\n",
        "    print(text.ljust(100), str(from_number1).ljust(15),'  -   ',to_number1)\n",
        "    from_number1='0'\n",
        "    to_number1='0'"
      ],
      "execution_count": 10,
      "outputs": [
        {
          "output_type": "stream",
          "text": [
            "CHANDRAPUR -BACKDOWN BY SLDC BLK 36-48                                                               BLK               -    NAN\n",
            "CHANDRAPUR -BACKDOWN BY SLDC BLK 36-48                                                               36                -    48\n",
            "CHANDRAPUR -REV 3 BLK 67 TO 96 ICQ AND BD BY SLDC 67 TO 89                                           SLDC              -    NAN\n",
            "CHANDRAPUR -REV 3 BLK 67 TO 96 ICQ AND BD BY SLDC 67 TO 89                                           67                -    89\n",
            "CHANDRAPUR -5CHANDRAPURBD WD BLK 9 TO 28 BY SLDC                                                     BLK               -    BY SLDC\n",
            "CHANDRAPUR -5CHANDRAPURBD WD BLK 9 TO 28 BY SLDC                                                     9                 -    28\n",
            "CHANDRAPUR -BACK DOWN FROM BLK(72-76) BY SLDC                                                        BLK               -    BY SLDC\n",
            "CHANDRAPUR -BACK DOWN FROM BLK(72-76) BY SLDC                                                        72                -    76\n",
            "CHANDRAPUR -CHANDRAPUR REV2 PCQ BLK 53-96 MW 1775-1734 AND BD IMP BLK 74-75                          IMP BLK           -    NAN\n",
            "CHANDRAPUR -CHANDRAPUR REV2 PCQ BLK 53-96 MW 1775-1734 AND BD IMP BLK 74-75                          74                -    75\n",
            "CHANDRAPUR -BACK DOWN WDN:BLK 16 TO 26                                                               BLK               -    NAN\n",
            "CHANDRAPUR -BACK DOWN WDN:BLK 16 TO 26                                                               16                -    26\n",
            "CHANDRAPUR -CHANDRAPUR BACK DOWN WDN BLK 70 BY SLDC                                                  BLK               -    BY SLDC\n",
            "CHANDRAPUR -CHANDRAPUR BACK DOWN WDN BLK 70 BY SLDC                                                  7                 -    0\n",
            "CHANDRAPUR -REV BY SLDC: BD WD : BLK[16-26]                                                          BLK               -    NAN\n",
            "CHANDRAPUR -REV BY SLDC: BD WD : BLK[16-26]                                                          16                -    26\n",
            "CHANDRAPUR -BACK DOWN:BLK 71 TO 76                                                                   BLK               -    NAN\n",
            "CHANDRAPUR -BACK DOWN:BLK 71 TO 76                                                                   71                -    76\n",
            "CHANDRAPUR -BACKING DOWN IMPLEMENTED BY SLDC FROM BLK(89-96)                                         BLK               -    NAN\n",
            "CHANDRAPUR -BACKING DOWN IMPLEMENTED BY SLDC FROM BLK(89-96)                                         89                -    96\n",
            "CHANDRAPUR -BACK DOWN BY SLDC BLK1T0 6 , 12 T0 20 AND 27 TO 32                                       BLK               -    NAN\n",
            "CHANDRAPUR -BACK DOWN BY SLDC BLK1T0 6 , 12 T0 20 AND 27 TO 32                                       [106120202732]    -    [106120202732]\n",
            "CHANDRAPUR -BACK DOWN BY SLDC:BLK 49 TO 56                                                           BLK               -    NAN\n",
            "CHANDRAPUR -BACK DOWN BY SLDC:BLK 49 TO 56                                                           49                -    56\n",
            "CHANDRAPUR -U5-SYNC:FROM 1232-1582 MW:BLK 26-96 IN STEPS:EXCEPT B/D BLKS                             MW:BLK            -    IN STEPS:EXCEPT B/D BLKS\n",
            "CHANDRAPUR -U5-SYNC:FROM 1232-1582 MW:BLK 26-96 IN STEPS:EXCEPT B/D BLKS                             26                -    96\n",
            "CHANDRAPUR -BACK DOWN IN BLK(89-96) BY SLDC                                                          BLK               -    BY SLDC\n",
            "CHANDRAPUR -BACK DOWN IN BLK(89-96) BY SLDC                                                          89                -    96\n",
            "CHANDRAPUR -CHANDRAPUR BD IMP 9-22                                                                   IMP               -    NAN\n",
            "CHANDRAPUR -CHANDRAPUR BD IMP 9-22                                                                   9                 -    22\n",
            "CHANDRAPUR -BACKDOWN BY SLDC BLK 48 TO 50                                                            BLK               -    NAN\n",
            "CHANDRAPUR -BACKDOWN BY SLDC BLK 48 TO 50                                                            48                -    50\n",
            "CHANDRAPUR -BACK DOWN IMPL BY SLDC BLK 82 TO 86                                                      BLK               -    NAN\n",
            "CHANDRAPUR -BACK DOWN IMPL BY SLDC BLK 82 TO 86                                                      82                -    86\n",
            "CHANDRAPUR -PCQ:FROM 1643-1579 MW:BLK 65-96 AND BACKING DOWN EXTENDED FROM BLK(87-89) BY SLDC        BLK               -    BY SLDC\n",
            "CHANDRAPUR -PCQ:FROM 1643-1579 MW:BLK 65-96 AND BACKING DOWN EXTENDED FROM BLK(87-89) BY SLDC        [65968789]        -    [65968789]\n",
            "CHANDRAPUR -CHANDRAPUR BD IMP 14-32                                                                  IMP               -    NAN\n",
            "CHANDRAPUR -CHANDRAPUR BD IMP 14-32                                                                  14                -    32\n",
            "CHANDRAPUR -BACKING DOWN IMPL.FROM BLK(51-78) BY SLDC                                                BLK               -    BY SLDC\n",
            "CHANDRAPUR -BACKING DOWN IMPL.FROM BLK(51-78) BY SLDC                                                51                -    78\n",
            "CHANDRAPUR -BACK DOWN WDN:BLK 11 TO 20                                                               BLK               -    NAN\n",
            "CHANDRAPUR -BACK DOWN WDN:BLK 11 TO 20                                                               11                -    20\n",
            "CHANDRAPUR -BACK DOWN WDN 27-32 BD IMP 32-40 AND 51-55 AND 68-77 AND 83 TO 96                        IMP               -    NAN\n",
            "CHANDRAPUR -BACK DOWN WDN 27-32 BD IMP 32-40 AND 51-55 AND 68-77 AND 83 TO 96                        [3240515568778396]   -    [3240515568778396]\n",
            "CHANDRAPUR -CHANDRAPUR BACK DOWN WDN 27TO29AND IMP BLK 34 TO 37                                      BLK               -    NAN\n",
            "CHANDRAPUR -CHANDRAPUR BACK DOWN WDN 27TO29AND IMP BLK 34 TO 37                                      34                -    37\n",
            "CHANDRAPUR -BD WDN BY SLDC:BLK 14-18 AND BLK-26-28                                                   BY SLDC:BLK       -    NAN\n",
            "CHANDRAPUR -BD WDN BY SLDC:BLK 14-18 AND BLK-26-28                                                   [14182628]        -    [14182628]\n",
            "CHANDRAPUR -BACK DOWN BY SLDC:BLK 73 TO 77                                                           BLK               -    NAN\n",
            "CHANDRAPUR -BACK DOWN BY SLDC:BLK 73 TO 77                                                           73                -    77\n",
            "CHANDRAPUR -BACK DOWN BY SLDC:BLK 74 TO 76                                                           BLK               -    NAN\n",
            "CHANDRAPUR -BACK DOWN BY SLDC:BLK 74 TO 76                                                           74                -    76\n",
            "CHANDRAPUR -CHANDRAPUR BD IMP BLK 27 TO 28 BY SDLDC.                                                 BLK               -    BY SLDC\n",
            "CHANDRAPUR -CHANDRAPUR BD IMP BLK 27 TO 28 BY SDLDC.                                                 27                -    28\n",
            "CHANDRAPUR -CHANDRAPUR BD IMP BLK 27 TO 28 BY SDLDC.                                                 BLK               -    BY SLDC\n",
            "CHANDRAPUR -CHANDRAPUR BD IMP BLK 27 TO 28 BY SDLDC.                                                 27                -    28\n",
            "CHANDRAPUR -CORRECTED BY SLDC                                                                        BY SLDC           -    NAN\n",
            "CHANDRAPUR -CORRECTED BY SLDC                                                                        0                 -    0\n",
            "CHANDRAPUR -U-5 SYNC: BLK[45]:(ALSO INCLUDED BD WD FROM 71 TO 75)                                    WD FROM           -    NAN\n",
            "CHANDRAPUR -U-5 SYNC: BLK[45]:(ALSO INCLUDED BD WD FROM 71 TO 75)                                    71                -    75\n",
            "CHANDRAPUR -REV BY SLDC: BD IMP : BLK[77-78]                                                         BLK               -    NAN\n",
            "CHANDRAPUR -REV BY SLDC: BD IMP : BLK[77-78]                                                         77                -    78\n",
            "CHANDRAPUR -CORRECTED BY SLDC                                                                        BY SLDC           -    NAN\n",
            "CHANDRAPUR -CORRECTED BY SLDC                                                                        0                 -    0\n",
            "CHANDRAPUR -SCH CORRECTED BY SLDC                                                                    BY SLDC           -    NAN\n",
            "CHANDRAPUR -SCH CORRECTED BY SLDC                                                                    0                 -    0\n",
            "CHANDRAPUR -REV1: U3 PCQ U7 COAL MILL PROB: BLK[1-96]: ALSO INCLUDED BD IMP [16-20]                  BD IMP            -    NAN\n",
            "CHANDRAPUR -REV1: U3 PCQ U7 COAL MILL PROB: BLK[1-96]: ALSO INCLUDED BD IMP [16-20]                  16                -    20\n",
            "CHANDRAPUR -BACKDOWN BY SLDC BLK 59 TO 64 AND 73 TO 96                                               BY SLDC BLK       -    NAN\n",
            "CHANDRAPUR -BACKDOWN BY SLDC BLK 59 TO 64 AND 73 TO 96                                               [59647396]        -    [59647396]\n",
            "CHANDRAPUR -CHANDRAPUR BD IMP BLK 11 TO 27 BY SLDC                                                   BLK               -    BY SLDC\n",
            "CHANDRAPUR -CHANDRAPUR BD IMP BLK 11 TO 27 BY SLDC                                                   11                -    27\n",
            "CHANDRAPUR -CORRECTED BY SLDC                                                                        BY SLDC           -    NAN\n",
            "CHANDRAPUR -CORRECTED BY SLDC                                                                        0                 -    0\n",
            "CHANDRAPUR -REV1:U-3 PCQ,U-5,6,7 CHP PROB :BLK 3-96 :1808-1347 MW:( ALSO INCLUDED BD WD BLK[28])     WD BLK            -    NAN\n",
            "CHANDRAPUR -REV1:U-3 PCQ,U-5,6,7 CHP PROB :BLK 3-96 :1808-1347 MW:( ALSO INCLUDED BD WD BLK[28])     28                -    28\n",
            "CHANDRAPUR -BACK DOWN BY SLDC BLK 51 TO 54                                                           BLK               -    NAN\n",
            "CHANDRAPUR -BACK DOWN BY SLDC BLK 51 TO 54                                                           51                -    54\n",
            "CHANDRAPUR -REV BY SLDC: BD WD : BLK[27]                                                             BLK               -    NAN\n",
            "CHANDRAPUR -REV BY SLDC: BD WD : BLK[27]                                                             27                -    27\n",
            "CHANDRAPUR -REV1:U-3 PCQ,U-5,6,7 CHP PROB :BLK 3-96 :1808-1347 MW:( ALSO INCLUDED BD WD BLK[2 TO 8]) WD BLK            -    NAN\n",
            "CHANDRAPUR -REV1:U-3 PCQ,U-5,6,7 CHP PROB :BLK 3-96 :1808-1347 MW:( ALSO INCLUDED BD WD BLK[2 TO 8]) 2                 -    8\n",
            "CHANDRAPUR -REV1:U-3 PCQ,U-5,6,7 CHP PROB :BLK 3-96 :1808-1347 MW:( ALSO INCLUDED BD WD BLK[2 - 8])  WD BLK            -    NAN\n",
            "CHANDRAPUR -REV1:U-3 PCQ,U-5,6,7 CHP PROB :BLK 3-96 :1808-1347 MW:( ALSO INCLUDED BD WD BLK[2 - 8])  2                 -    8\n"
          ],
          "name": "stdout"
        }
      ]
    },
    {
      "cell_type": "code",
      "metadata": {
        "id": "HJSd8tx-keIz",
        "colab_type": "code",
        "colab": {
          "base_uri": "https://localhost:8080/",
          "height": 168
        },
        "outputId": "63fa188a-ebef-456b-e3e3-eb7a26db853f"
      },
      "source": [
        "df1.tail(200)"
      ],
      "execution_count": 1,
      "outputs": [
        {
          "output_type": "error",
          "ename": "NameError",
          "evalue": "ignored",
          "traceback": [
            "\u001b[0;31m---------------------------------------------------------------------------\u001b[0m",
            "\u001b[0;31mNameError\u001b[0m                                 Traceback (most recent call last)",
            "\u001b[0;32m<ipython-input-1-8aeb2b9d58ff>\u001b[0m in \u001b[0;36m<module>\u001b[0;34m()\u001b[0m\n\u001b[0;32m----> 1\u001b[0;31m \u001b[0mdf1\u001b[0m\u001b[0;34m.\u001b[0m\u001b[0mtail\u001b[0m\u001b[0;34m(\u001b[0m\u001b[0;36m200\u001b[0m\u001b[0;34m)\u001b[0m\u001b[0;34m\u001b[0m\u001b[0;34m\u001b[0m\u001b[0m\n\u001b[0m",
            "\u001b[0;31mNameError\u001b[0m: name 'df1' is not defined"
          ]
        }
      ]
    },
    {
      "cell_type": "code",
      "metadata": {
        "id": "EcqKsSTCgT8x",
        "colab_type": "code",
        "colab": {
          "base_uri": "https://localhost:8080/",
          "height": 35
        },
        "outputId": "ee52f630-54c1-41ea-973f-cc11a04a8711"
      },
      "source": [
        "fromnumber1,to_number1=fu_return_from_to_block('CHANDRAPUR -CHANDRAPUR BACK DOWN WDN BLK 70 BY SLDC','BLK','BY SLDC')\n",
        "print(fromnumber1.ljust(50),to_number1)"
      ],
      "execution_count": 12,
      "outputs": [
        {
          "output_type": "stream",
          "text": [
            "7                                                  0\n"
          ],
          "name": "stdout"
        }
      ]
    }
  ]
}