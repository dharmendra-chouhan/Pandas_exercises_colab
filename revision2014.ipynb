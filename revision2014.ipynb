{
  "nbformat": 4,
  "nbformat_minor": 0,
  "metadata": {
    "colab": {
      "name": "revision2014.ipynb",
      "provenance": [],
      "collapsed_sections": [],
      "include_colab_link": true
    },
    "kernelspec": {
      "name": "python3",
      "display_name": "Python 3"
    }
  },
  "cells": [
    {
      "cell_type": "markdown",
      "metadata": {
        "id": "view-in-github",
        "colab_type": "text"
      },
      "source": [
        "<a href=\"https://colab.research.google.com/github/dharmendra-chouhan/Pandas_exercises_colab/blob/master/revision2014.ipynb\" target=\"_parent\"><img src=\"https://colab.research.google.com/assets/colab-badge.svg\" alt=\"Open In Colab\"/></a>"
      ]
    },
    {
      "cell_type": "code",
      "metadata": {
        "id": "5-ktH20UBsU1",
        "colab_type": "code",
        "colab": {
          "resources": {
            "http://localhost:8080/nbextensions/google.colab/files.js": {
              "data": "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",
              "ok": true,
              "headers": [
                [
                  "content-type",
                  "application/javascript"
                ]
              ],
              "status": 200,
              "status_text": ""
            }
          },
          "base_uri": "https://localhost:8080/",
          "height": 75
        },
        "outputId": "7b3d247c-9bef-4c60-b1c8-31576ef75098"
      },
      "source": [
        "from google.colab import files\n",
        "uploaded = files.upload()"
      ],
      "execution_count": 482,
      "outputs": [
        {
          "output_type": "display_data",
          "data": {
            "text/html": [
              "\n",
              "     <input type=\"file\" id=\"files-7f481c04-465d-4d1b-933b-abea6458d7b5\" name=\"files[]\" multiple disabled />\n",
              "     <output id=\"result-7f481c04-465d-4d1b-933b-abea6458d7b5\">\n",
              "      Upload widget is only available when the cell has been executed in the\n",
              "      current browser session. Please rerun this cell to enable.\n",
              "      </output>\n",
              "      <script src=\"/nbextensions/google.colab/files.js\"></script> "
            ],
            "text/plain": [
              "<IPython.core.display.HTML object>"
            ]
          },
          "metadata": {
            "tags": []
          }
        },
        {
          "output_type": "stream",
          "text": [
            "Saving revision_04-01-2020.csv to revision_04-01-2020 (8).csv\n"
          ],
          "name": "stdout"
        }
      ]
    },
    {
      "cell_type": "code",
      "metadata": {
        "id": "I8IsXB4RB20Y",
        "colab_type": "code",
        "colab": {}
      },
      "source": [
        "import io\n",
        "import pandas as pd\n",
        "revision2014 = pd.read_csv(io.BytesIO(uploaded['revision_04-01-2020.csv']))"
      ],
      "execution_count": 0,
      "outputs": []
    },
    {
      "cell_type": "code",
      "metadata": {
        "id": "mQ8sDjT-B_rA",
        "colab_type": "code",
        "colab": {
          "base_uri": "https://localhost:8080/",
          "height": 177
        },
        "outputId": "139d7480-c522-4bc8-dad1-848dc96fe638"
      },
      "source": [
        "revision2014.info()"
      ],
      "execution_count": 460,
      "outputs": [
        {
          "output_type": "stream",
          "text": [
            "<class 'pandas.core.frame.DataFrame'>\n",
            "RangeIndex: 100 entries, 0 to 99\n",
            "Data columns (total 4 columns):\n",
            "REASON      100 non-null object\n",
            "Left        42 non-null object\n",
            "Right       9 non-null object\n",
            "Multiple    3 non-null float64\n",
            "dtypes: float64(1), object(3)\n",
            "memory usage: 3.2+ KB\n"
          ],
          "name": "stdout"
        }
      ]
    },
    {
      "cell_type": "code",
      "metadata": {
        "id": "nqZup6q-fHqD",
        "colab_type": "code",
        "colab": {}
      },
      "source": [
        "# funtion return form number and to number\n",
        "import re\n",
        "\n",
        "def fu_return_from_to_block_backup(p_text,p_left,p_right):\n",
        "    from_number=0\n",
        "    to_number=0\n",
        "    text =  p_text.upper()\n",
        "    left = p_left.upper()\n",
        "    right =  p_right.upper()\n",
        "    list_values=[]\n",
        "    list_values=text[text.index(left)+len(left):len(text)]\n",
        "    if len(left)>0 and len(text)>0 and len(right)==0:\n",
        "\n",
        "      a=text[text.index(left)+len(left):len(text)]\n",
        "      if len(a)>0:\n",
        "        x=[a]\n",
        "        res = list(map(lambda sub:int(''.join([ele for ele in sub if ele.isnumeric()])), x))\n",
        "        from_number=0\n",
        "        to_number=0\n",
        "        if len(str(res[0]))==4:\n",
        "          from_number=str(res[0])[:2]\n",
        "          to_number=str(res[0])[-2:]\n",
        "        elif len(str(res[0]))==3:\n",
        "          from_number=str(res[0])[:1]\n",
        "          to_number=str(res[0])[-2:]\n",
        "        elif len(str(res[0]))==1:\n",
        "          string = str(res[0])\n",
        "          if string.isnumeric():\n",
        "            from_number=str(res[0])[:1]\n",
        "            to_number=str(res[0])[-1:]       \n",
        "        elif (len(str(res[0])))==2:\n",
        "          z=re.sub('[^A-Za-z0-9--]+', '', list_values)\n",
        "          if (z.isnumeric()) == True:  \n",
        "            from_number=str(res[0])[:2]\n",
        "            to_number=str(res[0])[-2:]\n",
        "          elif  (z.isnumeric()) == False:\n",
        "            from_number=str(res[0])[:1]\n",
        "            to_number=str(res[0])[-1:]\n",
        "\n",
        "        # print(text.ljust(100),str(res).ljust(15),str(from_number).ljust(15),to_number)\n",
        "        z=\"\"\n",
        "        a=''\n",
        "    elif len(right)>0 and len(text)>0 and len(left)==0:\n",
        "      b=text[text.index(right)+len(right):len(text)]\n",
        "      if len(bool)>0:\n",
        "        # print(text.ljust(100),b)\n",
        "        b=''\n",
        "    if len(str(from_number))>0:\n",
        "      return from_number,to_number\n",
        "\n"
      ],
      "execution_count": 0,
      "outputs": []
    },
    {
      "cell_type": "code",
      "metadata": {
        "id": "ZwG296Gp8E-R",
        "colab_type": "code",
        "colab": {}
      },
      "source": [
        "df1=revision2014"
      ],
      "execution_count": 0,
      "outputs": []
    },
    {
      "cell_type": "code",
      "metadata": {
        "id": "uEvo-FfmB_wG",
        "colab_type": "code",
        "colab": {
          "base_uri": "https://localhost:8080/",
          "height": 559
        },
        "outputId": "30d1f5d8-420a-4ac8-f60b-a2dcd05c163d"
      },
      "source": [
        "df1.info()\n",
        "df1=df1.astype(str)\n",
        "df1.Left.fillna('', inplace=True)\n",
        "df1\n"
      ],
      "execution_count": 487,
      "outputs": [
        {
          "output_type": "stream",
          "text": [
            "<class 'pandas.core.frame.DataFrame'>\n",
            "RangeIndex: 100 entries, 0 to 99\n",
            "Data columns (total 4 columns):\n",
            "REASON      100 non-null object\n",
            "Left        42 non-null object\n",
            "Right       9 non-null object\n",
            "Multiple    3 non-null float64\n",
            "dtypes: float64(1), object(3)\n",
            "memory usage: 3.2+ KB\n"
          ],
          "name": "stdout"
        },
        {
          "output_type": "execute_result",
          "data": {
            "text/html": [
              "<div>\n",
              "<style scoped>\n",
              "    .dataframe tbody tr th:only-of-type {\n",
              "        vertical-align: middle;\n",
              "    }\n",
              "\n",
              "    .dataframe tbody tr th {\n",
              "        vertical-align: top;\n",
              "    }\n",
              "\n",
              "    .dataframe thead th {\n",
              "        text-align: right;\n",
              "    }\n",
              "</style>\n",
              "<table border=\"1\" class=\"dataframe\">\n",
              "  <thead>\n",
              "    <tr style=\"text-align: right;\">\n",
              "      <th></th>\n",
              "      <th>REASON</th>\n",
              "      <th>Left</th>\n",
              "      <th>Right</th>\n",
              "      <th>Multiple</th>\n",
              "    </tr>\n",
              "  </thead>\n",
              "  <tbody>\n",
              "    <tr>\n",
              "      <th>0</th>\n",
              "      <td>CHANDRAPUR -U3,4 BUNKERING PROB ,U5&amp;7 PCQ U6 R...</td>\n",
              "      <td>nan</td>\n",
              "      <td>nan</td>\n",
              "      <td>nan</td>\n",
              "    </tr>\n",
              "    <tr>\n",
              "      <th>1</th>\n",
              "      <td>CHANDRAPUR -BACKDOWN BY SLDC BLK 36-48</td>\n",
              "      <td>BLK</td>\n",
              "      <td>nan</td>\n",
              "      <td>nan</td>\n",
              "    </tr>\n",
              "    <tr>\n",
              "      <th>2</th>\n",
              "      <td>CHANDRAPUR -Rev 2 blk 65 to 96 ICQ</td>\n",
              "      <td>nan</td>\n",
              "      <td>nan</td>\n",
              "      <td>nan</td>\n",
              "    </tr>\n",
              "    <tr>\n",
              "      <th>3</th>\n",
              "      <td>CHANDRAPUR -Rev 3 blk 67 to 96 ICQ and BD by S...</td>\n",
              "      <td>SLDC</td>\n",
              "      <td>nan</td>\n",
              "      <td>nan</td>\n",
              "    </tr>\n",
              "    <tr>\n",
              "      <th>4</th>\n",
              "      <td>CHANDRAPUR -5CHANDRAPURBD WD BLK 9 TO 28 BY SLDC</td>\n",
              "      <td>BLK</td>\n",
              "      <td>BY SLDC</td>\n",
              "      <td>nan</td>\n",
              "    </tr>\n",
              "    <tr>\n",
              "      <th>...</th>\n",
              "      <td>...</td>\n",
              "      <td>...</td>\n",
              "      <td>...</td>\n",
              "      <td>...</td>\n",
              "    </tr>\n",
              "    <tr>\n",
              "      <th>95</th>\n",
              "      <td>CHANDRAPUR -REV BY SLDC: BD WD : BLK[27]</td>\n",
              "      <td>BLK</td>\n",
              "      <td>nan</td>\n",
              "      <td>nan</td>\n",
              "    </tr>\n",
              "    <tr>\n",
              "      <th>96</th>\n",
              "      <td>CHANDRAPUR -REV1:U-3,4:PCQ:U6,7:COAL MILL PROB...</td>\n",
              "      <td>nan</td>\n",
              "      <td>nan</td>\n",
              "      <td>nan</td>\n",
              "    </tr>\n",
              "    <tr>\n",
              "      <th>97</th>\n",
              "      <td>CHANDRAPUR -CHANDRAPUR REV2 U2-TRIPPED U5-PCQ ...</td>\n",
              "      <td>nan</td>\n",
              "      <td>nan</td>\n",
              "      <td>nan</td>\n",
              "    </tr>\n",
              "    <tr>\n",
              "      <th>98</th>\n",
              "      <td>CHANDRAPUR -REV1:U-3 PCQ,U-5,6,7 CHP PROB :BLK...</td>\n",
              "      <td>WD BLK</td>\n",
              "      <td>nan</td>\n",
              "      <td>nan</td>\n",
              "    </tr>\n",
              "    <tr>\n",
              "      <th>99</th>\n",
              "      <td>CHANDRAPUR -REV1:U-3 PCQ,U-5,6,7 CHP PROB :BLK...</td>\n",
              "      <td>WD BLK</td>\n",
              "      <td>nan</td>\n",
              "      <td>nan</td>\n",
              "    </tr>\n",
              "  </tbody>\n",
              "</table>\n",
              "<p>100 rows × 4 columns</p>\n",
              "</div>"
            ],
            "text/plain": [
              "                                               REASON    Left    Right Multiple\n",
              "0   CHANDRAPUR -U3,4 BUNKERING PROB ,U5&7 PCQ U6 R...     nan      nan      nan\n",
              "1              CHANDRAPUR -BACKDOWN BY SLDC BLK 36-48     BLK      nan      nan\n",
              "2                  CHANDRAPUR -Rev 2 blk 65 to 96 ICQ     nan      nan      nan\n",
              "3   CHANDRAPUR -Rev 3 blk 67 to 96 ICQ and BD by S...    SLDC      nan      nan\n",
              "4    CHANDRAPUR -5CHANDRAPURBD WD BLK 9 TO 28 BY SLDC     BLK  BY SLDC      nan\n",
              "..                                                ...     ...      ...      ...\n",
              "95           CHANDRAPUR -REV BY SLDC: BD WD : BLK[27]     BLK      nan      nan\n",
              "96  CHANDRAPUR -REV1:U-3,4:PCQ:U6,7:COAL MILL PROB...     nan      nan      nan\n",
              "97  CHANDRAPUR -CHANDRAPUR REV2 U2-TRIPPED U5-PCQ ...     nan      nan      nan\n",
              "98  CHANDRAPUR -REV1:U-3 PCQ,U-5,6,7 CHP PROB :BLK...  WD BLK      nan      nan\n",
              "99  CHANDRAPUR -REV1:U-3 PCQ,U-5,6,7 CHP PROB :BLK...  WD BLK      nan      nan\n",
              "\n",
              "[100 rows x 4 columns]"
            ]
          },
          "metadata": {
            "tags": []
          },
          "execution_count": 487
        }
      ]
    },
    {
      "cell_type": "code",
      "metadata": {
        "id": "4gz7LPZYEIgb",
        "colab_type": "code",
        "colab": {
          "base_uri": "https://localhost:8080/",
          "height": 124
        },
        "outputId": "2a6689f7-f7ff-4ceb-cbda-c081198b6441"
      },
      "source": [
        "df1.head()\n",
        "\n"
      ],
      "execution_count": 484,
      "outputs": [
        {
          "output_type": "execute_result",
          "data": {
            "text/plain": [
              "0     nan\n",
              "1     BLK\n",
              "2     nan\n",
              "3    SLDC\n",
              "4     BLK\n",
              "Name: Left, dtype: object"
            ]
          },
          "metadata": {
            "tags": []
          },
          "execution_count": 484
        }
      ]
    },
    {
      "cell_type": "code",
      "metadata": {
        "id": "m7fcKvGohjTS",
        "colab_type": "code",
        "colab": {}
      },
      "source": [
        "\n",
        "# for index1, row in df1.iterrows():\n",
        "#     from_number1=0\n",
        "#     to_number1=0\n",
        "\n",
        "#     text =  row['REASON']\n",
        "#     left =  row['Left']\n",
        "#     right =  row['Right']\n",
        "#     if from_number1.isdigit():\n",
        "#     from_number1,to_number1=fu_return_from_to_block(text,left,right)\n",
        "#     # if from_number1.isdigit():\n",
        "#     #   print(text,' -    ', from_number1,'  -   ',to_number1)\n",
        "#     # from_number=0\n",
        "#     # to_number=0\n",
        "#     print( from_number1,'  -   ',to_number1)\n",
        "#     from_number='0'\n",
        "#     to_number='0'\n"
      ],
      "execution_count": 0,
      "outputs": []
    },
    {
      "cell_type": "code",
      "metadata": {
        "id": "RPcSZx6z7HDH",
        "colab_type": "code",
        "colab": {
          "base_uri": "https://localhost:8080/",
          "height": 35
        },
        "outputId": "c151d3fc-dd58-41a4-ac24-da2fda0d0bef"
      },
      "source": [
        "fu_return_from_to_block('REV 3 BLK 67 TO 96 ICQ AND BD BY SLDC 6 TO 8','BD BY SLDC','')"
      ],
      "execution_count": 464,
      "outputs": [
        {
          "output_type": "execute_result",
          "data": {
            "text/plain": [
              "('6', '8')"
            ]
          },
          "metadata": {
            "tags": []
          },
          "execution_count": 464
        }
      ]
    },
    {
      "cell_type": "code",
      "metadata": {
        "id": "Km_XTRXCSSUu",
        "colab_type": "code",
        "colab": {
          "base_uri": "https://localhost:8080/",
          "height": 177
        },
        "outputId": "06299de0-8590-49dd-ee48-19c9ec4cbe39"
      },
      "source": [
        "df1.info()"
      ],
      "execution_count": 474,
      "outputs": [
        {
          "output_type": "stream",
          "text": [
            "<class 'pandas.core.frame.DataFrame'>\n",
            "RangeIndex: 100 entries, 0 to 99\n",
            "Data columns (total 4 columns):\n",
            "REASON      100 non-null object\n",
            "Left        42 non-null object\n",
            "Right       9 non-null object\n",
            "Multiple    3 non-null float64\n",
            "dtypes: float64(1), object(3)\n",
            "memory usage: 3.2+ KB\n"
          ],
          "name": "stdout"
        }
      ]
    },
    {
      "cell_type": "code",
      "metadata": {
        "id": "-DKv5RMHkgGo",
        "colab_type": "code",
        "colab": {}
      },
      "source": [
        "df1=df1['Left'].astype(str)"
      ],
      "execution_count": 0,
      "outputs": []
    },
    {
      "cell_type": "code",
      "metadata": {
        "id": "rEZ-ZzIsz3VT",
        "colab_type": "code",
        "colab": {
          "base_uri": "https://localhost:8080/",
          "height": 364
        },
        "outputId": "82402728-0505-41f4-c80b-00098e554bc7"
      },
      "source": [
        "import re\n",
        "import numpy as np\n",
        "for index1, row in df1.iterrows():\n",
        "    text =  row['REASON'].upper()\n",
        "    left =  row['Left'].upper()\n",
        "    right =  row['Right'].upper()\n",
        "    # print(text,'    ',left,'    ',right,'    ',len(left),'      ',len(right))\n",
        "    list_values=[]\n",
        "    list_values=text[text.index(left)+len(left):len(text)]\n",
        "\n",
        "    if len(left)>0 and len(text)>0: \n",
        "      # and len(right)==0:\n",
        "      # print(len(right))\n",
        "      a=text[text.index(left)+len(left):len(text)]\n",
        "      # print(a)\n",
        "      if len(a)>0:\n",
        "        x=[a]\n",
        "        res = list(map(lambda sub:int(''.join([ele for ele in sub if ele.isnumeric()])), x))\n",
        "        from_number=0\n",
        "        to_number=0\n",
        "        if len(str(res[0]))==4:\n",
        "          from_number=str(res[0])[:2]\n",
        "          to_number=str(res[0])[-2:]\n",
        "          print(text.ljust(100),str(res).ljust(15),str(from_number).ljust(15),to_number)\n",
        "        elif len(str(res[0]))==3:\n",
        "          from_number=str(res[0])[:1]\n",
        "          to_number=str(res[0])[-2:]\n",
        "          print(text.ljust(100),str(res).ljust(15),str(from_number).ljust(15),to_number)\n",
        "        elif len(str(res[0]))==1:\n",
        "          string = str(res[0])\n",
        "          if string.isnumeric():\n",
        "            from_number=str(res[0])[:1]\n",
        "            to_number=str(res[0])[-1:]\n",
        "            print(text.ljust(100),str(res).ljust(15),str(from_number).ljust(15),to_number)       \n",
        "        elif (len(str(res[0])))==2:\n",
        "          z=re.sub('[^A-Za-z0-9--]+', '', list_values)\n",
        "          if (z.isnumeric()) == True:  \n",
        "            from_number=str(res[0])[:2]\n",
        "            to_number=str(res[0])[-2:]\n",
        "            print(text.ljust(100),str(res).ljust(15),str(from_number).ljust(15),to_number)\n",
        "          elif  (z.isnumeric()) == False:\n",
        "            from_number=str(res[0])[:1]\n",
        "            to_number=str(res[0])[-1:]\n",
        "            z=\"\"\n",
        "            a=''\n",
        "            print(text.ljust(100),str(res).ljust(15),str(from_number).ljust(15),to_number)\n",
        "\n",
        "    elif len(right)>0 and len(text)>0 and len(left)==0:\n",
        "      b=text[text.index(right)+len(right):len(text)]\n",
        "      if len(bool)>0:\n",
        "        print(text.ljust(100),b)\n",
        "        b=''\n"
      ],
      "execution_count": 476,
      "outputs": [
        {
          "output_type": "error",
          "ename": "AttributeError",
          "evalue": "ignored",
          "traceback": [
            "\u001b[0;31m---------------------------------------------------------------------------\u001b[0m",
            "\u001b[0;31mAttributeError\u001b[0m                            Traceback (most recent call last)",
            "\u001b[0;32m<ipython-input-476-14e284545bcb>\u001b[0m in \u001b[0;36m<module>\u001b[0;34m()\u001b[0m\n\u001b[1;32m      1\u001b[0m \u001b[0;32mimport\u001b[0m \u001b[0mre\u001b[0m\u001b[0;34m\u001b[0m\u001b[0;34m\u001b[0m\u001b[0m\n\u001b[1;32m      2\u001b[0m \u001b[0;32mimport\u001b[0m \u001b[0mnumpy\u001b[0m \u001b[0;32mas\u001b[0m \u001b[0mnp\u001b[0m\u001b[0;34m\u001b[0m\u001b[0;34m\u001b[0m\u001b[0m\n\u001b[0;32m----> 3\u001b[0;31m \u001b[0;32mfor\u001b[0m \u001b[0mindex1\u001b[0m\u001b[0;34m,\u001b[0m \u001b[0mrow\u001b[0m \u001b[0;32min\u001b[0m \u001b[0mdf1\u001b[0m\u001b[0;34m.\u001b[0m\u001b[0miterrows\u001b[0m\u001b[0;34m(\u001b[0m\u001b[0;34m)\u001b[0m\u001b[0;34m:\u001b[0m\u001b[0;34m\u001b[0m\u001b[0;34m\u001b[0m\u001b[0m\n\u001b[0m\u001b[1;32m      4\u001b[0m     \u001b[0mtext\u001b[0m \u001b[0;34m=\u001b[0m  \u001b[0mrow\u001b[0m\u001b[0;34m[\u001b[0m\u001b[0;34m'REASON'\u001b[0m\u001b[0;34m]\u001b[0m\u001b[0;34m.\u001b[0m\u001b[0mupper\u001b[0m\u001b[0;34m(\u001b[0m\u001b[0;34m)\u001b[0m\u001b[0;34m\u001b[0m\u001b[0;34m\u001b[0m\u001b[0m\n\u001b[1;32m      5\u001b[0m     \u001b[0mleft\u001b[0m \u001b[0;34m=\u001b[0m  \u001b[0mrow\u001b[0m\u001b[0;34m[\u001b[0m\u001b[0;34m'Left'\u001b[0m\u001b[0;34m]\u001b[0m\u001b[0;34m.\u001b[0m\u001b[0mupper\u001b[0m\u001b[0;34m(\u001b[0m\u001b[0;34m)\u001b[0m\u001b[0;34m\u001b[0m\u001b[0;34m\u001b[0m\u001b[0m\n",
            "\u001b[0;32m/usr/local/lib/python3.6/dist-packages/pandas/core/generic.py\u001b[0m in \u001b[0;36m__getattr__\u001b[0;34m(self, name)\u001b[0m\n\u001b[1;32m   5177\u001b[0m             \u001b[0;32mif\u001b[0m \u001b[0mself\u001b[0m\u001b[0;34m.\u001b[0m\u001b[0m_info_axis\u001b[0m\u001b[0;34m.\u001b[0m\u001b[0m_can_hold_identifiers_and_holds_name\u001b[0m\u001b[0;34m(\u001b[0m\u001b[0mname\u001b[0m\u001b[0;34m)\u001b[0m\u001b[0;34m:\u001b[0m\u001b[0;34m\u001b[0m\u001b[0;34m\u001b[0m\u001b[0m\n\u001b[1;32m   5178\u001b[0m                 \u001b[0;32mreturn\u001b[0m \u001b[0mself\u001b[0m\u001b[0;34m[\u001b[0m\u001b[0mname\u001b[0m\u001b[0;34m]\u001b[0m\u001b[0;34m\u001b[0m\u001b[0;34m\u001b[0m\u001b[0m\n\u001b[0;32m-> 5179\u001b[0;31m             \u001b[0;32mreturn\u001b[0m \u001b[0mobject\u001b[0m\u001b[0;34m.\u001b[0m\u001b[0m__getattribute__\u001b[0m\u001b[0;34m(\u001b[0m\u001b[0mself\u001b[0m\u001b[0;34m,\u001b[0m \u001b[0mname\u001b[0m\u001b[0;34m)\u001b[0m\u001b[0;34m\u001b[0m\u001b[0;34m\u001b[0m\u001b[0m\n\u001b[0m\u001b[1;32m   5180\u001b[0m \u001b[0;34m\u001b[0m\u001b[0m\n\u001b[1;32m   5181\u001b[0m     \u001b[0;32mdef\u001b[0m \u001b[0m__setattr__\u001b[0m\u001b[0;34m(\u001b[0m\u001b[0mself\u001b[0m\u001b[0;34m,\u001b[0m \u001b[0mname\u001b[0m\u001b[0;34m,\u001b[0m \u001b[0mvalue\u001b[0m\u001b[0;34m)\u001b[0m\u001b[0;34m:\u001b[0m\u001b[0;34m\u001b[0m\u001b[0;34m\u001b[0m\u001b[0m\n",
            "\u001b[0;31mAttributeError\u001b[0m: 'Series' object has no attribute 'iterrows'"
          ]
        }
      ]
    },
    {
      "cell_type": "code",
      "metadata": {
        "id": "zsa0iZPXYJ5L",
        "colab_type": "code",
        "colab": {
          "base_uri": "https://localhost:8080/",
          "height": 512
        },
        "outputId": "ea8c80bf-95cc-49b2-fec2-5b47fb2dd5da"
      },
      "source": [
        "scriteria = ['SLDC','BACKDOWN','BDN','BACKBOWN','BD','BACKDN','BACK DOWN','B/D','BKD','BKDW','BACKING BOWN','B/DN']  \n",
        "sstring = '|'.join(scriteria)\n",
        "df1 =  df1[df1['REASON'].str.upper().str.contains(sstring)]\n",
        "df1"
      ],
      "execution_count": 468,
      "outputs": [
        {
          "output_type": "error",
          "ename": "KeyError",
          "evalue": "ignored",
          "traceback": [
            "\u001b[0;31m---------------------------------------------------------------------------\u001b[0m",
            "\u001b[0;31mKeyError\u001b[0m                                  Traceback (most recent call last)",
            "\u001b[0;32m<ipython-input-468-431a56e43292>\u001b[0m in \u001b[0;36m<module>\u001b[0;34m()\u001b[0m\n\u001b[1;32m      1\u001b[0m \u001b[0mscriteria\u001b[0m \u001b[0;34m=\u001b[0m \u001b[0;34m[\u001b[0m\u001b[0;34m'SLDC'\u001b[0m\u001b[0;34m,\u001b[0m\u001b[0;34m'BACKDOWN'\u001b[0m\u001b[0;34m,\u001b[0m\u001b[0;34m'BDN'\u001b[0m\u001b[0;34m,\u001b[0m\u001b[0;34m'BACKBOWN'\u001b[0m\u001b[0;34m,\u001b[0m\u001b[0;34m'BD'\u001b[0m\u001b[0;34m,\u001b[0m\u001b[0;34m'BACKDN'\u001b[0m\u001b[0;34m,\u001b[0m\u001b[0;34m'BACK DOWN'\u001b[0m\u001b[0;34m,\u001b[0m\u001b[0;34m'B/D'\u001b[0m\u001b[0;34m,\u001b[0m\u001b[0;34m'BKD'\u001b[0m\u001b[0;34m,\u001b[0m\u001b[0;34m'BKDW'\u001b[0m\u001b[0;34m,\u001b[0m\u001b[0;34m'BACKING BOWN'\u001b[0m\u001b[0;34m,\u001b[0m\u001b[0;34m'B/DN'\u001b[0m\u001b[0;34m]\u001b[0m\u001b[0;34m\u001b[0m\u001b[0;34m\u001b[0m\u001b[0m\n\u001b[1;32m      2\u001b[0m \u001b[0msstring\u001b[0m \u001b[0;34m=\u001b[0m \u001b[0;34m'|'\u001b[0m\u001b[0;34m.\u001b[0m\u001b[0mjoin\u001b[0m\u001b[0;34m(\u001b[0m\u001b[0mscriteria\u001b[0m\u001b[0;34m)\u001b[0m\u001b[0;34m\u001b[0m\u001b[0;34m\u001b[0m\u001b[0m\n\u001b[0;32m----> 3\u001b[0;31m \u001b[0mdf1\u001b[0m \u001b[0;34m=\u001b[0m  \u001b[0mdf1\u001b[0m\u001b[0;34m[\u001b[0m\u001b[0mdf1\u001b[0m\u001b[0;34m[\u001b[0m\u001b[0;34m'REASON'\u001b[0m\u001b[0;34m]\u001b[0m\u001b[0;34m.\u001b[0m\u001b[0mstr\u001b[0m\u001b[0;34m.\u001b[0m\u001b[0mupper\u001b[0m\u001b[0;34m(\u001b[0m\u001b[0;34m)\u001b[0m\u001b[0;34m.\u001b[0m\u001b[0mstr\u001b[0m\u001b[0;34m.\u001b[0m\u001b[0mcontains\u001b[0m\u001b[0;34m(\u001b[0m\u001b[0msstring\u001b[0m\u001b[0;34m)\u001b[0m\u001b[0;34m]\u001b[0m\u001b[0;34m\u001b[0m\u001b[0;34m\u001b[0m\u001b[0m\n\u001b[0m\u001b[1;32m      4\u001b[0m \u001b[0mdf1\u001b[0m\u001b[0;34m\u001b[0m\u001b[0;34m\u001b[0m\u001b[0m\n",
            "\u001b[0;32m/usr/local/lib/python3.6/dist-packages/pandas/core/series.py\u001b[0m in \u001b[0;36m__getitem__\u001b[0;34m(self, key)\u001b[0m\n\u001b[1;32m   1069\u001b[0m         \u001b[0mkey\u001b[0m \u001b[0;34m=\u001b[0m \u001b[0mcom\u001b[0m\u001b[0;34m.\u001b[0m\u001b[0mapply_if_callable\u001b[0m\u001b[0;34m(\u001b[0m\u001b[0mkey\u001b[0m\u001b[0;34m,\u001b[0m \u001b[0mself\u001b[0m\u001b[0;34m)\u001b[0m\u001b[0;34m\u001b[0m\u001b[0;34m\u001b[0m\u001b[0m\n\u001b[1;32m   1070\u001b[0m         \u001b[0;32mtry\u001b[0m\u001b[0;34m:\u001b[0m\u001b[0;34m\u001b[0m\u001b[0;34m\u001b[0m\u001b[0m\n\u001b[0;32m-> 1071\u001b[0;31m             \u001b[0mresult\u001b[0m \u001b[0;34m=\u001b[0m \u001b[0mself\u001b[0m\u001b[0;34m.\u001b[0m\u001b[0mindex\u001b[0m\u001b[0;34m.\u001b[0m\u001b[0mget_value\u001b[0m\u001b[0;34m(\u001b[0m\u001b[0mself\u001b[0m\u001b[0;34m,\u001b[0m \u001b[0mkey\u001b[0m\u001b[0;34m)\u001b[0m\u001b[0;34m\u001b[0m\u001b[0;34m\u001b[0m\u001b[0m\n\u001b[0m\u001b[1;32m   1072\u001b[0m \u001b[0;34m\u001b[0m\u001b[0m\n\u001b[1;32m   1073\u001b[0m             \u001b[0;32mif\u001b[0m \u001b[0;32mnot\u001b[0m \u001b[0mis_scalar\u001b[0m\u001b[0;34m(\u001b[0m\u001b[0mresult\u001b[0m\u001b[0;34m)\u001b[0m\u001b[0;34m:\u001b[0m\u001b[0;34m\u001b[0m\u001b[0;34m\u001b[0m\u001b[0m\n",
            "\u001b[0;32m/usr/local/lib/python3.6/dist-packages/pandas/core/indexes/base.py\u001b[0m in \u001b[0;36mget_value\u001b[0;34m(self, series, key)\u001b[0m\n\u001b[1;32m   4728\u001b[0m         \u001b[0mk\u001b[0m \u001b[0;34m=\u001b[0m \u001b[0mself\u001b[0m\u001b[0;34m.\u001b[0m\u001b[0m_convert_scalar_indexer\u001b[0m\u001b[0;34m(\u001b[0m\u001b[0mk\u001b[0m\u001b[0;34m,\u001b[0m \u001b[0mkind\u001b[0m\u001b[0;34m=\u001b[0m\u001b[0;34m\"getitem\"\u001b[0m\u001b[0;34m)\u001b[0m\u001b[0;34m\u001b[0m\u001b[0;34m\u001b[0m\u001b[0m\n\u001b[1;32m   4729\u001b[0m         \u001b[0;32mtry\u001b[0m\u001b[0;34m:\u001b[0m\u001b[0;34m\u001b[0m\u001b[0;34m\u001b[0m\u001b[0m\n\u001b[0;32m-> 4730\u001b[0;31m             \u001b[0;32mreturn\u001b[0m \u001b[0mself\u001b[0m\u001b[0;34m.\u001b[0m\u001b[0m_engine\u001b[0m\u001b[0;34m.\u001b[0m\u001b[0mget_value\u001b[0m\u001b[0;34m(\u001b[0m\u001b[0ms\u001b[0m\u001b[0;34m,\u001b[0m \u001b[0mk\u001b[0m\u001b[0;34m,\u001b[0m \u001b[0mtz\u001b[0m\u001b[0;34m=\u001b[0m\u001b[0mgetattr\u001b[0m\u001b[0;34m(\u001b[0m\u001b[0mseries\u001b[0m\u001b[0;34m.\u001b[0m\u001b[0mdtype\u001b[0m\u001b[0;34m,\u001b[0m \u001b[0;34m\"tz\"\u001b[0m\u001b[0;34m,\u001b[0m \u001b[0;32mNone\u001b[0m\u001b[0;34m)\u001b[0m\u001b[0;34m)\u001b[0m\u001b[0;34m\u001b[0m\u001b[0;34m\u001b[0m\u001b[0m\n\u001b[0m\u001b[1;32m   4731\u001b[0m         \u001b[0;32mexcept\u001b[0m \u001b[0mKeyError\u001b[0m \u001b[0;32mas\u001b[0m \u001b[0me1\u001b[0m\u001b[0;34m:\u001b[0m\u001b[0;34m\u001b[0m\u001b[0;34m\u001b[0m\u001b[0m\n\u001b[1;32m   4732\u001b[0m             \u001b[0;32mif\u001b[0m \u001b[0mlen\u001b[0m\u001b[0;34m(\u001b[0m\u001b[0mself\u001b[0m\u001b[0;34m)\u001b[0m \u001b[0;34m>\u001b[0m \u001b[0;36m0\u001b[0m \u001b[0;32mand\u001b[0m \u001b[0;34m(\u001b[0m\u001b[0mself\u001b[0m\u001b[0;34m.\u001b[0m\u001b[0mholds_integer\u001b[0m\u001b[0;34m(\u001b[0m\u001b[0;34m)\u001b[0m \u001b[0;32mor\u001b[0m \u001b[0mself\u001b[0m\u001b[0;34m.\u001b[0m\u001b[0mis_boolean\u001b[0m\u001b[0;34m(\u001b[0m\u001b[0;34m)\u001b[0m\u001b[0;34m)\u001b[0m\u001b[0;34m:\u001b[0m\u001b[0;34m\u001b[0m\u001b[0;34m\u001b[0m\u001b[0m\n",
            "\u001b[0;32mpandas/_libs/index.pyx\u001b[0m in \u001b[0;36mpandas._libs.index.IndexEngine.get_value\u001b[0;34m()\u001b[0m\n",
            "\u001b[0;32mpandas/_libs/index.pyx\u001b[0m in \u001b[0;36mpandas._libs.index.IndexEngine.get_value\u001b[0;34m()\u001b[0m\n",
            "\u001b[0;32mpandas/_libs/index.pyx\u001b[0m in \u001b[0;36mpandas._libs.index.IndexEngine.get_loc\u001b[0;34m()\u001b[0m\n",
            "\u001b[0;32mpandas/_libs/index_class_helper.pxi\u001b[0m in \u001b[0;36mpandas._libs.index.Int64Engine._check_type\u001b[0;34m()\u001b[0m\n",
            "\u001b[0;31mKeyError\u001b[0m: 'REASON'"
          ]
        }
      ]
    },
    {
      "cell_type": "code",
      "metadata": {
        "id": "EB9ikFc8_2T-",
        "colab_type": "code",
        "colab": {}
      },
      "source": [
        "import re\n",
        "import numpy as np\n",
        "\n",
        "def fu_return_from_to_block(p_text,p_left,p_right):\n",
        "\n",
        "  # for index1, row in df1.iterrows():\n",
        "      text =  p_text\n",
        "      left =  p_left\n",
        "      right =  p_right\n",
        "      # print(text,'    ',left,'    ',right,'    ',len(left),'      ',len(right))\n",
        "      list_values=[]\n",
        "      list_values=text[text.index(left)+len(left):len(text)]\n",
        "\n",
        "      if len(left)>0 and len(text)>0: \n",
        "        a=text[text.index(left)+len(left):len(text)]\n",
        "        if not a:\n",
        "            from_number=0\n",
        "            to_number=0\n",
        "            return from_number,to_number \n",
        "        if len(a)>0:\n",
        "          x=[a]\n",
        "          res = list(map(lambda sub:int(''.join([ele for ele in sub if ele.isnumeric()])), x))\n",
        "\n",
        "          if len(str(res[0]))>4:\n",
        "            from_number=res\n",
        "            to_number=res\n",
        "            return from_number,to_number \n",
        "          from_number=0\n",
        "          to_number=0\n",
        "          if len(str(res[0]))==4:\n",
        "            from_number=str(res[0])[:2]\n",
        "            to_number=str(res[0])[-2:]\n",
        "            # print(text.ljust(100),str(res).ljust(15),str(from_number).ljust(15),str(to_number).ljust(15) ,str(left).ljust(15)  ,right)\n",
        "            return from_number,to_number \n",
        "          elif len(str(res[0]))==3:\n",
        "            from_number=str(res[0])[:1]\n",
        "            to_number=str(res[0])[-2:]\n",
        "            # print(text.ljust(100),str(res).ljust(15),str(from_number).ljust(15),str(to_number).ljust(15) ,str(left).ljust(15)  ,right)\n",
        "\n",
        "            return from_number,to_number \n",
        "          elif len(str(res[0]))==1:\n",
        "            string = str(res[0])\n",
        "            if string.isnumeric():\n",
        "              from_number=str(res[0])[:1]\n",
        "              to_number=str(res[0])[-1:]\n",
        "              # print(text.ljust(100),str(res).ljust(15),str(from_number).ljust(15),str(to_number).ljust(15) ,str(left).ljust(15)  ,right)   \n",
        "\n",
        "              return from_number,to_number     \n",
        "          elif (len(str(res[0])))==2:\n",
        "            z=re.sub('[^A-Za-z0-9--]+', '', list_values)\n",
        "            if (z.isnumeric()) == True:  \n",
        "              from_number=str(res[0])[:2]\n",
        "              to_number=str(res[0])[-2:]\n",
        "              # print(text.ljust(100),str(res).ljust(15),str(from_number).ljust(15),str(to_number).ljust(15) ,str(left).ljust(15)  ,right)\n",
        "              return from_number,to_number \n",
        "            elif  (z.isnumeric()) == False:\n",
        "              from_number=str(res[0])[:1]\n",
        "              to_number=str(res[0])[-1:]\n",
        "              z=\"\"\n",
        "              a=''\n",
        "              # print(text.ljust(100),str(res).ljust(15),str(from_number).ljust(15),str(to_number).ljust(15) ,str(left).ljust(15)  ,right)\n",
        "              return from_number,to_number    \n",
        "      elif len(right)>0 and len(text)>0 and len(left)==0:\n",
        "        b=text[text.index(right)+len(right):len(text)]\n",
        "        if len(bool)>0:\n",
        "          print(text.ljust(100),b)\n",
        "          b=''\n",
        "      from_number=0\n",
        "      to_number=0   "
      ],
      "execution_count": 0,
      "outputs": []
    },
    {
      "cell_type": "code",
      "metadata": {
        "id": "zdOLu4DRc__Y",
        "colab_type": "code",
        "colab": {}
      },
      "source": [
        "scriteria = ['SLDC','BACKDOWN','BDN','BACKBOWN','BD','BACKDN','BACK DOWN','B/D','BKD','BKDW','BACKING BOWN','B/DN']  \n",
        "sstring = '|'.join(scriteria)\n",
        "df1 =  df1[df1['REASON'].str.upper().str.contains(sstring)]"
      ],
      "execution_count": 0,
      "outputs": []
    },
    {
      "cell_type": "code",
      "metadata": {
        "id": "I9XWWctQdZR-",
        "colab_type": "code",
        "colab": {
          "base_uri": "https://localhost:8080/",
          "height": 194
        },
        "outputId": "9ffb7c13-61ce-4525-dfd3-1b732ca9faa5"
      },
      "source": [
        "df1.head()"
      ],
      "execution_count": 497,
      "outputs": [
        {
          "output_type": "execute_result",
          "data": {
            "text/html": [
              "<div>\n",
              "<style scoped>\n",
              "    .dataframe tbody tr th:only-of-type {\n",
              "        vertical-align: middle;\n",
              "    }\n",
              "\n",
              "    .dataframe tbody tr th {\n",
              "        vertical-align: top;\n",
              "    }\n",
              "\n",
              "    .dataframe thead th {\n",
              "        text-align: right;\n",
              "    }\n",
              "</style>\n",
              "<table border=\"1\" class=\"dataframe\">\n",
              "  <thead>\n",
              "    <tr style=\"text-align: right;\">\n",
              "      <th></th>\n",
              "      <th>REASON</th>\n",
              "      <th>Left</th>\n",
              "      <th>Right</th>\n",
              "      <th>Multiple</th>\n",
              "    </tr>\n",
              "  </thead>\n",
              "  <tbody>\n",
              "    <tr>\n",
              "      <th>1</th>\n",
              "      <td>CHANDRAPUR -BACKDOWN BY SLDC BLK 36-48</td>\n",
              "      <td>BLK</td>\n",
              "      <td>nan</td>\n",
              "      <td>nan</td>\n",
              "    </tr>\n",
              "    <tr>\n",
              "      <th>3</th>\n",
              "      <td>CHANDRAPUR -Rev 3 blk 67 to 96 ICQ and BD by S...</td>\n",
              "      <td>SLDC</td>\n",
              "      <td>nan</td>\n",
              "      <td>nan</td>\n",
              "    </tr>\n",
              "    <tr>\n",
              "      <th>4</th>\n",
              "      <td>CHANDRAPUR -5CHANDRAPURBD WD BLK 9 TO 28 BY SLDC</td>\n",
              "      <td>BLK</td>\n",
              "      <td>BY SLDC</td>\n",
              "      <td>nan</td>\n",
              "    </tr>\n",
              "    <tr>\n",
              "      <th>7</th>\n",
              "      <td>CHANDRAPUR -BACK DOWN FROM BLK(72-76) BY SLDC</td>\n",
              "      <td>BLK</td>\n",
              "      <td>BY SLDC</td>\n",
              "      <td>nan</td>\n",
              "    </tr>\n",
              "    <tr>\n",
              "      <th>11</th>\n",
              "      <td>CHANDRAPUR -CHANDRAPUR Rev2 PCQ BLK 53-96 MW 1...</td>\n",
              "      <td>IMP BLK</td>\n",
              "      <td>nan</td>\n",
              "      <td>nan</td>\n",
              "    </tr>\n",
              "  </tbody>\n",
              "</table>\n",
              "</div>"
            ],
            "text/plain": [
              "                                               REASON  ... Multiple\n",
              "1              CHANDRAPUR -BACKDOWN BY SLDC BLK 36-48  ...      nan\n",
              "3   CHANDRAPUR -Rev 3 blk 67 to 96 ICQ and BD by S...  ...      nan\n",
              "4    CHANDRAPUR -5CHANDRAPURBD WD BLK 9 TO 28 BY SLDC  ...      nan\n",
              "7       CHANDRAPUR -BACK DOWN FROM BLK(72-76) BY SLDC  ...      nan\n",
              "11  CHANDRAPUR -CHANDRAPUR Rev2 PCQ BLK 53-96 MW 1...  ...      nan\n",
              "\n",
              "[5 rows x 4 columns]"
            ]
          },
          "metadata": {
            "tags": []
          },
          "execution_count": 497
        }
      ]
    },
    {
      "cell_type": "code",
      "metadata": {
        "id": "omvMj6JS_4sU",
        "colab_type": "code",
        "colab": {
          "base_uri": "https://localhost:8080/",
          "height": 764
        },
        "outputId": "9f5b690d-61ae-4bdf-b942-3ac42402abdd"
      },
      "source": [
        "for index1, row in df1.iterrows():\n",
        "    from_number1=0\n",
        "    to_number1=0\n",
        "    text =  row['REASON'].upper()\n",
        "    left =  row['Left'].upper()\n",
        "    right =  row['Right'].upper()\n",
        "    print(text.ljust(100), str(left).ljust(15),'  -   ',right)\n",
        "    # from_number1,to_number1=fu_return_from_to_block(text,left,right)\n",
        "    # print(text.ljust(100), str(from_number1).ljust(15),'  -   ',to_number1)\n",
        "    from_number1='0'\n",
        "    to_number1='0'"
      ],
      "execution_count": 502,
      "outputs": [
        {
          "output_type": "stream",
          "text": [
            "CHANDRAPUR -BACKDOWN BY SLDC BLK 36-48                                                               BLK               -    NAN\n",
            "CHANDRAPUR -REV 3 BLK 67 TO 96 ICQ AND BD BY SLDC 67 TO 89                                           SLDC              -    NAN\n",
            "CHANDRAPUR -5CHANDRAPURBD WD BLK 9 TO 28 BY SLDC                                                     BLK               -    BY SLDC\n",
            "CHANDRAPUR -BACK DOWN FROM BLK(72-76) BY SLDC                                                        BLK               -    BY SLDC\n",
            "CHANDRAPUR -CHANDRAPUR REV2 PCQ BLK 53-96 MW 1775-1734 AND BD IMP BLK 74-75                          IMP BLK           -    NAN\n",
            "CHANDRAPUR -BACK DOWN WDN:BLK 16 TO 26                                                               BLK               -    NAN\n",
            "CHANDRAPUR -CHANDRAPUR BACK DOWN WDN BLK 70 BY SLDC                                                  BLK               -    BY SLDC\n",
            "CHANDRAPUR -REV BY SLDC: BD WD : BLK[16-26]                                                          BLK               -    NAN\n",
            "CHANDRAPUR -BACK DOWN:BLK 71 TO 76                                                                   BLK               -    NAN\n",
            "CHANDRAPUR -BACKING DOWN IMPLEMENTED BY SLDC FROM BLK(89-96)                                         BLK               -    NAN\n",
            "CHANDRAPUR -BACK DOWN BY SLDC BLK1T0 6 , 12 T0 20 AND 27 TO 32                                       BLK               -    NAN\n",
            "CHANDRAPUR -BACK DOWN BY SLDC:BLK 49 TO 56                                                           BLK               -    NAN\n",
            "CHANDRAPUR -U5-SYNC:FROM 1232-1582 MW:BLK 26-96 IN STEPS:EXCEPT B/D BLKS                             NAN               -    NAN\n",
            "CHANDRAPUR -BACK DOWN IN BLK(89-96) BY SLDC                                                          BLK               -    BY SLDC\n",
            "CHANDRAPUR -CHANDRAPUR BD IMP 9-22                                                                   IMP               -    NAN\n",
            "CHANDRAPUR -BACKDOWN BY SLDC BLK 48 TO 50                                                            BLK               -    NAN\n",
            "CHANDRAPUR -BACK DOWN IMPL BY SLDC BLK 82 TO 86                                                      BLK               -    NAN\n",
            "CHANDRAPUR -PCQ:FROM 1643-1579 MW:BLK 65-96 AND BACKING DOWN EXTENDED FROM BLK(87-89) BY SLDC        BLK               -    BY SLDC\n",
            "CHANDRAPUR -CHANDRAPUR BD IMP 14-32                                                                  IMP               -    NAN\n",
            "CHANDRAPUR -BACKING DOWN IMPL.FROM BLK(51-78) BY SLDC                                                BLK               -    BY SLDC\n",
            "CHANDRAPUR -BACK DOWN WDN:BLK 11 TO 20                                                               BLK               -    NAN\n",
            "CHANDRAPUR -BACK DOWN WDN 27-32 BD IMP 32-40 AND 51-55 AND 68-77 AND 83 TO 96                        IMP               -    NAN\n",
            "CHANDRAPUR -CHANDRAPUR BACK DOWN WDN 27TO29AND IMP BLK 34 TO 37                                      BLK               -    NAN\n",
            "CHANDRAPUR -BD WDN BY SLDC:BLK 14-18 AND BLK-26-28                                                   BY SLDC:BLK       -    NAN\n",
            "CHANDRAPUR -BACK DOWN BY SLDC:BLK 73 TO 77                                                           BLK               -    NAN\n",
            "CHANDRAPUR -BACK DOWN BY SLDC:BLK 74 TO 76                                                           BLK               -    NAN\n",
            "CHANDRAPUR -CHANDRAPUR BD IMP BLK 27 TO 28 BY SDLDC.                                                 BLK               -    BY SLDC\n",
            "CHANDRAPUR -CHANDRAPUR BD IMP BLK 27 TO 28 BY SDLDC.                                                 BLK               -    BY SLDC\n",
            "CHANDRAPUR -CORRECTED BY SLDC                                                                        BY SLDC           -    NAN\n",
            "CHANDRAPUR -U-5 SYNC: BLK[45]:(ALSO INCLUDED BD WD FROM 71 TO 75)                                    WD FROM           -    NAN\n",
            "CHANDRAPUR -REV BY SLDC: BD IMP : BLK[77-78]                                                         BLK               -    NAN\n",
            "CHANDRAPUR -CORRECTED BY SLDC                                                                        BY SLDC           -    NAN\n",
            "CHANDRAPUR -SCH CORRECTED BY SLDC                                                                    BY SLDC           -    NAN\n",
            "CHANDRAPUR -REV1: U3 PCQ U7 COAL MILL PROB: BLK[1-96]: ALSO INCLUDED BD IMP [16-20]                  BD IMP            -    NAN\n",
            "CHANDRAPUR -BACKDOWN BY SLDC BLK 59 TO 64 AND 73 TO 96                                               BY SLDC BLK       -    NAN\n",
            "CHANDRAPUR -CHANDRAPUR BD IMP BLK 11 TO 27 BY SLDC                                                   BLK               -    BY SLDC\n",
            "CHANDRAPUR -CORRECTED BY SLDC                                                                        BY SLDC           -    NAN\n",
            "CHANDRAPUR -REV1:U-3 PCQ,U-5,6,7 CHP PROB :BLK 3-96 :1808-1347 MW:( ALSO INCLUDED BD WD BLK[28])     WD BLK            -    NAN\n",
            "CHANDRAPUR -BACK DOWN BY SLDC BLK 51 TO 54                                                           BLK               -    NAN\n",
            "CHANDRAPUR -REV BY SLDC: BD WD : BLK[27]                                                             BLK               -    NAN\n",
            "CHANDRAPUR -REV1:U-3 PCQ,U-5,6,7 CHP PROB :BLK 3-96 :1808-1347 MW:( ALSO INCLUDED BD WD BLK[2 TO 8]) WD BLK            -    NAN\n",
            "CHANDRAPUR -REV1:U-3 PCQ,U-5,6,7 CHP PROB :BLK 3-96 :1808-1347 MW:( ALSO INCLUDED BD WD BLK[2 - 8])  WD BLK            -    NAN\n"
          ],
          "name": "stdout"
        }
      ]
    }
  ]
}