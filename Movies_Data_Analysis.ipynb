{
  "nbformat": 4,
  "nbformat_minor": 0,
  "metadata": {
    "colab": {
      "name": "Movies Data Analysis.ipynb",
      "provenance": [],
      "include_colab_link": true
    },
    "kernelspec": {
      "name": "python3",
      "display_name": "Python 3"
    }
  },
  "cells": [
    {
      "cell_type": "markdown",
      "metadata": {
        "id": "view-in-github",
        "colab_type": "text"
      },
      "source": [
        "<a href=\"https://colab.research.google.com/github/dharmendra-chouhan/Pandas_exercises_colab/blob/master/Movies_Data_Analysis.ipynb\" target=\"_parent\"><img src=\"https://colab.research.google.com/assets/colab-badge.svg\" alt=\"Open In Colab\"/></a>"
      ]
    },
    {
      "cell_type": "code",
      "metadata": {
        "id": "uFw7MficilZP",
        "colab_type": "code",
        "outputId": "83a28d2c-1cb5-40c3-dcba-159be067b8c2",
        "colab": {
          "resources": {
            "http://localhost:8080/nbextensions/google.colab/files.js": {
              "data": "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",
              "ok": true,
              "headers": [
                [
                  "content-type",
                  "application/javascript"
                ]
              ],
              "status": 200,
              "status_text": ""
            }
          },
          "base_uri": "https://localhost:8080/",
          "height": 74
        }
      },
      "source": [
        "from google.colab import files\n",
        "uploaded = files.upload()\n"
      ],
      "execution_count": 117,
      "outputs": [
        {
          "output_type": "display_data",
          "data": {
            "text/html": [
              "\n",
              "     <input type=\"file\" id=\"files-7ed967c0-8f06-43b7-ace7-45a263485673\" name=\"files[]\" multiple disabled />\n",
              "     <output id=\"result-7ed967c0-8f06-43b7-ace7-45a263485673\">\n",
              "      Upload widget is only available when the cell has been executed in the\n",
              "      current browser session. Please rerun this cell to enable.\n",
              "      </output>\n",
              "      <script src=\"/nbextensions/google.colab/files.js\"></script> "
            ],
            "text/plain": [
              "<IPython.core.display.HTML object>"
            ]
          },
          "metadata": {
            "tags": []
          }
        },
        {
          "output_type": "stream",
          "text": [
            "Saving movies1.csv to movies1.csv\n"
          ],
          "name": "stdout"
        }
      ]
    },
    {
      "cell_type": "code",
      "metadata": {
        "id": "K2G7rsjuThbQ",
        "colab_type": "code",
        "colab": {}
      },
      "source": [
        "movies= pd.read_csv('movies1.csv', encoding='latin-1')"
      ],
      "execution_count": 0,
      "outputs": []
    },
    {
      "cell_type": "code",
      "metadata": {
        "id": "7PRW7w4XUi0o",
        "colab_type": "code",
        "colab": {
          "base_uri": "https://localhost:8080/",
          "height": 504
        },
        "outputId": "138208f5-3618-46e5-ffc9-364f069d0a46"
      },
      "source": [
        "movies.info()"
      ],
      "execution_count": 120,
      "outputs": [
        {
          "output_type": "stream",
          "text": [
            "<class 'pandas.core.frame.DataFrame'>\n",
            "RangeIndex: 49 entries, 0 to 48\n",
            "Data columns (total 24 columns):\n",
            "adult                    49 non-null bool\n",
            "belongs_to_collection    10 non-null object\n",
            "budget                   49 non-null int64\n",
            "genres                   49 non-null object\n",
            "homepage                 5 non-null object\n",
            "id                       49 non-null int64\n",
            "imdb_id                  49 non-null object\n",
            "original_language        49 non-null object\n",
            "original_title           49 non-null object\n",
            "overview                 48 non-null object\n",
            "popularity               49 non-null float64\n",
            "poster_path              49 non-null object\n",
            "production_companies     49 non-null object\n",
            "production_countries     49 non-null object\n",
            "release_date             49 non-null object\n",
            "revenue                  49 non-null int64\n",
            "runtime                  49 non-null int64\n",
            "spoken_languages         49 non-null object\n",
            "status                   49 non-null object\n",
            "tagline                  40 non-null object\n",
            "title                    49 non-null object\n",
            "video                    49 non-null bool\n",
            "vote_average             49 non-null float64\n",
            "vote_count               49 non-null int64\n",
            "dtypes: bool(2), float64(2), int64(5), object(15)\n",
            "memory usage: 8.6+ KB\n"
          ],
          "name": "stdout"
        }
      ]
    },
    {
      "cell_type": "markdown",
      "metadata": {
        "id": "g5M4b1wmVZ_S",
        "colab_type": "text"
      },
      "source": [
        "**Pandas program to get the columns of the DataFrame (movies.csv file)**"
      ]
    },
    {
      "cell_type": "code",
      "metadata": {
        "id": "Ab6Bw-CSVZwz",
        "colab_type": "code",
        "colab": {
          "base_uri": "https://localhost:8080/",
          "height": 151
        },
        "outputId": "018bd47b-f564-404d-f52a-fcb0e6620bed"
      },
      "source": [
        "print(\"Columns of the DataFrame:\")\n",
        "movies.columns"
      ],
      "execution_count": 36,
      "outputs": [
        {
          "output_type": "stream",
          "text": [
            "Columns of the DataFrame:\n"
          ],
          "name": "stdout"
        },
        {
          "output_type": "execute_result",
          "data": {
            "text/plain": [
              "Index(['adult', 'belongs_to_collection', 'budget', 'genres', 'homepage', 'id',\n",
              "       'imdb_id', 'original_language', 'original_title', 'overview',\n",
              "       'popularity', 'poster_path', 'production_companies',\n",
              "       'production_countries', 'release_date', 'revenue', 'runtime',\n",
              "       'spoken_languages', 'status', 'tagline', 'title', 'video',\n",
              "       'vote_average', 'vote_count', 'Unnamed: 24'],\n",
              "      dtype='object')"
            ]
          },
          "metadata": {
            "tags": []
          },
          "execution_count": 36
        }
      ]
    },
    {
      "cell_type": "markdown",
      "metadata": {
        "id": "AqCGPafIV7At",
        "colab_type": "text"
      },
      "source": [
        "**Get the information of the DataFrame including data types and memory usage**"
      ]
    },
    {
      "cell_type": "code",
      "metadata": {
        "id": "Yu6ONVdeUtdx",
        "colab_type": "code",
        "colab": {
          "base_uri": "https://localhost:8080/",
          "height": 554
        },
        "outputId": "f638edc6-4637-4f9d-b3ab-5ade493fd2f4"
      },
      "source": [
        "result = movies.info()\n",
        "print(\"Details of the DataFrame:\")\n",
        "print(result)"
      ],
      "execution_count": 37,
      "outputs": [
        {
          "output_type": "stream",
          "text": [
            "<class 'pandas.core.frame.DataFrame'>\n",
            "RangeIndex: 50 entries, 0 to 49\n",
            "Data columns (total 25 columns):\n",
            "adult                    50 non-null bool\n",
            "belongs_to_collection    10 non-null object\n",
            "budget                   50 non-null int64\n",
            "genres                   50 non-null object\n",
            "homepage                 5 non-null object\n",
            "id                       50 non-null int64\n",
            "imdb_id                  50 non-null object\n",
            "original_language        50 non-null object\n",
            "original_title           50 non-null object\n",
            "overview                 49 non-null object\n",
            "popularity               50 non-null object\n",
            "poster_path              50 non-null object\n",
            "production_companies     50 non-null object\n",
            "production_countries     50 non-null object\n",
            "release_date             50 non-null object\n",
            "revenue                  50 non-null object\n",
            "runtime                  50 non-null int64\n",
            "spoken_languages         50 non-null object\n",
            "status                   50 non-null object\n",
            "tagline                  41 non-null object\n",
            "title                    50 non-null object\n",
            "video                    50 non-null object\n",
            "vote_average             50 non-null object\n",
            "vote_count               50 non-null float64\n",
            "Unnamed: 24              1 non-null float64\n",
            "dtypes: bool(1), float64(2), int64(3), object(19)\n",
            "memory usage: 9.5+ KB\n",
            "Details of the DataFrame:\n",
            "None\n"
          ],
          "name": "stdout"
        }
      ]
    },
    {
      "cell_type": "markdown",
      "metadata": {
        "id": "BTvqd4CmWe7Q",
        "colab_type": "text"
      },
      "source": [
        "**Get the details of the thrid movie of the DataFrame**"
      ]
    },
    {
      "cell_type": "code",
      "metadata": {
        "id": "2-yRP4YGWBYX",
        "colab_type": "code",
        "colab": {
          "base_uri": "https://localhost:8080/",
          "height": 454
        },
        "outputId": "d1cf0861-73bb-4a7b-af8e-5e6f6f804feb"
      },
      "source": [
        "result = movies.iloc[2]\n",
        "print(result)"
      ],
      "execution_count": 41,
      "outputs": [
        {
          "output_type": "stream",
          "text": [
            "adult                                                                False\n",
            "belongs_to_collection    {'id': 119050, 'name': 'Grumpy Old Men Collect...\n",
            "budget                                                                   0\n",
            "genres                   [{'id': 10749, 'name': 'Romance'}, {'id': 35, ...\n",
            "homepage                                                               NaN\n",
            "id                                                                   15602\n",
            "imdb_id                                                          tt0113228\n",
            "original_language                                                       en\n",
            "original_title                                            Grumpier Old Men\n",
            "overview                 A family wedding reignites the ancient feud be...\n",
            "popularity                                                         11.7129\n",
            "poster_path                               /6ksm1sjKMFLbO7UY2i6G1ju9SML.jpg\n",
            "production_companies     [{'name': 'Warner Bros.', 'id': 6194}, {'name'...\n",
            "production_countries     [{'iso_3166_1': 'US', 'name': 'United States o...\n",
            "release_date                                                    22-12-1995\n",
            "revenue                                                                  0\n",
            "runtime                                                                101\n",
            "spoken_languages                  [{'iso_639_1': 'en', 'name': 'English'}]\n",
            "status                                                            Released\n",
            "tagline                  Still Yelling. Still Fighting. Still Ready for...\n",
            "title                                                     Grumpier Old Men\n",
            "video                                                                FALSE\n",
            "vote_average                                                           6.5\n",
            "vote_count                                                              92\n",
            "Unnamed: 24                                                            NaN\n",
            "Name: 2, dtype: object\n"
          ],
          "name": "stdout"
        }
      ]
    },
    {
      "cell_type": "markdown",
      "metadata": {
        "id": "wkS0barjYgdb",
        "colab_type": "text"
      },
      "source": [
        "** Pandas program to count the number of rows and columns of the DataFrame**"
      ]
    },
    {
      "cell_type": "code",
      "metadata": {
        "id": "raAJxdHQWirX",
        "colab_type": "code",
        "colab": {
          "base_uri": "https://localhost:8080/",
          "height": 50
        },
        "outputId": "c0f839f0-e807-449a-8232-52a2023dabc5"
      },
      "source": [
        "print(\"Number of rows and columns of the DataFrame:\")\n",
        "result=movies.shape\n",
        "print(result)"
      ],
      "execution_count": 44,
      "outputs": [
        {
          "output_type": "stream",
          "text": [
            "Number of rows and columns of the DataFrame:\n",
            "(50, 25)\n"
          ],
          "name": "stdout"
        }
      ]
    },
    {
      "cell_type": "code",
      "metadata": {
        "id": "k1egG0mtYwmA",
        "colab_type": "code",
        "colab": {
          "base_uri": "https://localhost:8080/",
          "height": 890
        },
        "outputId": "77bd9edc-b277-4ea5-d67f-d3535ea9e6c8"
      },
      "source": [
        "result = movies[['title', 'genres']]\n",
        "print(\"Details of title and genres:\")\n",
        "print(result)"
      ],
      "execution_count": 48,
      "outputs": [
        {
          "output_type": "stream",
          "text": [
            "Details of title and genres:\n",
            "                                                title                                             genres\n",
            "0                                           Toy Story  [{'id': 16, 'name': 'Animation'}, {'id': 35, '...\n",
            "1                                             Jumanji  [{'id': 12, 'name': 'Adventure'}, {'id': 14, '...\n",
            "2                                    Grumpier Old Men  [{'id': 10749, 'name': 'Romance'}, {'id': 35, ...\n",
            "3                                   Waiting to Exhale  [{'id': 35, 'name': 'Comedy'}, {'id': 18, 'nam...\n",
            "4                         Father of the Bride Part II                     [{'id': 35, 'name': 'Comedy'}]\n",
            "5                                                Heat  [{'id': 28, 'name': 'Action'}, {'id': 80, 'nam...\n",
            "6                                             Sabrina  [{'id': 35, 'name': 'Comedy'}, {'id': 10749, '...\n",
            "7                                        Tom and Huck  [{'id': 28, 'name': 'Action'}, {'id': 12, 'nam...\n",
            "8                                        Sudden Death  [{'id': 28, 'name': 'Action'}, {'id': 12, 'nam...\n",
            "9                                           GoldenEye  [{'id': 12, 'name': 'Adventure'}, {'id': 28, '...\n",
            "10                             The American President  [{'id': 35, 'name': 'Comedy'}, {'id': 18, 'nam...\n",
            "11                        Dracula: Dead and Loving It  [{'id': 35, 'name': 'Comedy'}, {'id': 27, 'nam...\n",
            "12                                              Balto  [{'id': 10751, 'name': 'Family'}, {'id': 16, '...\n",
            "13                                              Nixon  [{'id': 36, 'name': 'History'}, {'id': 18, 'na...\n",
            "14                                   Cutthroat Island  [{'id': 28, 'name': 'Action'}, {'id': 12, 'nam...\n",
            "15                                             Casino  [{'id': 18, 'name': 'Drama'}, {'id': 80, 'name...\n",
            "16                              Sense and Sensibility  [{'id': 18, 'name': 'Drama'}, {'id': 10749, 'n...\n",
            "17                                         Four Rooms  [{'id': 80, 'name': 'Crime'}, {'id': 35, 'name...\n",
            "18                     Ace Ventura: When Nature Calls  [{'id': 80, 'name': 'Crime'}, {'id': 35, 'name...\n",
            "19                                        Money Train  [{'id': 28, 'name': 'Action'}, {'id': 35, 'nam...\n",
            "20                                         Get Shorty  [{'id': 35, 'name': 'Comedy'}, {'id': 53, 'nam...\n",
            "21                                            Copycat  [{'id': 18, 'name': 'Drama'}, {'id': 53, 'name...\n",
            "22                                          Assassins  [{'id': 28, 'name': 'Action'}, {'id': 12, 'nam...\n",
            "23                                             Powder  [{'id': 18, 'name': 'Drama'}, {'id': 14, 'name...\n",
            "24                                  Leaving Las Vegas  [{'id': 18, 'name': 'Drama'}, {'id': 10749, 'n...\n",
            "25                                            Othello                      [{'id': 18, 'name': 'Drama'}]\n",
            "26                                       Now and Then  [{'id': 35, 'name': 'Comedy'}, {'id': 18, 'nam...\n",
            "27                                         Persuasion  [{'id': 18, 'name': 'Drama'}, {'id': 10749, 'n...\n",
            "28                          The City of Lost Children  [{'id': 14, 'name': 'Fantasy'}, {'id': 878, 'n...\n",
            "29  In 1930's Shanghai violence was not the proble...  [{'id': 18, 'name': 'Drama'}, {'id': 80, 'name...\n",
            "30                                    Dangerous Minds  [{'id': 18, 'name': 'Drama'}, {'id': 80, 'name...\n",
            "31                                     Twelve Monkeys  [{'id': 878, 'name': 'Science Fiction'}, {'id'...\n",
            "32                                   Wings of Courage  [{'id': 10749, 'name': 'Romance'}, {'id': 12, ...\n",
            "33                                               Babe  [{'id': 14, 'name': 'Fantasy'}, {'id': 18, 'na...\n",
            "34                                         Carrington  [{'id': 36, 'name': 'History'}, {'id': 18, 'na...\n",
            "35                                   Dead Man Walking                      [{'id': 18, 'name': 'Drama'}]\n",
            "36                             Across the Sea of Time  [{'id': 12, 'name': 'Adventure'}, {'id': 36, '...\n",
            "37                                       It Takes Two  [{'id': 35, 'name': 'Comedy'}, {'id': 10751, '...\n",
            "38                                           Clueless  [{'id': 35, 'name': 'Comedy'}, {'id': 18, 'nam...\n",
            "39                           Cry, the Beloved Country                      [{'id': 18, 'name': 'Drama'}]\n",
            "40                                        Richard III  [{'id': 18, 'name': 'Drama'}, {'id': 10752, 'n...\n",
            "41                                    Dead Presidents  [{'id': 28, 'name': 'Action'}, {'id': 80, 'nam...\n",
            "42                                        Restoration  [{'id': 18, 'name': 'Drama'}, {'id': 10749, 'n...\n",
            "43                                      Mortal Kombat  [{'id': 28, 'name': 'Action'}, {'id': 14, 'nam...\n",
            "44                                         To Die For  [{'id': 14, 'name': 'Fantasy'}, {'id': 18, 'na...\n",
            "45                      How To Make An American Quilt  [{'id': 18, 'name': 'Drama'}, {'id': 10749, 'n...\n",
            "46                                              Se7en  [{'id': 80, 'name': 'Crime'}, {'id': 9648, 'na...\n",
            "47                                         Pocahontas  [{'id': 12, 'name': 'Adventure'}, {'id': 16, '...\n",
            "48                              When Night Is Falling  [{'id': 18, 'name': 'Drama'}, {'id': 10749, 'n...\n",
            "49                                 The Usual Suspects  [{'id': 18, 'name': 'Drama'}, {'id': 80, 'name...\n"
          ],
          "name": "stdout"
        }
      ]
    },
    {
      "cell_type": "markdown",
      "metadata": {
        "id": "wrcuVQRbaFo9",
        "colab_type": "text"
      },
      "source": [
        "**Pandas program to get the details of the movie with title 'Grumpier Old Men'.**"
      ]
    },
    {
      "cell_type": "code",
      "metadata": {
        "id": "ttM8B-u0aJg6",
        "colab_type": "code",
        "colab": {
          "base_uri": "https://localhost:8080/",
          "height": 454
        },
        "outputId": "80174806-076a-472e-b976-f75dc0a064f2"
      },
      "source": [
        "df = movies.set_index('title')\n",
        "#Details of the movie 'Grumpier Old Men'\n",
        "result = df.loc['Grumpier Old Men']\n",
        "print(\"Details of the movie 'Grumpier Old Men:\")\n",
        "print(result)"
      ],
      "execution_count": 50,
      "outputs": [
        {
          "output_type": "stream",
          "text": [
            "Details of the movie 'Grumpier Old Men:\n",
            "adult                                                                False\n",
            "belongs_to_collection    {'id': 119050, 'name': 'Grumpy Old Men Collect...\n",
            "budget                                                                   0\n",
            "genres                   [{'id': 10749, 'name': 'Romance'}, {'id': 35, ...\n",
            "homepage                                                               NaN\n",
            "id                                                                   15602\n",
            "imdb_id                                                          tt0113228\n",
            "original_language                                                       en\n",
            "original_title                                            Grumpier Old Men\n",
            "overview                 A family wedding reignites the ancient feud be...\n",
            "popularity                                                         11.7129\n",
            "poster_path                               /6ksm1sjKMFLbO7UY2i6G1ju9SML.jpg\n",
            "production_companies     [{'name': 'Warner Bros.', 'id': 6194}, {'name'...\n",
            "production_countries     [{'iso_3166_1': 'US', 'name': 'United States o...\n",
            "release_date                                                    22-12-1995\n",
            "revenue                                                                  0\n",
            "runtime                                                                101\n",
            "spoken_languages                  [{'iso_639_1': 'en', 'name': 'English'}]\n",
            "status                                                            Released\n",
            "tagline                  Still Yelling. Still Fighting. Still Ready for...\n",
            "video                                                                FALSE\n",
            "vote_average                                                           6.5\n",
            "vote_count                                                              92\n",
            "Unnamed: 24                                                            NaN\n",
            "Name: Grumpier Old Men, dtype: object\n"
          ],
          "name": "stdout"
        }
      ]
    },
    {
      "cell_type": "markdown",
      "metadata": {
        "id": "gQ8ITHu8bus1",
        "colab_type": "text"
      },
      "source": [
        "**Pandas program to get the details of fifth movie of the DataFrame.**"
      ]
    },
    {
      "cell_type": "code",
      "metadata": {
        "id": "Ol2OQ60FbwAR",
        "colab_type": "code",
        "colab": {
          "base_uri": "https://localhost:8080/",
          "height": 470
        },
        "outputId": "a8b69cf2-8259-4fc1-e466-f8b24d0aad9d"
      },
      "source": [
        "result = movies.iloc[4]\n",
        "print(\"Details of the fifth movie of the DataFrame:\")\n",
        "print(result)"
      ],
      "execution_count": 51,
      "outputs": [
        {
          "output_type": "stream",
          "text": [
            "Details of the fifth movie of the DataFrame:\n",
            "adult                                                                False\n",
            "belongs_to_collection    {'id': 96871, 'name': 'Father of the Bride Col...\n",
            "budget                                                                   0\n",
            "genres                                      [{'id': 35, 'name': 'Comedy'}]\n",
            "homepage                                                               NaN\n",
            "id                                                                   11862\n",
            "imdb_id                                                          tt0113041\n",
            "original_language                                                       en\n",
            "original_title                                 Father of the Bride Part II\n",
            "overview                 Just when George Banks has recovered from his ...\n",
            "popularity                                                        8.387519\n",
            "poster_path                               /e64sOI48hQXyru7naBFyssKFxVd.jpg\n",
            "production_companies     [{'name': 'Sandollar Productions', 'id': 5842}...\n",
            "production_countries     [{'iso_3166_1': 'US', 'name': 'United States o...\n",
            "release_date                                                    10-02-1995\n",
            "revenue                                                           76578911\n",
            "runtime                                                                106\n",
            "spoken_languages                  [{'iso_639_1': 'en', 'name': 'English'}]\n",
            "status                                                            Released\n",
            "tagline                  Just When His World Is Back To Normal... He's ...\n",
            "title                                          Father of the Bride Part II\n",
            "video                                                                FALSE\n",
            "vote_average                                                           5.7\n",
            "vote_count                                                             173\n",
            "Unnamed: 24                                                            NaN\n",
            "Name: 4, dtype: object\n"
          ],
          "name": "stdout"
        }
      ]
    },
    {
      "cell_type": "markdown",
      "metadata": {
        "id": "YBr5Onvrb8JY",
        "colab_type": "text"
      },
      "source": [
        "**Create a smaller dataframe with a subset of all features**"
      ]
    },
    {
      "cell_type": "code",
      "metadata": {
        "id": "li6k6LJMb8-A",
        "colab_type": "code",
        "colab": {
          "base_uri": "https://localhost:8080/",
          "height": 134
        },
        "outputId": "f0a166c1-c925-4ef9-a381-fc307e8ef4ac"
      },
      "source": [
        "small_df = movies[['title', 'release_date', 'budget', 'revenue', 'runtime']]\n",
        "print(\"Smaller DataFrame:\")\n",
        "print(small_df.head())"
      ],
      "execution_count": 52,
      "outputs": [
        {
          "output_type": "stream",
          "text": [
            "Smaller DataFrame:\n",
            "                         title release_date    budget    revenue  runtime\n",
            "0                    Toy Story   30-10-1995  30000000  373554033       81\n",
            "1                      Jumanji   15-12-1995  65000000  262797249      104\n",
            "2             Grumpier Old Men   22-12-1995         0          0      101\n",
            "3            Waiting to Exhale   22-12-1995  16000000   81452156      127\n",
            "4  Father of the Bride Part II   10-02-1995         0   76578911      106\n"
          ],
          "name": "stdout"
        }
      ]
    },
    {
      "cell_type": "markdown",
      "metadata": {
        "id": "G2qrF6ypcL-i",
        "colab_type": "text"
      },
      "source": [
        "**Display the first 10 rows of the DataFrame**"
      ]
    },
    {
      "cell_type": "code",
      "metadata": {
        "id": "87ttLkiSb9Fd",
        "colab_type": "code",
        "colab": {
          "base_uri": "https://localhost:8080/",
          "height": 1000
        },
        "outputId": "df197922-eb37-40cd-c1d1-d4fa4d86db4d"
      },
      "source": [
        "result = movies.head(10)\n",
        "print(\"First 10 rows of the DataFrame:\")\n",
        "result"
      ],
      "execution_count": 78,
      "outputs": [
        {
          "output_type": "stream",
          "text": [
            "First 10 rows of the DataFrame:\n"
          ],
          "name": "stdout"
        },
        {
          "output_type": "execute_result",
          "data": {
            "text/html": [
              "<div>\n",
              "<style scoped>\n",
              "    .dataframe tbody tr th:only-of-type {\n",
              "        vertical-align: middle;\n",
              "    }\n",
              "\n",
              "    .dataframe tbody tr th {\n",
              "        vertical-align: top;\n",
              "    }\n",
              "\n",
              "    .dataframe thead th {\n",
              "        text-align: right;\n",
              "    }\n",
              "</style>\n",
              "<table border=\"1\" class=\"dataframe\">\n",
              "  <thead>\n",
              "    <tr style=\"text-align: right;\">\n",
              "      <th></th>\n",
              "      <th>adult</th>\n",
              "      <th>belongs_to_collection</th>\n",
              "      <th>budget</th>\n",
              "      <th>genres</th>\n",
              "      <th>homepage</th>\n",
              "      <th>id</th>\n",
              "      <th>imdb_id</th>\n",
              "      <th>original_language</th>\n",
              "      <th>original_title</th>\n",
              "      <th>overview</th>\n",
              "      <th>popularity</th>\n",
              "      <th>poster_path</th>\n",
              "      <th>production_companies</th>\n",
              "      <th>production_countries</th>\n",
              "      <th>release_date</th>\n",
              "      <th>revenue</th>\n",
              "      <th>runtime</th>\n",
              "      <th>spoken_languages</th>\n",
              "      <th>status</th>\n",
              "      <th>tagline</th>\n",
              "      <th>title</th>\n",
              "      <th>video</th>\n",
              "      <th>vote_average</th>\n",
              "      <th>vote_count</th>\n",
              "      <th>Unnamed: 24</th>\n",
              "    </tr>\n",
              "  </thead>\n",
              "  <tbody>\n",
              "    <tr>\n",
              "      <th>0</th>\n",
              "      <td>False</td>\n",
              "      <td>{'id': 10194, 'name': 'Toy Story Collection', ...</td>\n",
              "      <td>30000000</td>\n",
              "      <td>[{'id': 16, 'name': 'Animation'}, {'id': 35, '...</td>\n",
              "      <td>http://toystory.disney.com/toy-story</td>\n",
              "      <td>862</td>\n",
              "      <td>tt0114709</td>\n",
              "      <td>en</td>\n",
              "      <td>Toy Story</td>\n",
              "      <td>Led by Woody, Andy's toys live happily in his ...</td>\n",
              "      <td>21.946943</td>\n",
              "      <td>/rhIRbceoE9lR4veEXuwCC2wARtG.jpg</td>\n",
              "      <td>[{'name': 'Pixar Animation Studios', 'id': 3}]</td>\n",
              "      <td>[{'iso_3166_1': 'US', 'name': 'United States o...</td>\n",
              "      <td>30-10-1995</td>\n",
              "      <td>373554033</td>\n",
              "      <td>81</td>\n",
              "      <td>[{'iso_639_1': 'en', 'name': 'English'}]</td>\n",
              "      <td>Released</td>\n",
              "      <td>NaN</td>\n",
              "      <td>Toy Story</td>\n",
              "      <td>FALSE</td>\n",
              "      <td>7.7</td>\n",
              "      <td>5415.0</td>\n",
              "      <td>NaN</td>\n",
              "    </tr>\n",
              "    <tr>\n",
              "      <th>1</th>\n",
              "      <td>False</td>\n",
              "      <td>NaN</td>\n",
              "      <td>65000000</td>\n",
              "      <td>[{'id': 12, 'name': 'Adventure'}, {'id': 14, '...</td>\n",
              "      <td>NaN</td>\n",
              "      <td>8844</td>\n",
              "      <td>tt0113497</td>\n",
              "      <td>en</td>\n",
              "      <td>Jumanji</td>\n",
              "      <td>When siblings Judy and Peter discover an encha...</td>\n",
              "      <td>17.015539</td>\n",
              "      <td>/vzmL6fP7aPKNKPRTFnZmiUfciyV.jpg</td>\n",
              "      <td>[{'name': 'TriStar Pictures', 'id': 559}, {'na...</td>\n",
              "      <td>[{'iso_3166_1': 'US', 'name': 'United States o...</td>\n",
              "      <td>15-12-1995</td>\n",
              "      <td>262797249</td>\n",
              "      <td>104</td>\n",
              "      <td>[{'iso_639_1': 'en', 'name': 'English'}, {'iso...</td>\n",
              "      <td>Released</td>\n",
              "      <td>Roll the dice and unleash the excitement!</td>\n",
              "      <td>Jumanji</td>\n",
              "      <td>FALSE</td>\n",
              "      <td>6.9</td>\n",
              "      <td>2413.0</td>\n",
              "      <td>NaN</td>\n",
              "    </tr>\n",
              "    <tr>\n",
              "      <th>2</th>\n",
              "      <td>False</td>\n",
              "      <td>{'id': 119050, 'name': 'Grumpy Old Men Collect...</td>\n",
              "      <td>0</td>\n",
              "      <td>[{'id': 10749, 'name': 'Romance'}, {'id': 35, ...</td>\n",
              "      <td>NaN</td>\n",
              "      <td>15602</td>\n",
              "      <td>tt0113228</td>\n",
              "      <td>en</td>\n",
              "      <td>Grumpier Old Men</td>\n",
              "      <td>A family wedding reignites the ancient feud be...</td>\n",
              "      <td>11.7129</td>\n",
              "      <td>/6ksm1sjKMFLbO7UY2i6G1ju9SML.jpg</td>\n",
              "      <td>[{'name': 'Warner Bros.', 'id': 6194}, {'name'...</td>\n",
              "      <td>[{'iso_3166_1': 'US', 'name': 'United States o...</td>\n",
              "      <td>22-12-1995</td>\n",
              "      <td>0</td>\n",
              "      <td>101</td>\n",
              "      <td>[{'iso_639_1': 'en', 'name': 'English'}]</td>\n",
              "      <td>Released</td>\n",
              "      <td>Still Yelling. Still Fighting. Still Ready for...</td>\n",
              "      <td>Grumpier Old Men</td>\n",
              "      <td>FALSE</td>\n",
              "      <td>6.5</td>\n",
              "      <td>92.0</td>\n",
              "      <td>NaN</td>\n",
              "    </tr>\n",
              "    <tr>\n",
              "      <th>3</th>\n",
              "      <td>False</td>\n",
              "      <td>NaN</td>\n",
              "      <td>16000000</td>\n",
              "      <td>[{'id': 35, 'name': 'Comedy'}, {'id': 18, 'nam...</td>\n",
              "      <td>NaN</td>\n",
              "      <td>31357</td>\n",
              "      <td>tt0114885</td>\n",
              "      <td>en</td>\n",
              "      <td>Waiting to Exhale</td>\n",
              "      <td>Cheated on, mistreated and stepped on, the wom...</td>\n",
              "      <td>3.859495</td>\n",
              "      <td>/16XOMpEaLWkrcPqSQqhTmeJuqQl.jpg</td>\n",
              "      <td>[{'name': 'Twentieth Century Fox Film Corporat...</td>\n",
              "      <td>[{'iso_3166_1': 'US', 'name': 'United States o...</td>\n",
              "      <td>22-12-1995</td>\n",
              "      <td>81452156</td>\n",
              "      <td>127</td>\n",
              "      <td>[{'iso_639_1': 'en', 'name': 'English'}]</td>\n",
              "      <td>Released</td>\n",
              "      <td>Friends are the people who let you be yourself...</td>\n",
              "      <td>Waiting to Exhale</td>\n",
              "      <td>FALSE</td>\n",
              "      <td>6.1</td>\n",
              "      <td>34.0</td>\n",
              "      <td>NaN</td>\n",
              "    </tr>\n",
              "    <tr>\n",
              "      <th>4</th>\n",
              "      <td>False</td>\n",
              "      <td>{'id': 96871, 'name': 'Father of the Bride Col...</td>\n",
              "      <td>0</td>\n",
              "      <td>[{'id': 35, 'name': 'Comedy'}]</td>\n",
              "      <td>NaN</td>\n",
              "      <td>11862</td>\n",
              "      <td>tt0113041</td>\n",
              "      <td>en</td>\n",
              "      <td>Father of the Bride Part II</td>\n",
              "      <td>Just when George Banks has recovered from his ...</td>\n",
              "      <td>8.387519</td>\n",
              "      <td>/e64sOI48hQXyru7naBFyssKFxVd.jpg</td>\n",
              "      <td>[{'name': 'Sandollar Productions', 'id': 5842}...</td>\n",
              "      <td>[{'iso_3166_1': 'US', 'name': 'United States o...</td>\n",
              "      <td>10-02-1995</td>\n",
              "      <td>76578911</td>\n",
              "      <td>106</td>\n",
              "      <td>[{'iso_639_1': 'en', 'name': 'English'}]</td>\n",
              "      <td>Released</td>\n",
              "      <td>Just When His World Is Back To Normal... He's ...</td>\n",
              "      <td>Father of the Bride Part II</td>\n",
              "      <td>FALSE</td>\n",
              "      <td>5.7</td>\n",
              "      <td>173.0</td>\n",
              "      <td>NaN</td>\n",
              "    </tr>\n",
              "    <tr>\n",
              "      <th>5</th>\n",
              "      <td>False</td>\n",
              "      <td>NaN</td>\n",
              "      <td>60000000</td>\n",
              "      <td>[{'id': 28, 'name': 'Action'}, {'id': 80, 'nam...</td>\n",
              "      <td>NaN</td>\n",
              "      <td>949</td>\n",
              "      <td>tt0113277</td>\n",
              "      <td>en</td>\n",
              "      <td>Heat</td>\n",
              "      <td>Obsessive master thief, Neil McCauley leads a ...</td>\n",
              "      <td>17.924927</td>\n",
              "      <td>/zMyfPUelumio3tiDKPffaUpsQTD.jpg</td>\n",
              "      <td>[{'name': 'Regency Enterprises', 'id': 508}, {...</td>\n",
              "      <td>[{'iso_3166_1': 'US', 'name': 'United States o...</td>\n",
              "      <td>15-12-1995</td>\n",
              "      <td>187436818</td>\n",
              "      <td>170</td>\n",
              "      <td>[{'iso_639_1': 'en', 'name': 'English'}, {'iso...</td>\n",
              "      <td>Released</td>\n",
              "      <td>A Los Angeles Crime Saga</td>\n",
              "      <td>Heat</td>\n",
              "      <td>FALSE</td>\n",
              "      <td>7.7</td>\n",
              "      <td>1886.0</td>\n",
              "      <td>NaN</td>\n",
              "    </tr>\n",
              "    <tr>\n",
              "      <th>6</th>\n",
              "      <td>False</td>\n",
              "      <td>NaN</td>\n",
              "      <td>58000000</td>\n",
              "      <td>[{'id': 35, 'name': 'Comedy'}, {'id': 10749, '...</td>\n",
              "      <td>NaN</td>\n",
              "      <td>11860</td>\n",
              "      <td>tt0114319</td>\n",
              "      <td>en</td>\n",
              "      <td>Sabrina</td>\n",
              "      <td>An ugly duckling having undergone a remarkable...</td>\n",
              "      <td>6.677277</td>\n",
              "      <td>/jQh15y5YB7bWz1NtffNZmRw0s9D.jpg</td>\n",
              "      <td>[{'name': 'Paramount Pictures', 'id': 4}, {'na...</td>\n",
              "      <td>[{'iso_3166_1': 'DE', 'name': 'Germany'}, {'is...</td>\n",
              "      <td>15-12-1995</td>\n",
              "      <td>0</td>\n",
              "      <td>127</td>\n",
              "      <td>[{'iso_639_1': 'fr', 'name': 'Français'}, {'is...</td>\n",
              "      <td>Released</td>\n",
              "      <td>You are cordially invited to the most surprisi...</td>\n",
              "      <td>Sabrina</td>\n",
              "      <td>FALSE</td>\n",
              "      <td>6.2</td>\n",
              "      <td>141.0</td>\n",
              "      <td>NaN</td>\n",
              "    </tr>\n",
              "    <tr>\n",
              "      <th>7</th>\n",
              "      <td>False</td>\n",
              "      <td>NaN</td>\n",
              "      <td>0</td>\n",
              "      <td>[{'id': 28, 'name': 'Action'}, {'id': 12, 'nam...</td>\n",
              "      <td>NaN</td>\n",
              "      <td>45325</td>\n",
              "      <td>tt0112302</td>\n",
              "      <td>en</td>\n",
              "      <td>Tom and Huck</td>\n",
              "      <td>A mischievous young boy, Tom Sawyer, witnesses...</td>\n",
              "      <td>2.561161</td>\n",
              "      <td>/sGO5Qa55p7wTu7FJcX4H4xIVKvS.jpg</td>\n",
              "      <td>[{'name': 'Walt Disney Pictures', 'id': 2}]</td>\n",
              "      <td>[{'iso_3166_1': 'US', 'name': 'United States o...</td>\n",
              "      <td>22-12-1995</td>\n",
              "      <td>0</td>\n",
              "      <td>97</td>\n",
              "      <td>[{'iso_639_1': 'en', 'name': 'English'}, {'iso...</td>\n",
              "      <td>Released</td>\n",
              "      <td>The Original Bad Boys.</td>\n",
              "      <td>Tom and Huck</td>\n",
              "      <td>FALSE</td>\n",
              "      <td>5.4</td>\n",
              "      <td>45.0</td>\n",
              "      <td>NaN</td>\n",
              "    </tr>\n",
              "    <tr>\n",
              "      <th>8</th>\n",
              "      <td>False</td>\n",
              "      <td>NaN</td>\n",
              "      <td>35000000</td>\n",
              "      <td>[{'id': 28, 'name': 'Action'}, {'id': 12, 'nam...</td>\n",
              "      <td>NaN</td>\n",
              "      <td>9091</td>\n",
              "      <td>tt0114576</td>\n",
              "      <td>en</td>\n",
              "      <td>Sudden Death</td>\n",
              "      <td>International action superstar Jean Claude Van...</td>\n",
              "      <td>5.23158</td>\n",
              "      <td>/eoWvKD60lT95Ss1MYNgVExpo5iU.jpg</td>\n",
              "      <td>[{'name': 'Universal Pictures', 'id': 33}, {'n...</td>\n",
              "      <td>[{'iso_3166_1': 'US', 'name': 'United States o...</td>\n",
              "      <td>22-12-1995</td>\n",
              "      <td>64350171</td>\n",
              "      <td>106</td>\n",
              "      <td>[{'iso_639_1': 'en', 'name': 'English'}]</td>\n",
              "      <td>Released</td>\n",
              "      <td>Terror goes into overtime.</td>\n",
              "      <td>Sudden Death</td>\n",
              "      <td>FALSE</td>\n",
              "      <td>5.5</td>\n",
              "      <td>174.0</td>\n",
              "      <td>NaN</td>\n",
              "    </tr>\n",
              "    <tr>\n",
              "      <th>9</th>\n",
              "      <td>False</td>\n",
              "      <td>{'id': 645, 'name': 'James Bond Collection', '...</td>\n",
              "      <td>58000000</td>\n",
              "      <td>[{'id': 12, 'name': 'Adventure'}, {'id': 28, '...</td>\n",
              "      <td>http://www.mgm.com/view/movie/757/Goldeneye/</td>\n",
              "      <td>710</td>\n",
              "      <td>tt0113189</td>\n",
              "      <td>en</td>\n",
              "      <td>GoldenEye</td>\n",
              "      <td>James Bond must unmask the mysterious head of ...</td>\n",
              "      <td>14.686036</td>\n",
              "      <td>/5c0ovjT41KnYIHYuF4AWsTe3sKh.jpg</td>\n",
              "      <td>[{'name': 'United Artists', 'id': 60}, {'name'...</td>\n",
              "      <td>[{'iso_3166_1': 'GB', 'name': 'United Kingdom'...</td>\n",
              "      <td>16-11-1995</td>\n",
              "      <td>352194034</td>\n",
              "      <td>130</td>\n",
              "      <td>[{'iso_639_1': 'en', 'name': 'English'}, {'iso...</td>\n",
              "      <td>Released</td>\n",
              "      <td>No limits. No fears. No substitutes.</td>\n",
              "      <td>GoldenEye</td>\n",
              "      <td>FALSE</td>\n",
              "      <td>6.6</td>\n",
              "      <td>1194.0</td>\n",
              "      <td>NaN</td>\n",
              "    </tr>\n",
              "  </tbody>\n",
              "</table>\n",
              "</div>"
            ],
            "text/plain": [
              "   adult  ... Unnamed: 24\n",
              "0  False  ...         NaN\n",
              "1  False  ...         NaN\n",
              "2  False  ...         NaN\n",
              "3  False  ...         NaN\n",
              "4  False  ...         NaN\n",
              "5  False  ...         NaN\n",
              "6  False  ...         NaN\n",
              "7  False  ...         NaN\n",
              "8  False  ...         NaN\n",
              "9  False  ...         NaN\n",
              "\n",
              "[10 rows x 25 columns]"
            ]
          },
          "metadata": {
            "tags": []
          },
          "execution_count": 78
        }
      ]
    },
    {
      "cell_type": "markdown",
      "metadata": {
        "id": "QwIq5HkbdfW6",
        "colab_type": "text"
      },
      "source": [
        "**Sort the DataFrame based on release_date**"
      ]
    },
    {
      "cell_type": "code",
      "metadata": {
        "id": "xNQtb4OidPLb",
        "colab_type": "code",
        "colab": {
          "base_uri": "https://localhost:8080/",
          "height": 1000
        },
        "outputId": "01065347-869d-4b74-dc0b-e03e6c8b9af0"
      },
      "source": [
        "small_df = movies[['title', 'release_date', 'budget', 'revenue', 'runtime']]\n",
        "result = small_df.sort_values('release_date')\n",
        "print(\"DataFrame based on release date.\")\n",
        "result"
      ],
      "execution_count": 77,
      "outputs": [
        {
          "output_type": "stream",
          "text": [
            "DataFrame based on release date.\n"
          ],
          "name": "stdout"
        },
        {
          "output_type": "execute_result",
          "data": {
            "text/html": [
              "<div>\n",
              "<style scoped>\n",
              "    .dataframe tbody tr th:only-of-type {\n",
              "        vertical-align: middle;\n",
              "    }\n",
              "\n",
              "    .dataframe tbody tr th {\n",
              "        vertical-align: top;\n",
              "    }\n",
              "\n",
              "    .dataframe thead th {\n",
              "        text-align: right;\n",
              "    }\n",
              "</style>\n",
              "<table border=\"1\" class=\"dataframe\">\n",
              "  <thead>\n",
              "    <tr style=\"text-align: right;\">\n",
              "      <th></th>\n",
              "      <th>title</th>\n",
              "      <th>release_date</th>\n",
              "      <th>budget</th>\n",
              "      <th>revenue</th>\n",
              "      <th>runtime</th>\n",
              "    </tr>\n",
              "  </thead>\n",
              "  <tbody>\n",
              "    <tr>\n",
              "      <th>48</th>\n",
              "      <td>When Night Is Falling</td>\n",
              "      <td>05-05-1995</td>\n",
              "      <td>0</td>\n",
              "      <td>0</td>\n",
              "      <td>96</td>\n",
              "    </tr>\n",
              "    <tr>\n",
              "      <th>45</th>\n",
              "      <td>How To Make An American Quilt</td>\n",
              "      <td>06-10-1995</td>\n",
              "      <td>10000000</td>\n",
              "      <td>23574130</td>\n",
              "      <td>116</td>\n",
              "    </tr>\n",
              "    <tr>\n",
              "      <th>22</th>\n",
              "      <td>Assassins</td>\n",
              "      <td>06-10-1995</td>\n",
              "      <td>50000000</td>\n",
              "      <td>30303072</td>\n",
              "      <td>132</td>\n",
              "    </tr>\n",
              "    <tr>\n",
              "      <th>41</th>\n",
              "      <td>Dead Presidents</td>\n",
              "      <td>06-10-1995</td>\n",
              "      <td>10000000</td>\n",
              "      <td>0</td>\n",
              "      <td>119</td>\n",
              "    </tr>\n",
              "    <tr>\n",
              "      <th>34</th>\n",
              "      <td>Carrington</td>\n",
              "      <td>08-11-1995</td>\n",
              "      <td>0</td>\n",
              "      <td>0</td>\n",
              "      <td>121</td>\n",
              "    </tr>\n",
              "    <tr>\n",
              "      <th>17</th>\n",
              "      <td>Four Rooms</td>\n",
              "      <td>09-12-1995</td>\n",
              "      <td>4000000</td>\n",
              "      <td>4300000</td>\n",
              "      <td>98</td>\n",
              "    </tr>\n",
              "    <tr>\n",
              "      <th>4</th>\n",
              "      <td>Father of the Bride Part II</td>\n",
              "      <td>10-02-1995</td>\n",
              "      <td>0</td>\n",
              "      <td>76578911</td>\n",
              "      <td>106</td>\n",
              "    </tr>\n",
              "    <tr>\n",
              "      <th>18</th>\n",
              "      <td>Ace Ventura: When Nature Calls</td>\n",
              "      <td>10-11-1995</td>\n",
              "      <td>30000000</td>\n",
              "      <td>212385533</td>\n",
              "      <td>90</td>\n",
              "    </tr>\n",
              "    <tr>\n",
              "      <th>30</th>\n",
              "      <td>Dangerous Minds</td>\n",
              "      <td>11-08-1995</td>\n",
              "      <td>0</td>\n",
              "      <td>180000000</td>\n",
              "      <td>99</td>\n",
              "    </tr>\n",
              "    <tr>\n",
              "      <th>16</th>\n",
              "      <td>Sense and Sensibility</td>\n",
              "      <td>13-12-1995</td>\n",
              "      <td>16500000</td>\n",
              "      <td>135000000</td>\n",
              "      <td>136</td>\n",
              "    </tr>\n",
              "    <tr>\n",
              "      <th>47</th>\n",
              "      <td>Pocahontas</td>\n",
              "      <td>14-06-1995</td>\n",
              "      <td>55000000</td>\n",
              "      <td>346079773</td>\n",
              "      <td>81</td>\n",
              "    </tr>\n",
              "    <tr>\n",
              "      <th>1</th>\n",
              "      <td>Jumanji</td>\n",
              "      <td>15-12-1995</td>\n",
              "      <td>65000000</td>\n",
              "      <td>262797249</td>\n",
              "      <td>104</td>\n",
              "    </tr>\n",
              "    <tr>\n",
              "      <th>6</th>\n",
              "      <td>Sabrina</td>\n",
              "      <td>15-12-1995</td>\n",
              "      <td>58000000</td>\n",
              "      <td>0</td>\n",
              "      <td>127</td>\n",
              "    </tr>\n",
              "    <tr>\n",
              "      <th>5</th>\n",
              "      <td>Heat</td>\n",
              "      <td>15-12-1995</td>\n",
              "      <td>60000000</td>\n",
              "      <td>187436818</td>\n",
              "      <td>170</td>\n",
              "    </tr>\n",
              "    <tr>\n",
              "      <th>25</th>\n",
              "      <td>Othello</td>\n",
              "      <td>15-12-1995</td>\n",
              "      <td>0</td>\n",
              "      <td>0</td>\n",
              "      <td>123</td>\n",
              "    </tr>\n",
              "    <tr>\n",
              "      <th>39</th>\n",
              "      <td>Cry, the Beloved Country</td>\n",
              "      <td>15-12-1995</td>\n",
              "      <td>0</td>\n",
              "      <td>676525</td>\n",
              "      <td>106</td>\n",
              "    </tr>\n",
              "    <tr>\n",
              "      <th>28</th>\n",
              "      <td>The City of Lost Children</td>\n",
              "      <td>16-05-1995</td>\n",
              "      <td>18000000</td>\n",
              "      <td>1738611</td>\n",
              "      <td>108</td>\n",
              "    </tr>\n",
              "    <tr>\n",
              "      <th>9</th>\n",
              "      <td>GoldenEye</td>\n",
              "      <td>16-11-1995</td>\n",
              "      <td>58000000</td>\n",
              "      <td>352194034</td>\n",
              "      <td>130</td>\n",
              "    </tr>\n",
              "    <tr>\n",
              "      <th>10</th>\n",
              "      <td>The American President</td>\n",
              "      <td>17-11-1995</td>\n",
              "      <td>62000000</td>\n",
              "      <td>107879496</td>\n",
              "      <td>106</td>\n",
              "    </tr>\n",
              "    <tr>\n",
              "      <th>37</th>\n",
              "      <td>It Takes Two</td>\n",
              "      <td>17-11-1995</td>\n",
              "      <td>0</td>\n",
              "      <td>0</td>\n",
              "      <td>101</td>\n",
              "    </tr>\n",
              "    <tr>\n",
              "      <th>33</th>\n",
              "      <td>Babe</td>\n",
              "      <td>18-07-1995</td>\n",
              "      <td>30000000</td>\n",
              "      <td>254134910</td>\n",
              "      <td>89</td>\n",
              "    </tr>\n",
              "    <tr>\n",
              "      <th>43</th>\n",
              "      <td>Mortal Kombat</td>\n",
              "      <td>18-08-1995</td>\n",
              "      <td>18000000</td>\n",
              "      <td>122195920</td>\n",
              "      <td>101</td>\n",
              "    </tr>\n",
              "    <tr>\n",
              "      <th>32</th>\n",
              "      <td>Wings of Courage</td>\n",
              "      <td>18-09-1996</td>\n",
              "      <td>0</td>\n",
              "      <td>0</td>\n",
              "      <td>50</td>\n",
              "    </tr>\n",
              "    <tr>\n",
              "      <th>38</th>\n",
              "      <td>Clueless</td>\n",
              "      <td>19-07-1995</td>\n",
              "      <td>12000000</td>\n",
              "      <td>0</td>\n",
              "      <td>97</td>\n",
              "    </tr>\n",
              "    <tr>\n",
              "      <th>49</th>\n",
              "      <td>The Usual Suspects</td>\n",
              "      <td>19-07-1995</td>\n",
              "      <td>6000000</td>\n",
              "      <td>23341568</td>\n",
              "      <td>106</td>\n",
              "    </tr>\n",
              "    <tr>\n",
              "      <th>44</th>\n",
              "      <td>To Die For</td>\n",
              "      <td>20-05-1995</td>\n",
              "      <td>20000000</td>\n",
              "      <td>21284514</td>\n",
              "      <td>106</td>\n",
              "    </tr>\n",
              "    <tr>\n",
              "      <th>26</th>\n",
              "      <td>Now and Then</td>\n",
              "      <td>20-10-1995</td>\n",
              "      <td>12000000</td>\n",
              "      <td>27400000</td>\n",
              "      <td>100</td>\n",
              "    </tr>\n",
              "    <tr>\n",
              "      <th>36</th>\n",
              "      <td>Across the Sea of Time</td>\n",
              "      <td>20-10-1995</td>\n",
              "      <td>0</td>\n",
              "      <td>0</td>\n",
              "      <td>51</td>\n",
              "    </tr>\n",
              "    <tr>\n",
              "      <th>20</th>\n",
              "      <td>Get Shorty</td>\n",
              "      <td>20-10-1995</td>\n",
              "      <td>30250000</td>\n",
              "      <td>115101622</td>\n",
              "      <td>105</td>\n",
              "    </tr>\n",
              "    <tr>\n",
              "      <th>19</th>\n",
              "      <td>Money Train</td>\n",
              "      <td>21-11-1995</td>\n",
              "      <td>60000000</td>\n",
              "      <td>35431113</td>\n",
              "      <td>103</td>\n",
              "    </tr>\n",
              "    <tr>\n",
              "      <th>46</th>\n",
              "      <td>Se7en</td>\n",
              "      <td>22-09-1995</td>\n",
              "      <td>33000000</td>\n",
              "      <td>327311859</td>\n",
              "      <td>127</td>\n",
              "    </tr>\n",
              "    <tr>\n",
              "      <th>15</th>\n",
              "      <td>Casino</td>\n",
              "      <td>22-11-1995</td>\n",
              "      <td>52000000</td>\n",
              "      <td>116112375</td>\n",
              "      <td>178</td>\n",
              "    </tr>\n",
              "    <tr>\n",
              "      <th>14</th>\n",
              "      <td>Cutthroat Island</td>\n",
              "      <td>22-12-1995</td>\n",
              "      <td>98000000</td>\n",
              "      <td>10017322</td>\n",
              "      <td>119</td>\n",
              "    </tr>\n",
              "    <tr>\n",
              "      <th>13</th>\n",
              "      <td>Nixon</td>\n",
              "      <td>22-12-1995</td>\n",
              "      <td>44000000</td>\n",
              "      <td>13681765</td>\n",
              "      <td>192</td>\n",
              "    </tr>\n",
              "    <tr>\n",
              "      <th>12</th>\n",
              "      <td>Balto</td>\n",
              "      <td>22-12-1995</td>\n",
              "      <td>0</td>\n",
              "      <td>11348324</td>\n",
              "      <td>78</td>\n",
              "    </tr>\n",
              "    <tr>\n",
              "      <th>11</th>\n",
              "      <td>Dracula: Dead and Loving It</td>\n",
              "      <td>22-12-1995</td>\n",
              "      <td>0</td>\n",
              "      <td>0</td>\n",
              "      <td>88</td>\n",
              "    </tr>\n",
              "    <tr>\n",
              "      <th>8</th>\n",
              "      <td>Sudden Death</td>\n",
              "      <td>22-12-1995</td>\n",
              "      <td>35000000</td>\n",
              "      <td>64350171</td>\n",
              "      <td>106</td>\n",
              "    </tr>\n",
              "    <tr>\n",
              "      <th>7</th>\n",
              "      <td>Tom and Huck</td>\n",
              "      <td>22-12-1995</td>\n",
              "      <td>0</td>\n",
              "      <td>0</td>\n",
              "      <td>97</td>\n",
              "    </tr>\n",
              "    <tr>\n",
              "      <th>3</th>\n",
              "      <td>Waiting to Exhale</td>\n",
              "      <td>22-12-1995</td>\n",
              "      <td>16000000</td>\n",
              "      <td>81452156</td>\n",
              "      <td>127</td>\n",
              "    </tr>\n",
              "    <tr>\n",
              "      <th>2</th>\n",
              "      <td>Grumpier Old Men</td>\n",
              "      <td>22-12-1995</td>\n",
              "      <td>0</td>\n",
              "      <td>0</td>\n",
              "      <td>101</td>\n",
              "    </tr>\n",
              "    <tr>\n",
              "      <th>27</th>\n",
              "      <td>Persuasion</td>\n",
              "      <td>27-09-1995</td>\n",
              "      <td>0</td>\n",
              "      <td>0</td>\n",
              "      <td>104</td>\n",
              "    </tr>\n",
              "    <tr>\n",
              "      <th>24</th>\n",
              "      <td>Leaving Las Vegas</td>\n",
              "      <td>27-10-1995</td>\n",
              "      <td>3600000</td>\n",
              "      <td>49800000</td>\n",
              "      <td>112</td>\n",
              "    </tr>\n",
              "    <tr>\n",
              "      <th>23</th>\n",
              "      <td>Powder</td>\n",
              "      <td>27-10-1995</td>\n",
              "      <td>0</td>\n",
              "      <td>0</td>\n",
              "      <td>111</td>\n",
              "    </tr>\n",
              "    <tr>\n",
              "      <th>21</th>\n",
              "      <td>Copycat</td>\n",
              "      <td>27-10-1995</td>\n",
              "      <td>0</td>\n",
              "      <td>0</td>\n",
              "      <td>124</td>\n",
              "    </tr>\n",
              "    <tr>\n",
              "      <th>42</th>\n",
              "      <td>Restoration</td>\n",
              "      <td>29-12-1995</td>\n",
              "      <td>19000000</td>\n",
              "      <td>0</td>\n",
              "      <td>117</td>\n",
              "    </tr>\n",
              "    <tr>\n",
              "      <th>35</th>\n",
              "      <td>Dead Man Walking</td>\n",
              "      <td>29-12-1995</td>\n",
              "      <td>11000000</td>\n",
              "      <td>39363635</td>\n",
              "      <td>122</td>\n",
              "    </tr>\n",
              "    <tr>\n",
              "      <th>31</th>\n",
              "      <td>Twelve Monkeys</td>\n",
              "      <td>29-12-1995</td>\n",
              "      <td>29500000</td>\n",
              "      <td>168840000</td>\n",
              "      <td>129</td>\n",
              "    </tr>\n",
              "    <tr>\n",
              "      <th>40</th>\n",
              "      <td>Richard III</td>\n",
              "      <td>29-12-1995</td>\n",
              "      <td>0</td>\n",
              "      <td>0</td>\n",
              "      <td>104</td>\n",
              "    </tr>\n",
              "    <tr>\n",
              "      <th>0</th>\n",
              "      <td>Toy Story</td>\n",
              "      <td>30-10-1995</td>\n",
              "      <td>30000000</td>\n",
              "      <td>373554033</td>\n",
              "      <td>81</td>\n",
              "    </tr>\n",
              "    <tr>\n",
              "      <th>29</th>\n",
              "      <td>In 1930's Shanghai violence was not the proble...</td>\n",
              "      <td>[{'iso_3166_1': 'CN', 'name': 'China'}, {'iso_...</td>\n",
              "      <td>0</td>\n",
              "      <td>30-04-1995</td>\n",
              "      <td>0</td>\n",
              "    </tr>\n",
              "  </tbody>\n",
              "</table>\n",
              "</div>"
            ],
            "text/plain": [
              "                                                title  ... runtime\n",
              "48                              When Night Is Falling  ...      96\n",
              "45                      How To Make An American Quilt  ...     116\n",
              "22                                          Assassins  ...     132\n",
              "41                                    Dead Presidents  ...     119\n",
              "34                                         Carrington  ...     121\n",
              "17                                         Four Rooms  ...      98\n",
              "4                         Father of the Bride Part II  ...     106\n",
              "18                     Ace Ventura: When Nature Calls  ...      90\n",
              "30                                    Dangerous Minds  ...      99\n",
              "16                              Sense and Sensibility  ...     136\n",
              "47                                         Pocahontas  ...      81\n",
              "1                                             Jumanji  ...     104\n",
              "6                                             Sabrina  ...     127\n",
              "5                                                Heat  ...     170\n",
              "25                                            Othello  ...     123\n",
              "39                           Cry, the Beloved Country  ...     106\n",
              "28                          The City of Lost Children  ...     108\n",
              "9                                           GoldenEye  ...     130\n",
              "10                             The American President  ...     106\n",
              "37                                       It Takes Two  ...     101\n",
              "33                                               Babe  ...      89\n",
              "43                                      Mortal Kombat  ...     101\n",
              "32                                   Wings of Courage  ...      50\n",
              "38                                           Clueless  ...      97\n",
              "49                                 The Usual Suspects  ...     106\n",
              "44                                         To Die For  ...     106\n",
              "26                                       Now and Then  ...     100\n",
              "36                             Across the Sea of Time  ...      51\n",
              "20                                         Get Shorty  ...     105\n",
              "19                                        Money Train  ...     103\n",
              "46                                              Se7en  ...     127\n",
              "15                                             Casino  ...     178\n",
              "14                                   Cutthroat Island  ...     119\n",
              "13                                              Nixon  ...     192\n",
              "12                                              Balto  ...      78\n",
              "11                        Dracula: Dead and Loving It  ...      88\n",
              "8                                        Sudden Death  ...     106\n",
              "7                                        Tom and Huck  ...      97\n",
              "3                                   Waiting to Exhale  ...     127\n",
              "2                                    Grumpier Old Men  ...     101\n",
              "27                                         Persuasion  ...     104\n",
              "24                                  Leaving Las Vegas  ...     112\n",
              "23                                             Powder  ...     111\n",
              "21                                            Copycat  ...     124\n",
              "42                                        Restoration  ...     117\n",
              "35                                   Dead Man Walking  ...     122\n",
              "31                                     Twelve Monkeys  ...     129\n",
              "40                                        Richard III  ...     104\n",
              "0                                           Toy Story  ...      81\n",
              "29  In 1930's Shanghai violence was not the proble...  ...       0\n",
              "\n",
              "[50 rows x 5 columns]"
            ]
          },
          "metadata": {
            "tags": []
          },
          "execution_count": 77
        }
      ]
    },
    {
      "cell_type": "markdown",
      "metadata": {
        "id": "nG5cXDwLeilV",
        "colab_type": "text"
      },
      "source": [
        ""
      ]
    },
    {
      "cell_type": "code",
      "metadata": {
        "id": "jK_J9_bOesaT",
        "colab_type": "code",
        "colab": {
          "base_uri": "https://localhost:8080/",
          "height": 504
        },
        "outputId": "465f5379-a1d8-4fca-dfac-b31dff5c1045"
      },
      "source": [
        "result = small_df[small_df['release_date'] > '1995-01-01']\n",
        "print(\"DataFrame based on release date>'1995-01-01'.\")\n",
        "print(result)"
      ],
      "execution_count": 88,
      "outputs": [
        {
          "output_type": "stream",
          "text": [
            "DataFrame based on release date>'1995-01-01'.\n",
            "                                                title  ... runtime\n",
            "0                                           Toy Story  ...      81\n",
            "2                                    Grumpier Old Men  ...     101\n",
            "3                                   Waiting to Exhale  ...     127\n",
            "7                                        Tom and Huck  ...      97\n",
            "8                                        Sudden Death  ...     106\n",
            "11                        Dracula: Dead and Loving It  ...      88\n",
            "12                                              Balto  ...      78\n",
            "13                                              Nixon  ...     192\n",
            "14                                   Cutthroat Island  ...     119\n",
            "15                                             Casino  ...     178\n",
            "19                                        Money Train  ...     103\n",
            "20                                         Get Shorty  ...     105\n",
            "21                                            Copycat  ...     124\n",
            "23                                             Powder  ...     111\n",
            "24                                  Leaving Las Vegas  ...     112\n",
            "26                                       Now and Then  ...     100\n",
            "27                                         Persuasion  ...     104\n",
            "29  In 1930's Shanghai violence was not the proble...  ...       0\n",
            "31                                     Twelve Monkeys  ...     129\n",
            "35                                   Dead Man Walking  ...     122\n",
            "36                             Across the Sea of Time  ...      51\n",
            "40                                        Richard III  ...     104\n",
            "42                                        Restoration  ...     117\n",
            "44                                         To Die For  ...     106\n",
            "46                                              Se7en  ...     127\n",
            "\n",
            "[25 rows x 5 columns]\n"
          ],
          "name": "stdout"
        }
      ]
    },
    {
      "cell_type": "markdown",
      "metadata": {
        "id": "z1VE1zW5fmkm",
        "colab_type": "text"
      },
      "source": [
        "**Sort movies on runtime in descending order**"
      ]
    },
    {
      "cell_type": "code",
      "metadata": {
        "id": "Wlueyv_bfl0D",
        "colab_type": "code",
        "colab": {
          "base_uri": "https://localhost:8080/",
          "height": 134
        },
        "outputId": "e6c93527-27c8-4e65-ee81-6459fb943c3a"
      },
      "source": [
        "small_df = movies[['title', 'release_date', 'budget', 'revenue', 'runtime']]\n",
        "#Sort Movies based on runtime (in descending order)\n",
        "result = small_df.sort_values('runtime', ascending=False)\n",
        "print(\"DataFrame sort on Runtime.\")\n",
        "print(result.head())"
      ],
      "execution_count": 93,
      "outputs": [
        {
          "output_type": "stream",
          "text": [
            "DataFrame sort on Runtime.\n",
            "                    title release_date    budget    revenue  runtime\n",
            "13                  Nixon   22-12-1995  44000000   13681765      192\n",
            "15                 Casino   22-11-1995  52000000  116112375      178\n",
            "5                    Heat   15-12-1995  60000000  187436818      170\n",
            "16  Sense and Sensibility   13-12-1995  16500000  135000000      136\n",
            "22              Assassins   06-10-1995  50000000   30303072      132\n"
          ],
          "name": "stdout"
        }
      ]
    },
    {
      "cell_type": "code",
      "metadata": {
        "id": "hM6p3YTPgj9v",
        "colab_type": "code",
        "colab": {
          "base_uri": "https://localhost:8080/",
          "height": 195
        },
        "outputId": "9adc627a-c39c-4f08-a8f9-d2ab6b15df5d"
      },
      "source": [
        "small_df = movies[['title', 'release_date', 'budget', 'revenue', 'runtime']]\n",
        "small_df.head()"
      ],
      "execution_count": 101,
      "outputs": [
        {
          "output_type": "execute_result",
          "data": {
            "text/html": [
              "<div>\n",
              "<style scoped>\n",
              "    .dataframe tbody tr th:only-of-type {\n",
              "        vertical-align: middle;\n",
              "    }\n",
              "\n",
              "    .dataframe tbody tr th {\n",
              "        vertical-align: top;\n",
              "    }\n",
              "\n",
              "    .dataframe thead th {\n",
              "        text-align: right;\n",
              "    }\n",
              "</style>\n",
              "<table border=\"1\" class=\"dataframe\">\n",
              "  <thead>\n",
              "    <tr style=\"text-align: right;\">\n",
              "      <th></th>\n",
              "      <th>title</th>\n",
              "      <th>release_date</th>\n",
              "      <th>budget</th>\n",
              "      <th>revenue</th>\n",
              "      <th>runtime</th>\n",
              "    </tr>\n",
              "  </thead>\n",
              "  <tbody>\n",
              "    <tr>\n",
              "      <th>0</th>\n",
              "      <td>Toy Story</td>\n",
              "      <td>30-10-1995</td>\n",
              "      <td>30000000</td>\n",
              "      <td>373554033</td>\n",
              "      <td>81</td>\n",
              "    </tr>\n",
              "    <tr>\n",
              "      <th>1</th>\n",
              "      <td>Jumanji</td>\n",
              "      <td>15-12-1995</td>\n",
              "      <td>65000000</td>\n",
              "      <td>262797249</td>\n",
              "      <td>104</td>\n",
              "    </tr>\n",
              "    <tr>\n",
              "      <th>2</th>\n",
              "      <td>Grumpier Old Men</td>\n",
              "      <td>22-12-1995</td>\n",
              "      <td>0</td>\n",
              "      <td>0</td>\n",
              "      <td>101</td>\n",
              "    </tr>\n",
              "    <tr>\n",
              "      <th>3</th>\n",
              "      <td>Waiting to Exhale</td>\n",
              "      <td>22-12-1995</td>\n",
              "      <td>16000000</td>\n",
              "      <td>81452156</td>\n",
              "      <td>127</td>\n",
              "    </tr>\n",
              "    <tr>\n",
              "      <th>4</th>\n",
              "      <td>Father of the Bride Part II</td>\n",
              "      <td>10-02-1995</td>\n",
              "      <td>0</td>\n",
              "      <td>76578911</td>\n",
              "      <td>106</td>\n",
              "    </tr>\n",
              "  </tbody>\n",
              "</table>\n",
              "</div>"
            ],
            "text/plain": [
              "                         title release_date    budget    revenue  runtime\n",
              "0                    Toy Story   30-10-1995  30000000  373554033       81\n",
              "1                      Jumanji   15-12-1995  65000000  262797249      104\n",
              "2             Grumpier Old Men   22-12-1995         0          0      101\n",
              "3            Waiting to Exhale   22-12-1995  16000000   81452156      127\n",
              "4  Father of the Bride Part II   10-02-1995         0   76578911      106"
            ]
          },
          "metadata": {
            "tags": []
          },
          "execution_count": 101
        }
      ]
    },
    {
      "cell_type": "markdown",
      "metadata": {
        "id": "eAlUwEM6gBU8",
        "colab_type": "text"
      },
      "source": [
        "**Get those movies whose revenue more than 2 million and spent less than 1 million**"
      ]
    },
    {
      "cell_type": "code",
      "metadata": {
        "id": "jrTKyhffgC1R",
        "colab_type": "code",
        "colab": {
          "base_uri": "https://localhost:8080/",
          "height": 118
        },
        "outputId": "e7fa021e-8a68-418d-f7a9-77b6de144214"
      },
      "source": [
        "small_df = movies[['title', 'release_date', 'budget', 'revenue', 'runtime']]\n",
        "result = small_df[(small_df['revenue'].astype(int) > 20000000) & (small_df['budget'] < 10000000)]\n",
        "print(\"Movies, revenue more than 2 million and spent less than 1 million:\")\n",
        "print(result.head())"
      ],
      "execution_count": 123,
      "outputs": [
        {
          "output_type": "stream",
          "text": [
            "Movies, revenue more than 2 million and spent less than 1 million:\n",
            "                          title release_date   budget    revenue  runtime\n",
            "4   Father of the Bride Part II   10-02-1995        0   76578911      106\n",
            "24            Leaving Las Vegas   27-10-1995  3600000   49800000      112\n",
            "29              Dangerous Minds   11-08-1995        0  180000000       99\n",
            "48           The Usual Suspects   19-07-1995  6000000   23341568      106\n"
          ],
          "name": "stdout"
        }
      ]
    }
  ]
}